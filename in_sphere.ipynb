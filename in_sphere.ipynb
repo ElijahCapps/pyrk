{
 "metadata": {
  "name": ""
 },
 "nbformat": 3,
 "nbformat_minor": 0,
 "worksheets": [
  {
   "cells": [
    {
     "cell_type": "code",
     "collapsed": false,
     "input": [
      "def in_sphere(coord, radius, position):\n",
      "    x0=position[0]\n",
      "    y0=position[1]\n",
      "    z0=position[2]\n",
      "    rsq = (coord[0]-x0)**2 + (coord[1]-y0)**2 + (coord[2]-z0)**2\n",
      "    if (rsq <= radius**2):\n",
      "        return True\n",
      "    else:\n",
      "        retur False"
     ],
     "language": "python",
     "metadata": {},
     "outputs": [],
     "prompt_number": 16
    },
    {
     "cell_type": "code",
     "collapsed": false,
     "input": [
      "print \"Truths:\"\n",
      "in_sphere([3,3,3],3,[3,3,3])\n",
      "in_sphere([3,3,2],3,[3,3,3])\n",
      "in_sphere([2,3,2],3,[3,3,3])\n",
      "in_sphere([2,2,2],3,[3,3,3])\n",
      "in_sphere([2,1,2],3,[3,3,3])\n",
      "in_sphere([2,1,3],3,[3,3,3])\n",
      "in_sphere([3,3,5],3,[3,3,3])\n",
      "in_sphere([3,3,6],3,[3,3,3])\n",
      "in_sphere([3,6,3],3,[3,3,3])\n",
      "print \"Now, falsehoods : \"\n",
      "in_sphere([3,7,3],3,[3,3,3])\n",
      "in_sphere([3,7,3],3,[3,3,3])"
     ],
     "language": "python",
     "metadata": {},
     "outputs": [
      {
       "output_type": "stream",
       "stream": "stdout",
       "text": [
        "Truths:\n",
        "True\n",
        "True\n",
        "True\n",
        "True\n",
        "True\n",
        "True\n",
        "True\n",
        "True\n",
        "True\n",
        "Now, falsehoods : \n",
        "False\n",
        "False\n"
       ]
      }
     ],
     "prompt_number": 17
    },
    {
     "cell_type": "code",
     "collapsed": false,
     "input": [],
     "language": "python",
     "metadata": {},
     "outputs": []
    }
   ],
   "metadata": {}
  }
 ]
}