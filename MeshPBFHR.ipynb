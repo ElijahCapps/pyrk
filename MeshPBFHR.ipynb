{
 "metadata": {
  "name": ""
 },
 "nbformat": 3,
 "nbformat_minor": 0,
 "worksheets": [
  {
   "cells": [
    {
     "cell_type": "markdown",
     "metadata": {},
     "source": [
      "# Building a Mesh of the PBFHR\n",
      "\n",
      "The PBFHR design document will define the dimensions for mesh generation of the core of the PBFHR. This mesh and the materials described will be used to inform Serpent, MCNP, and MOOSE analyses of the PBFHR neutronics."
     ]
    },
    {
     "cell_type": "code",
     "collapsed": false,
     "input": [
      "import numpy as np\n",
      "from pyne import mesh, material \n",
      "from pyne.xs.channels import sigma_t\n",
      "from yt.config import ytcfg; ytcfg[\"yt\",\"suppressStreamLogging\"] = \"True\"\n",
      "from yt.mods import *\n",
      "from reactor_element import *"
     ],
     "language": "python",
     "metadata": {},
     "outputs": [],
     "prompt_number": 28
    },
    {
     "cell_type": "code",
     "collapsed": false,
     "input": [
      "def in_sphere(coord, radius, position):\n",
      "    x0=position[0]\n",
      "    y0=position[1]\n",
      "    z0=position[2]\n",
      "    rsq = (coord[0]-x0)**2 + (coord[1]-y0)**2 + (coord[2]-z0)**2\n",
      "    if (rsq <= radius**2):\n",
      "        return True\n",
      "    else:\n",
      "        return False\n",
      "    \n",
      "def add_sphere(m, radius, position, material):\n",
      "    for i, mat, ve in m:\n",
      "        coord = m.mesh.getVtxCoords(ve)\n",
      "        if in_sphere(coord,radius,position):\n",
      "            m.mats[i] = material "
     ],
     "language": "python",
     "metadata": {},
     "outputs": [],
     "prompt_number": 29
    },
    {
     "cell_type": "markdown",
     "metadata": {},
     "source": [
      "## Core Geometry\n",
      "\n",
      "The vessel has :\n",
      "\n",
      "* an outer graphite reflector, \n",
      "* an annular core full of pebbles, \n",
      "* salt, and control elements, \n",
      "* and a central cylindrical reflector.\n",
      "\n",
      "For simplicity, the mesh will represent the reactor vessel as a cube. The outer reflector blocks will occupy the space outside the cylindrical core. The core has five regions. From the bottom up, there is a fuelling chute, an expasion region, the core, the compression region, and a defuelling chute. All are full of pebbles and salt."
     ]
    },
    {
     "cell_type": "code",
     "collapsed": false,
     "input": [
      "def slant_r(pt1, pt2, z):\n",
      "    r1, z1 = pt1\n",
      "    r2, z2 = pt2\n",
      "    r = (float((r2-r1))/float((z2-z1)))*z + r1\n",
      "    \n",
      "def inner_radius(z):\n",
      "    # fueling chute\n",
      "    if z <= 1.118 : \n",
      "        return 0.45\n",
      "    # expansion region\n",
      "    elif z <=1.12912:\n",
      "        return slant_r([1.118,0.45],[1.12912,0.35],z)\n",
      "    # core\n",
      "    elif z <= 4.148:\n",
      "        return 0.35\n",
      "    # compression\n",
      "    elif z <= 4.77154:\n",
      "        return slant_r([4.148,0.35],[4.77154,0.71],z)\n",
      "    # defueling\n",
      "    else :\n",
      "        return 0.71\n",
      "    \n",
      "def outer_radius(z):\n",
      "       # fueling chute\n",
      "    if z <= 1.118 : \n",
      "        return 0.8574\n",
      "    # expansion region\n",
      "    elif z <=1.648:\n",
      "        return slant_r([1.118,0.8574],[1.648,1.25],z)\n",
      "    # core\n",
      "    elif z <= 4.148:\n",
      "        return 1.25\n",
      "    # compression\n",
      "    elif z <= 4.77154:\n",
      "        return slant_r([4.148,1.25],[4.77154,0.89],z)\n",
      "    # defueling\n",
      "    else :\n",
      "        return 0.89\n",
      "\n",
      "height = 5.7715\n",
      "total_radius = 1.65"
     ],
     "language": "python",
     "metadata": {},
     "outputs": [],
     "prompt_number": 33
    },
    {
     "cell_type": "markdown",
     "metadata": {},
     "source": [
      "## Material 1 : Flibe \n",
      "\n",
      "\"A key issue for the use of flibe is the requirement to use lithium that has been enriched from the natural concentration of 92.4% to approximately 99.995% 7Li. The U.S. ceased production of enriched lithium in the 1960s after producing a large inventory of 6Li and a smaller inventory of 7Li.\"\n",
      "\n",
      "\n",
      "### Isotopic Composition\n",
      "\n",
      "The composition of the flibe coolant is Li2 Be F4 with 99.995% enriched 7Li. \n",
      "\n",
      "* That means 7Li= 99.995% and 6Li=0.005%\n",
      "* F natural abundance = 100% 19F\n",
      "* Be natural abundance = 100% 9Be\n",
      "\n",
      "\n",
      "### From Yousry Gohar ( http://aries.ucsd.edu/LIB/MEETINGS/0103-TRANSMUT/gohar/Gohar-present.pdf ): \n",
      "\n",
      "Physical Properties \n",
      "\n",
      "* Melting point, \u00b0C 459.1 \n",
      "* Thermal conductivity, W/cm. \u00b0C 0.010 \n",
      "* Viscosity, centipoises 0.116 exp [3755/T(\u00b0k)] \n",
      "* Electrical conductivity at 500 , ohm-1cm-1 9.2 10-3 \n",
      "* Heat capacity, cal/g. \u00b0C 0.57 \n",
      "* Density, g/cm3 2.214 - 4.2 x 10-4 T(\u00b0C) \n"
     ]
    },
    {
     "cell_type": "code",
     "collapsed": false,
     "input": [
      "flibe = material.from_atom_frac({'F19': 2./3., \n",
      "                                 'Li6': 0.00005/3., \n",
      "                                 'Li7': 0.99995/3., \n",
      "                                 'Be9':1./6.}, \n",
      "                                mass=1.0, \n",
      "                                density=2.214)"
     ],
     "language": "python",
     "metadata": {},
     "outputs": [],
     "prompt_number": 6
    },
    {
     "cell_type": "markdown",
     "metadata": {},
     "source": [
      "## Fuel\n",
      "\n",
      "The fuel is a composite material made of triso pebbles. The composite material composition depends heavily on the triso packing density and the enrichment of the uranium. \n",
      "\n",
      "The canonical makeup of the Triso kernels is $$UC_{0.5}O_{1.5}$$. The kernels are embedded in a graphite matrix. The fuel and graphite matrix exists in an annular shell around a pure graphite core.\n",
      "\n",
      "\n",
      "### From PB-FHR-DESIGN-CALC-002-00-Reactivity-Effect-Flibe-Impurities.pdf\n",
      "\n",
      "> The FHR pebble unit cell transport model is composed of 3cm OD TRISO\n",
      "> pebbles in a BCC lattice with mirror reflection and 40% flibe by volume.\n",
      "> The 500\u03bcm OD fuel kernels are composed of UO1.5C0.5 enriched to 19.9%\n",
      "> 235U. Kernels are spaced to bring about a 300 carbon-to-heavy-metal\n",
      "> atomic ratio within the pebble. All material cross-sections are\n",
      "> broadened to 900K except the graphite thermal scattering kernels, which\n",
      "> are broadened to 1000K. 6Li is depleted to 50wppm on a lithium mass\n",
      "> basis within the flibe. The MCNP input file for the clean salt is\n",
      "> included in Appendix A.\n",
      "\n"
     ]
    },
    {
     "cell_type": "markdown",
     "metadata": {},
     "source": [
      "### Pebble Geometry\n",
      "\n",
      "The pebbles are 3.0 cm in diameter. "
     ]
    },
    {
     "cell_type": "code",
     "collapsed": false,
     "input": [
      "d_pebble = 0.03 # [m]\n",
      "r_pebble = d_pebble/2. # [m]\n",
      "d_pebble_core = 0.025 # [m]\n",
      "r_pebble_core = d_pebble_core/2. # [m]"
     ],
     "language": "python",
     "metadata": {},
     "outputs": [],
     "prompt_number": 7
    },
    {
     "cell_type": "markdown",
     "metadata": {},
     "source": [
      "### CHM \n",
      "\n",
      "The carbon to heavy metal atomic ratio is taken to be about 300. In many of Tommy's calculations, it is 300.8.\n",
      "\n"
     ]
    },
    {
     "cell_type": "code",
     "collapsed": false,
     "input": [
      "chm = 300.8 # [carbon atoms / heavy metal atoms]"
     ],
     "language": "python",
     "metadata": {},
     "outputs": [],
     "prompt_number": 8
    },
    {
     "cell_type": "markdown",
     "metadata": {},
     "source": [
      "\n",
      "### Kernel Diameter \n",
      "\n",
      "$$d_{kernel} = [400,500] \\mu m$$\n"
     ]
    },
    {
     "cell_type": "code",
     "collapsed": false,
     "input": [
      "d_kernel_um = 500 # [micrometers]\n",
      "d_kernel = d_kernel_um*1e-6 # [m]\n",
      "r_kernel = d_kernel/2. # [m]"
     ],
     "language": "python",
     "metadata": {},
     "outputs": [],
     "prompt_number": 35
    },
    {
     "cell_type": "markdown",
     "metadata": {},
     "source": [
      "\n",
      "### Pebble lattice\n",
      "\n",
      "The pebbles are in a BCC lattice with 40% flibe volume fraction."
     ]
    },
    {
     "cell_type": "code",
     "collapsed": false,
     "input": [
      "fuel = material.from_atom_frac({'U235': 0.045, \n",
      "                                'U238': 0.955, \n",
      "                                'O16': 2.0}, \n",
      "                               mass=1.0, \n",
      "                               density=10.7)"
     ],
     "language": "python",
     "metadata": {},
     "outputs": [],
     "prompt_number": 36
    },
    {
     "cell_type": "code",
     "collapsed": false,
     "input": [
      "graphite = material.from_atom_frac({'C12': 0.989, \n",
      "                                    'C13': 0.011}, \n",
      "                                   mass=1.0, \n",
      "                                   density=2.267)"
     ],
     "language": "python",
     "metadata": {},
     "outputs": [],
     "prompt_number": 37
    },
    {
     "cell_type": "code",
     "collapsed": false,
     "input": [
      "m = mesh.Mesh(structured_coords=[np.linspace(0.0, total_radius, 101), np.linspace(0.0, height, 101), [0.0, 1.0]], structured=True)\n",
      "for i, mat, ve in m:\n",
      "    m.mats[i] = graphite\n",
      "    \n",
      "centroids = [[0,0,0.5],\n",
      "             [0.25,0.25,0.5],\n",
      "             [0.5,0.5,0.5],\n",
      "             [0.75,0.75,0.5],\n",
      "             [1.0,1.0,0.5]]\n",
      "\n",
      "for centroid in centroids :\n",
      "    pebble = Sphere(0.1, centroid)\n",
      "    pebble.add_element(m,fuel)\n",
      "    pebble_core = Sphere(0.08, centroid)\n",
      "    pebble_core.add_element(m,graphite)\n",
      "    \n",
      "\n"
     ],
     "language": "python",
     "metadata": {},
     "outputs": [],
     "prompt_number": 38
    },
    {
     "cell_type": "code",
     "collapsed": false,
     "input": [
      "m.sigma_t = mesh.ComputedTag(lambda mesh, i: sigma_t(mesh.mats[i], group_struct=[10.0, 1e-6], phi_g=[1.0])[0])\n",
      "m.u_mass = mesh.ComputedTag(lambda mesh, i: max(mesh.mats[i]['U':'Np'].mass, 0.0))\n",
      "SlicePlot(PyneMoabHex8StaticOutput(m), 'z', 'sigma_t', origin='native').display()\n",
      "print \"Pu Content of Mesh:\", sum(m.u_mass[:])"
     ],
     "language": "python",
     "metadata": {},
     "outputs": [
      {
       "html": [
        "<img src=\"data:image/png;base64,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\"><br>"
       ],
       "metadata": {},
       "output_type": "display_data",
       "text": [
        "<yt.visualization.plot_window.AxisAlignedSlicePlot at 0x10e3104d0>"
       ]
      },
      {
       "output_type": "stream",
       "stream": "stdout",
       "text": [
        "Pu Content of Mesh: "
       ]
      },
      {
       "output_type": "stream",
       "stream": "stdout",
       "text": [
        "43.1924016304\n"
       ]
      }
     ],
     "prompt_number": 39
    },
    {
     "cell_type": "code",
     "collapsed": false,
     "input": [],
     "language": "python",
     "metadata": {},
     "outputs": [],
     "prompt_number": 39
    },
    {
     "cell_type": "code",
     "collapsed": false,
     "input": [],
     "language": "python",
     "metadata": {},
     "outputs": []
    }
   ],
   "metadata": {}
  }
 ]
}