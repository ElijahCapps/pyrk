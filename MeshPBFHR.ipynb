{
 "metadata": {
  "name": ""
 },
 "nbformat": 3,
 "nbformat_minor": 0,
 "worksheets": [
  {
   "cells": [
    {
     "cell_type": "markdown",
     "metadata": {},
     "source": [
      "# Building a Mesh of the PBFHR\n",
      "\n",
      "The PBFHR design document will define the dimensions for mesh generation of the core of the PBFHR. This mesh and the materials described will be used to inform Serpent, MCNP, and MOOSE analyses of the PBFHR neutronics."
     ]
    },
    {
     "cell_type": "code",
     "collapsed": false,
     "input": [
      "import numpy as np\n",
      "from pyne import mesh, material \n",
      "from pyne.xs.channels import sigma_t\n",
      "from yt.config import ytcfg; ytcfg[\"yt\",\"suppressStreamLogging\"] = \"True\"\n",
      "from yt.mods import *\n",
      "from reactor_element import *"
     ],
     "language": "python",
     "metadata": {},
     "outputs": [
      {
       "output_type": "stream",
       "stream": "stderr",
       "text": [
        "/Users/khuff/anaconda/lib/python2.7/site-packages/pyne/mesh.py:12: VnVWarning: pyne.mesh is not yet V&V compliant.\n",
        "  warn(__name__ + \" is not yet V&V compliant.\", VnVWarning)\n",
        "/Users/khuff/anaconda/lib/python2.7/site-packages/pyne/mesh.py:18: VnVWarning: the PyTAPS optional dependency could not be imported. Some aspects of the mesh module may be incomplete.\n",
        "  \"Some aspects of the mesh module may be incomplete.\", VnVWarning)\n"
       ]
      },
      {
       "ename": "ImportError",
       "evalue": "dlopen(/Users/khuff/anaconda/lib/python2.7/site-packages/pyne/material.so, 2): Library not loaded: @loader_path/../../../libhdf5.7.dylib\n  Referenced from: /Users/khuff/anaconda/lib/python2.7/site-packages/pyne/material.so\n  Reason: image not found",
       "output_type": "pyerr",
       "traceback": [
        "\u001b[0;31m---------------------------------------------------------------------------\u001b[0m\n\u001b[0;31mImportError\u001b[0m                               Traceback (most recent call last)",
        "\u001b[0;32m<ipython-input-1-8b1ce18de60c>\u001b[0m in \u001b[0;36m<module>\u001b[0;34m()\u001b[0m\n\u001b[1;32m      1\u001b[0m \u001b[0;32mimport\u001b[0m \u001b[0mnumpy\u001b[0m \u001b[0;32mas\u001b[0m \u001b[0mnp\u001b[0m\u001b[0;34m\u001b[0m\u001b[0m\n\u001b[0;32m----> 2\u001b[0;31m \u001b[0;32mfrom\u001b[0m \u001b[0mpyne\u001b[0m \u001b[0;32mimport\u001b[0m \u001b[0mmesh\u001b[0m\u001b[0;34m,\u001b[0m \u001b[0mmaterial\u001b[0m\u001b[0;34m\u001b[0m\u001b[0m\n\u001b[0m\u001b[1;32m      3\u001b[0m \u001b[0;32mfrom\u001b[0m \u001b[0mpyne\u001b[0m\u001b[0;34m.\u001b[0m\u001b[0mxs\u001b[0m\u001b[0;34m.\u001b[0m\u001b[0mchannels\u001b[0m \u001b[0;32mimport\u001b[0m \u001b[0msigma_t\u001b[0m\u001b[0;34m\u001b[0m\u001b[0m\n\u001b[1;32m      4\u001b[0m \u001b[0;32mfrom\u001b[0m \u001b[0myt\u001b[0m\u001b[0;34m.\u001b[0m\u001b[0mconfig\u001b[0m \u001b[0;32mimport\u001b[0m \u001b[0mytcfg\u001b[0m\u001b[0;34m;\u001b[0m \u001b[0mytcfg\u001b[0m\u001b[0;34m[\u001b[0m\u001b[0;34m\"yt\"\u001b[0m\u001b[0;34m,\u001b[0m\u001b[0;34m\"suppressStreamLogging\"\u001b[0m\u001b[0;34m]\u001b[0m \u001b[0;34m=\u001b[0m \u001b[0;34m\"True\"\u001b[0m\u001b[0;34m\u001b[0m\u001b[0m\n\u001b[1;32m      5\u001b[0m \u001b[0;32mfrom\u001b[0m \u001b[0myt\u001b[0m\u001b[0;34m.\u001b[0m\u001b[0mmods\u001b[0m \u001b[0;32mimport\u001b[0m \u001b[0;34m*\u001b[0m\u001b[0;34m\u001b[0m\u001b[0m\n",
        "\u001b[0;32m/Users/khuff/anaconda/lib/python2.7/site-packages/pyne/mesh.py\u001b[0m in \u001b[0;36m<module>\u001b[0;34m()\u001b[0m\n\u001b[1;32m     18\u001b[0m          \"Some aspects of the mesh module may be incomplete.\", VnVWarning)\n\u001b[1;32m     19\u001b[0m \u001b[0;34m\u001b[0m\u001b[0m\n\u001b[0;32m---> 20\u001b[0;31m \u001b[0;32mfrom\u001b[0m \u001b[0mpyne\u001b[0m\u001b[0;34m.\u001b[0m\u001b[0mmaterial\u001b[0m \u001b[0;32mimport\u001b[0m \u001b[0mMaterial\u001b[0m\u001b[0;34m,\u001b[0m \u001b[0mMaterialLibrary\u001b[0m\u001b[0;34m,\u001b[0m \u001b[0mMultiMaterial\u001b[0m\u001b[0;34m\u001b[0m\u001b[0m\n\u001b[0m\u001b[1;32m     21\u001b[0m \u001b[0;34m\u001b[0m\u001b[0m\n\u001b[1;32m     22\u001b[0m \u001b[0;32mif\u001b[0m \u001b[0msys\u001b[0m\u001b[0;34m.\u001b[0m\u001b[0mversion_info\u001b[0m\u001b[0;34m[\u001b[0m\u001b[0;36m0\u001b[0m\u001b[0;34m]\u001b[0m \u001b[0;34m>\u001b[0m \u001b[0;36m2\u001b[0m\u001b[0;34m:\u001b[0m\u001b[0;34m\u001b[0m\u001b[0m\n",
        "\u001b[0;31mImportError\u001b[0m: dlopen(/Users/khuff/anaconda/lib/python2.7/site-packages/pyne/material.so, 2): Library not loaded: @loader_path/../../../libhdf5.7.dylib\n  Referenced from: /Users/khuff/anaconda/lib/python2.7/site-packages/pyne/material.so\n  Reason: image not found"
       ]
      }
     ],
     "prompt_number": 1
    },
    {
     "cell_type": "code",
     "collapsed": false,
     "input": [
      "def in_sphere(coord, radius, position):\n",
      "    x0=position[0]\n",
      "    y0=position[1]\n",
      "    z0=position[2]\n",
      "    rsq = (coord[0]-x0)**2 + (coord[1]-y0)**2 + (coord[2]-z0)**2\n",
      "    if (rsq <= radius**2):\n",
      "        return True\n",
      "    else:\n",
      "        return False\n",
      "    \n",
      "def add_sphere(m, radius, position, material):\n",
      "    for i, mat, ve in m:\n",
      "        coord = m.mesh.getVtxCoords(ve)\n",
      "        if in_sphere(coord,radius,position):\n",
      "            m.mats[i] = material "
     ],
     "language": "python",
     "metadata": {},
     "outputs": []
    },
    {
     "cell_type": "markdown",
     "metadata": {},
     "source": [
      "## Core Geometry\n",
      "\n",
      "The vessel has :\n",
      "\n",
      "* an outer graphite reflector, \n",
      "* an annular core full of pebbles, \n",
      "* salt, and control elements, \n",
      "* and a central cylindrical reflector.\n",
      "\n",
      "For simplicity, the mesh will represent the reactor vessel as a cube. The outer reflector blocks will occupy the space outside the cylindrical core. The core has five regions. From the bottom up, there is a fuelling chute, an expasion region, the core, the compression region, and a defuelling chute. All are full of pebbles and salt."
     ]
    },
    {
     "cell_type": "code",
     "collapsed": false,
     "input": [
      "def slant_r(pt1, pt2, z):\n",
      "    r1, z1 = pt1\n",
      "    r2, z2 = pt2\n",
      "    r = (float((r2-r1))/float((z2-z1)))*z + r1\n",
      "    \n",
      "def inner_radius(z):\n",
      "    # fueling chute\n",
      "    if z <= 1.118 : \n",
      "        return 0.45\n",
      "    # expansion region\n",
      "    elif z <=1.12912:\n",
      "        return slant_r([1.118,0.45],[1.12912,0.35],z)\n",
      "    # core\n",
      "    elif z <= 4.148:\n",
      "        return 0.35\n",
      "    # compression\n",
      "    elif z <= 4.77154:\n",
      "        return slant_r([4.148,0.35],[4.77154,0.71],z)\n",
      "    # defueling\n",
      "    else :\n",
      "        return 0.71\n",
      "    \n",
      "def outer_radius(z):\n",
      "       # fueling chute\n",
      "    if z <= 1.118 : \n",
      "        return 0.8574\n",
      "    # expansion region\n",
      "    elif z <=1.648:\n",
      "        return slant_r([1.118,0.8574],[1.648,1.25],z)\n",
      "    # core\n",
      "    elif z <= 4.148:\n",
      "        return 1.25\n",
      "    # compression\n",
      "    elif z <= 4.77154:\n",
      "        return slant_r([4.148,1.25],[4.77154,0.89],z)\n",
      "    # defueling\n",
      "    else :\n",
      "        return 0.89\n",
      "\n",
      "height = 5.7715\n",
      "total_radius = 1.65"
     ],
     "language": "python",
     "metadata": {},
     "outputs": []
    },
    {
     "cell_type": "markdown",
     "metadata": {},
     "source": [
      "## Material 1 : Flibe \n",
      "\n",
      "\"A key issue for the use of flibe is the requirement to use lithium that has been enriched from the natural concentration of 92.4% to approximately 99.995% 7Li. The U.S. ceased production of enriched lithium in the 1960s after producing a large inventory of 6Li and a smaller inventory of 7Li.\"\n",
      "\n",
      "\n",
      "### Isotopic Composition\n",
      "\n",
      "The composition of the flibe coolant is Li2 Be F4 with 99.995% enriched 7Li. \n",
      "\n",
      "* That means 7Li= 99.995% and 6Li=0.005%\n",
      "* F natural abundance = 100% 19F\n",
      "* Be natural abundance = 100% 9Be\n",
      "\n",
      "\n",
      "### From Yousry Gohar ( http://aries.ucsd.edu/LIB/MEETINGS/0103-TRANSMUT/gohar/Gohar-present.pdf ): \n",
      "\n",
      "Physical Properties \n",
      "\n",
      "* Melting point, \u00b0C 459.1 \n",
      "* Thermal conductivity, W/cm. \u00b0C 0.010 \n",
      "* Viscosity, centipoises 0.116 exp [3755/T(\u00b0k)] \n",
      "* Electrical conductivity at 500 , ohm-1cm-1 9.2 10-3 \n",
      "* Heat capacity, cal/g. \u00b0C 0.57 \n",
      "* Density, g/cm3 2.214 - 4.2 x 10-4 T(\u00b0C) \n"
     ]
    },
    {
     "cell_type": "code",
     "collapsed": false,
     "input": [
      "flibe = material.from_atom_frac({'F19': 2./3., \n",
      "                                 'Li6': 0.00005/3., \n",
      "                                 'Li7': 0.99995/3., \n",
      "                                 'Be9':1./6.}, \n",
      "                                mass=1.0, \n",
      "                                density=2.214)"
     ],
     "language": "python",
     "metadata": {},
     "outputs": []
    },
    {
     "cell_type": "markdown",
     "metadata": {},
     "source": [
      "## Fuel\n",
      "\n",
      "The fuel is a composite material made of triso pebbles. The composite material composition depends heavily on the triso packing density and the enrichment of the uranium. \n",
      "\n",
      "The canonical makeup of the Triso kernels is $$UC_{0.5}O_{1.5}$$. The kernels are embedded in a graphite matrix. The fuel and graphite matrix exists in an annular shell around a pure graphite core.\n",
      "\n",
      "\n",
      "### From PB-FHR-DESIGN-CALC-002-00-Reactivity-Effect-Flibe-Impurities.pdf\n",
      "\n",
      "> The FHR pebble unit cell transport model is composed of 3cm OD TRISO\n",
      "> pebbles in a BCC lattice with mirror reflection and 40% flibe by volume.\n",
      "> The 500\u03bcm OD fuel kernels are composed of UO1.5C0.5 enriched to 19.9%\n",
      "> 235U. Kernels are spaced to bring about a 300 carbon-to-heavy-metal\n",
      "> atomic ratio within the pebble. All material cross-sections are\n",
      "> broadened to 900K except the graphite thermal scattering kernels, which\n",
      "> are broadened to 1000K. 6Li is depleted to 50wppm on a lithium mass\n",
      "> basis within the flibe. The MCNP input file for the clean salt is\n",
      "> included in Appendix A.\n",
      "\n"
     ]
    },
    {
     "cell_type": "markdown",
     "metadata": {},
     "source": [
      "### Pebble Geometry\n",
      "\n",
      "The pebbles are 3.0 cm in diameter. "
     ]
    },
    {
     "cell_type": "code",
     "collapsed": false,
     "input": [
      "d_pebble = 0.03 # [m]\n",
      "r_pebble = d_pebble/2. # [m]\n",
      "d_pebble_core = 0.025 # [m]\n",
      "r_pebble_core = d_pebble_core/2. # [m]"
     ],
     "language": "python",
     "metadata": {},
     "outputs": [],
     "prompt_number": 18
    },
    {
     "cell_type": "markdown",
     "metadata": {},
     "source": [
      "### CHM \n",
      "\n",
      "The carbon to heavy metal atomic ratio is taken to be about 300. The base case for many previous neutronics calculations (Cisneros) is a carbon to heavy metal ratio of 300.8.\n",
      "\n"
     ]
    },
    {
     "cell_type": "code",
     "collapsed": false,
     "input": [
      "chm = 300.8 # [carbon atoms / heavy metal atoms]"
     ],
     "language": "python",
     "metadata": {},
     "outputs": [],
     "prompt_number": 19
    },
    {
     "cell_type": "markdown",
     "metadata": {},
     "source": [
      "\n",
      "### Kernel Diameter \n",
      "\n",
      "$$d_{kernel} = [400,500] \\mu m$$\n"
     ]
    },
    {
     "cell_type": "code",
     "collapsed": false,
     "input": [
      "d_kernel_um = 500 # [micrometers]\n",
      "d_kernel = d_kernel_um*1e-6 # [m]\n",
      "r_kernel = d_kernel/2. # [m]"
     ],
     "language": "python",
     "metadata": {},
     "outputs": [],
     "prompt_number": 20
    },
    {
     "cell_type": "markdown",
     "metadata": {},
     "source": [
      "\n",
      "### Pebble lattice\n",
      "\n",
      "The pebbles are in a BCC lattice with 40% flibe volume fraction."
     ]
    },
    {
     "cell_type": "code",
     "collapsed": false,
     "input": [
      "fuel = material.from_atom_frac({'U235': 0.045, \n",
      "                                'U238': 0.955, \n",
      "                                'O16': 2.0}, \n",
      "                               mass=1.0, \n",
      "                               density=10.7)"
     ],
     "language": "python",
     "metadata": {},
     "outputs": [],
     "prompt_number": 21
    },
    {
     "cell_type": "code",
     "collapsed": false,
     "input": [
      "graphite = material.from_atom_frac({'C12': 0.989, \n",
      "                                    'C13': 0.011}, \n",
      "                                   mass=1.0, \n",
      "                                   density=2.267)\n",
      "\n",
      "salt = material.from_atom_frac({'C12': 0.989, \n",
      "                                    'C13': 0.011}, \n",
      "                                   mass=1.0, \n",
      "                                   density=1.267)"
     ],
     "language": "python",
     "metadata": {},
     "outputs": [],
     "prompt_number": 22
    },
    {
     "cell_type": "code",
     "collapsed": false,
     "input": [
      "centers = []\n",
      "centers.append([1,2,3])\n",
      "centers.append([4,5,6])\n",
      "centers.append([7,8,9])\n",
      "centers"
     ],
     "language": "python",
     "metadata": {},
     "outputs": [
      {
       "metadata": {},
       "output_type": "pyout",
       "prompt_number": 16,
       "text": [
        "[[1, 2, 3], [4, 5, 6], [7, 8, 9]]"
       ]
      }
     ],
     "prompt_number": 16
    },
    {
     "cell_type": "code",
     "collapsed": false,
     "input": [
      "m = mesh.Mesh(structured_coords=[np.linspace(0.0, total_radius, 100*total_radius+1), np.linspace(0.0, height, 100*height+1), [0.0, 1.0]], structured=True)\n",
      "for i, mat, ve in m:\n",
      "    m.mats[i] = salt\n",
      "    \n",
      "x_vals = np.linspace(0.0,1.5,4)\n",
      "y_vals = np.linspace(0.0,6.0,13)\n",
      "z_vals = [0.5]\n",
      "\n",
      "auto_centroids = []\n",
      "for x in x_vals:\n",
      "    for y in y_vals:\n",
      "        for z in z_vals:\n",
      "            r=[x,y,z]\n",
      "            auto_centroids.append(r)\n",
      "            \n",
      "centroids = [[0,0,0.5],\n",
      "             [0,0.5,0.5],\n",
      "             [0,1.0,0.5],\n",
      "             [0,1.5,0.5],\n",
      "             [0,2.0,0.5],\n",
      "             [0,2.5,0.5],\n",
      "             [0,3.0,0.5],\n",
      "             [0,3.5,0.5],\n",
      "             [0,4.0,0.5],\n",
      "             [0,4.5,0.5],\n",
      "             [0,5.0,0.5],\n",
      "             [0,5.5,0.5],\n",
      "             [0,6.0,0.5],\n",
      "             [0.5,0.5,0.5],\n",
      "             [0.5,1.0,0.5],\n",
      "             [0.5,1.5,0.5],\n",
      "             [0.5,2.0,0.5],\n",
      "             [0.5,2.5,0.5],\n",
      "             [0.5,3.0,0.5],\n",
      "             [0.5,3.5,0.5],\n",
      "             [0.5,4.0,0.5],\n",
      "             [0.5,4.5,0.5],\n",
      "             [0.5,5.0,0.5],\n",
      "             [0.5,5.5,0.5],\n",
      "             [0.5,6.0,0.5],\n",
      "             [1.0,0.5,0.5],\n",
      "             [1.0,1.0,0.5],\n",
      "             [1.0,1.5,0.5],\n",
      "             [1.0,2.0,0.5],\n",
      "             [1.0,2.5,0.5],\n",
      "             [1.0,3.0,0.5],\n",
      "             [1.0,3.5,0.5],\n",
      "             [1.0,4.0,0.5],\n",
      "             [1.0,4.5,0.5],\n",
      "             [1.0,5.0,0.5],\n",
      "             [1.0,5.5,0.5],\n",
      "             [1.0,6.0,0.5],\n",
      "             [1.5,0.5,0.5],\n",
      "             [1.5,1.0,0.5],\n",
      "             [1.5,1.5,0.5],\n",
      "             [1.5,2.0,0.5],\n",
      "             [1.5,2.5,0.5],\n",
      "             [1.5,3.0,0.5],\n",
      "             [1.5,3.5,0.5],\n",
      "             [1.5,4.0,0.5],\n",
      "             [1.5,4.5,0.5],\n",
      "             [1.5,5.0,0.5],\n",
      "             [1.5,5.5,0.5],\n",
      "             [1.5,6.0,0.5]]\n",
      "\n",
      "for centroid in centroids :\n",
      "    pebble = Sphere(0.2, centroid)\n",
      "    pebble.add_element(m,fuel)\n",
      "    pebble_core = Sphere(0.1, centroid)\n",
      "    pebble_core.add_element(m,graphite)\n",
      "    "
     ],
     "language": "python",
     "metadata": {},
     "outputs": [
      {
       "ename": "NameError",
       "evalue": "name 'total_radius' is not defined",
       "output_type": "pyerr",
       "traceback": [
        "\u001b[0;31m---------------------------------------------------------------------------\u001b[0m\n\u001b[0;31mNameError\u001b[0m                                 Traceback (most recent call last)",
        "\u001b[0;32m<ipython-input-17-93cd85eb29c8>\u001b[0m in \u001b[0;36m<module>\u001b[0;34m()\u001b[0m\n\u001b[0;32m----> 1\u001b[0;31m \u001b[0mm\u001b[0m \u001b[0;34m=\u001b[0m \u001b[0mmesh\u001b[0m\u001b[0;34m.\u001b[0m\u001b[0mMesh\u001b[0m\u001b[0;34m(\u001b[0m\u001b[0mstructured_coords\u001b[0m\u001b[0;34m=\u001b[0m\u001b[0;34m[\u001b[0m\u001b[0mnp\u001b[0m\u001b[0;34m.\u001b[0m\u001b[0mlinspace\u001b[0m\u001b[0;34m(\u001b[0m\u001b[0;36m0.0\u001b[0m\u001b[0;34m,\u001b[0m \u001b[0mtotal_radius\u001b[0m\u001b[0;34m,\u001b[0m \u001b[0;36m100\u001b[0m\u001b[0;34m*\u001b[0m\u001b[0mtotal_radius\u001b[0m\u001b[0;34m+\u001b[0m\u001b[0;36m1\u001b[0m\u001b[0;34m)\u001b[0m\u001b[0;34m,\u001b[0m \u001b[0mnp\u001b[0m\u001b[0;34m.\u001b[0m\u001b[0mlinspace\u001b[0m\u001b[0;34m(\u001b[0m\u001b[0;36m0.0\u001b[0m\u001b[0;34m,\u001b[0m \u001b[0mheight\u001b[0m\u001b[0;34m,\u001b[0m \u001b[0;36m100\u001b[0m\u001b[0;34m*\u001b[0m\u001b[0mheight\u001b[0m\u001b[0;34m+\u001b[0m\u001b[0;36m1\u001b[0m\u001b[0;34m)\u001b[0m\u001b[0;34m,\u001b[0m \u001b[0;34m[\u001b[0m\u001b[0;36m0.0\u001b[0m\u001b[0;34m,\u001b[0m \u001b[0;36m1.0\u001b[0m\u001b[0;34m]\u001b[0m\u001b[0;34m]\u001b[0m\u001b[0;34m,\u001b[0m \u001b[0mstructured\u001b[0m\u001b[0;34m=\u001b[0m\u001b[0mTrue\u001b[0m\u001b[0;34m)\u001b[0m\u001b[0;34m\u001b[0m\u001b[0m\n\u001b[0m\u001b[1;32m      2\u001b[0m \u001b[0;32mfor\u001b[0m \u001b[0mi\u001b[0m\u001b[0;34m,\u001b[0m \u001b[0mmat\u001b[0m\u001b[0;34m,\u001b[0m \u001b[0mve\u001b[0m \u001b[0;32min\u001b[0m \u001b[0mm\u001b[0m\u001b[0;34m:\u001b[0m\u001b[0;34m\u001b[0m\u001b[0m\n\u001b[1;32m      3\u001b[0m     \u001b[0mm\u001b[0m\u001b[0;34m.\u001b[0m\u001b[0mmats\u001b[0m\u001b[0;34m[\u001b[0m\u001b[0mi\u001b[0m\u001b[0;34m]\u001b[0m \u001b[0;34m=\u001b[0m \u001b[0msalt\u001b[0m\u001b[0;34m\u001b[0m\u001b[0m\n\u001b[1;32m      4\u001b[0m \u001b[0;34m\u001b[0m\u001b[0m\n\u001b[1;32m      5\u001b[0m \u001b[0mx_vals\u001b[0m \u001b[0;34m=\u001b[0m \u001b[0mnp\u001b[0m\u001b[0;34m.\u001b[0m\u001b[0mlinspace\u001b[0m\u001b[0;34m(\u001b[0m\u001b[0;36m0.0\u001b[0m\u001b[0;34m,\u001b[0m\u001b[0;36m1.5\u001b[0m\u001b[0;34m,\u001b[0m\u001b[0;36m4\u001b[0m\u001b[0;34m)\u001b[0m\u001b[0;34m\u001b[0m\u001b[0m\n",
        "\u001b[0;31mNameError\u001b[0m: name 'total_radius' is not defined"
       ]
      }
     ],
     "prompt_number": 17
    },
    {
     "cell_type": "code",
     "collapsed": false,
     "input": [
      "#m.sigma_t = mesh.ComputedTag(lambda mesh, i: sigma_t(mesh.mats[i], group_struct=[1.0, 1e-6], phi_g=[1.0])[0])\n",
      "#m.u_mass = mesh.ComputedTag(lambda mesh, i: max(mesh.mats[i]['Th':'Pu'].mass, 0.0))\n",
      "pf = PyneMoabHex8StaticOutput(m)\n",
      "SlicePlot(pf, 'z', 'density', origin='native').display()\n",
      "#print \"Pu Content of Mesh:\", sum(m.u_mass[:])"
     ],
     "language": "python",
     "metadata": {},
     "outputs": [
      {
       "html": [
        "<img src=\"data:image/png;base64,iVBORw0KGgoAAAANSUhEUgAAAWMAAAPoCAYAAAALKp/TAAAABHNCSVQICAgIfAhkiAAAAAlwSFlzAAAPYQAAD2EBqD+naQAAIABJREFUeJzs3Xd4VFX+BvD3zqRNeqWEkBBCCyVIIr0joAgqKnZXVlRUhHXXxrrq/uzYy4oFUYodFTsgoUmvCT2BQEIJkIT0nkySmd8fQxLKZDL3ztyZM8P7eZ48JuGcc89rMt/cueVcyWg0GkFERE6lcfYEiIiIxZiISAgsxkREAmAxJiISAIsxEZEAWIyJiATAYkxEJAAWYyIiAbAYExEJgMWYiEgALMZERAJgMSYiEgCLMRGRAFiMiYgEwGJMRCQAFmMiIgGwGBMRCYDFmIhIACzGREQCYDEmIhIAizERkQBYjImIBMBiTEQkABZjIiIBsBgTEQmAxZiISAAsxkREAmAxJiISAIsxEZEAWIyJiATAYkxEJAAWYyIiAbAYExEJgMWYiEgALMZERAJgMSYiEgCLMRGRAFiMiYgEwGJMRCQAFmMiIgGwGBMRCYDFmIhIACzGREQCYDEmIhIAizERkQBYjImIBMBiTEQkABZjIiIBsBgTEQmAxZiISAAsxkREAmAxJiISAIsxEZEAWIyJiATAYkxEJAAWYyIiAbAYExEJgMWYiEgALMZERAJgMSYiEgCLMRGRAFiMiYgEwGJMRCQAFmMiIgGwGBMRCYDFmIhIACzGREQCYDEmIhIAizERkQBYjImIBMBiTEQkABZjIiIBsBgTEQmAxZiISAAsxkREAmAxJiISAIsxEZEAWIyJiATAYkxEJAAWYyIiAbAYExEJgMWYiEgALMZERAJgMSYiEgCLMRGRAFiMiYgEwGJMRCQAFmMiIgGwGBMRCYDFmIhIACzGREQCYDEmIhIAizERkQBYjImIBMBiTEQkABZjIiIBsBgTEQmAxZiISAAsxkREAmAxJiISAIsxEZEAWIyJiATAYkxEJAAWYyIiAbAYExEJgMWYiEgALMZERAJgMSYiEgCLMRGRAFiMiYgEwGJMRCQAFmMiIgGwGBMRCYDFmIhIACzGREQCYDEmIhIAizERkQBYjImIBMBiTEQkABZjIiIBsBgTEQmAxZiISAAsxkREAmAxJiISAIsxEZEAWIyJiATAYkxEJAAWYyIiAbAYExEJgMWYiEgALMZERAJgMSYiEgCLMRGRAFiMiYgEwGJMRCQAFmMiIgGwGBMRCYDFmIhIACzGREQCYDEmIhIAizERkQBYjImIBMBiTEQkABZjIiIBsBgTEQmAxZiISAAsxkREAmAxJiISAIsxEZEAWIyJiATAYkxEJAAWYyIiAbAYExEJgMWYiEgALMZERAJgMSYiEgCLMRGRAFiMiYgEwGJMRCQAFmMiIgGwGBMRCYDFmIhIACzGREQCYDEmIhIAizERkQBYjImIBMBiTEQkABZjIiIBsBgTEQmAxZiISAAsxkREAmAxJiISAIsxEZEAWIyJiATAYkxEJAAWYyIiAbAYExEJgMWYiEgALMZERAJgMSYiEgCLMRGRAFiMiYgEwGJMRCQAFmMiIgGwGBMRCYDFmIhIACzGREQCYDEmIhIAizERkQBYjImIBMBiTEQkABZjIiIBsBgTEQmAxZiISAAsxkREAmAxJiISAIsxEZEAWIyJiATAYkxEJAAWYyIiAbAYExEJgMWYiEgALMZERAJgMSYiEgCLMRGRAFiMiYgEwGJMRCQAFmMiIgGwGBMRCYDFmIhIACzGREQCYDEmIhIAizERkQBYjImIBMBiTEQkABZjIiIBsBgTEQmAxZiISAAsxkREAmAxJiISAIsxEZEAWIyJiATAYkxEJAAWYyIiAbAYExEJgMWYiEgALMZERAJgMSYiEgCLMRGRAFiMiYgEwGJMRCQAFmMiIgGwGBMRCYDFmIhIACzGREQCYDEmIhIAizERkQBYjImIBMBiTEQkABZjIiIBsBgTEQmAxZiISAAsxkREAmAxJiISAIsxEZEAWIyJiATAYkxEJAAWYyIiAbAYExEJgMWYiEgALMZERAJgMSYiEgCLMRGRAFiMiYgEwGJMRCQAFmMiIgGwGBMRCYDFmIhIACzGREQCYDEmIhIAizERkQBYjImIBMBiTEQkABZjIiIBsBgTEQmAxZiISAAsxkREAmAxJiISAIsxEZEAWIyJiATAYkxEJAAWYyIiAbAYExEJgMWYiEgALMZERAJgMSYiEgCLMRGRAFiMiYgEwGJMRCQAFmMiIgGwGBMRCYDFmIhIACzGREQCYDEmIhKAh7MnQBfKyclBTk6Os6dBpIrq6mrodDqbxwkICEDXrl3tMCNxsBgLJCcnB90iu6ECFc6eCpHwMjIy3KogsxgLJCcnBxWoQCISEYAAu459AAfQG73tOqbaY7vauGqO7Wrjmhs7D3k4hEOYCqCdDePmAlgMoLy83MYZioXFWEABCEAwgu06pic87T6m2mO72rhqju1q45obuxym4tkOQLQqW3RtPIFHRA7lIwE6jfIPH8nZCZplZWXh/vvvx7Jly2wei8WYiEgmo9GIX375BTNnzsSCBQtQW1tr85g8TEFEDuWltW3v1ssIoN5u01FEkiRMnjwZgYGB+PPPP+0yJouxgMa+lYZOcV4AgMdevglDUk7aPGYHdLB5DLljB8VVYtxb6Rb7rt2tQdGLibLGtZW9xs3rVI5H3j184dgbazF4+K6mr9NS+yLtJU+bt+WM/xeFiMWDP/9gsf/20/XInjlI9tjuQqOx38EFFmMBVTyRj7Jzn5/a/yXuThjW9G96o1bRmFGIssPMWh/bS2po+lx3rAZlN5622PeVeH88el6f8/OpNWdbxj0/351tyi7J1wtA2TvFTV8HJ+bAS7q26WvRfn4Xj+ulbQAMps9LOp9t9ed3W28t/ufgn5+7YjEW3LqBpXg2uPnkwM9RQwEAu/eHOWtKZvXrUwgAuPHU5qbvVTQAe8pa6mGyOqPCZfOVpxuxt5V+7fYZXCrfA37bUHDYVFxrC4GdrfTLSGuQnc9LA/holB+n8DIYFfcVGYux4DKrjMisav76muE7AADfNJj2tjqmhcMf+c6YGgAgvafpRfV0rGlem/bLe6GUNwCbipv7XJLvqA7++iqzfR3B1nwV9ZbztTnSDmF1zrvj8uJ8W1Y34GyV9RlrDJbzaTIHoXvtVntN162xGLuYlN/0AICJ4ZsAAAE39cPen3ydNp+JZ03zSEnT22W8i/MZ/K/A8SI/u4ythNr5vpnih7Bvr7DL2EqonW/iHTn4YNGFt3j4nLtETSkf5V2FxkvbXFSXggJ0KSjACwXrsOfGWkgSIDni+stz20nqWYBfrl3eNA97axz3+e5/4bvkjQ7L17idsFuOOyTfkcOn8erQ3Q7/+UkSHJKvT/IO/PjGKtM27b4V661btw6///67E2fQOu4Zu7iPNtRjzX/WQzfDEwajETPHj1F1e3d+uwHDwhqA/Q346LE6VbcFAN9srcfkl8vwYfI6AMCMcaNV3d7jH+5H564FwNEGfPSw+vm+TK1HSNfT+DC5BID6+eLmJuPxbqarOz4ap36+H88Y0XFuDT5MXoef1uiR8prqm7xAamoqnn76aaxatQrPP/88rrvuuhbbZmZm4oUXXsCBAweg0+lQU1ODhx9+GPfff79D5spi7AZWvloNvFqNjjoJ8ZoMpBu6qbKdeE0GpOfK8MuRhtYb29EvG+qBcWVNc1Ar3yi/I9g2oxD70MpZRzsrPtKAXxyQb3CXTIz7sQG/rKtWZfyWZJ80IHtcGRov+PPSAD7KLiox9beiTWlpKebPn4+8vDxs37691fZ79uzByJEjMXnyZOzcuRNarRZbtmzB1VdfjZ07d2LevHlm+zXe7NHQYPtrgocp3Eh2tRGxRsvX9doi1piOAgcXYnNzUMson3T4oVS18a2hZr4BcYex4y/7HBsWXVBQEJ544gm8+eabmDBhgsW2paWluP766+Hl5YWPPvoIWq3pL8WQIUPw5JNPYv78+Vi8ePEl/ZYtW4bXXnsNkiRh/vz5+PXXX22aM4uxm6k3AkfeXWH3cY+8uwL1RsDZFxWpma9M7975GoqMcNOrwizy9va2+O+ffPIJTp06hSlTpsDP78KTxdOmTQMAPPvss6ivv/C2v4kTJ2LdunVoaGhAcnIybrjhBpvmyWLshh75lx5d/Oy3h9fFrxSP/EucPSq18h0oF6NSqZUvY6eT7yE+x1tjuqJC6Ye3navWZ599BgAYNWrUJf8WFRWF2NhYnD59GqtXr7bvhi/CY8YC6tZLi+5+Ek4eaECxjGs+z/e30A1ImdwPv31t211Q1991CkkbdmNzpbL+vlqga5L5X7OMAw2odvF8ANB3QAsvo6wG7C2wLd9XX/dHIJRfh6xmPn2xEelOPmxlq/z8fGRmZkKSJPTs2dNsm969e+PYsWNITk7GNddco9pcWIwF9JX/JAQHhuPp3otxck89ag1Aicydms3ZBnQ+sw+w8ZbUyDP7sDnbILtfkIdpLyY2QMLLQVPNtrkmYAna1ldAbwSKZZ7Y35xtQOcc5+Xz0gAh5149b7eQ77trv0Xud6YbVvJkvrFo/PnlthuEwFzZ02uiNJ+nBISeW1KjpXx33/k12j5lKsZy8nlJpt8Npbzkx2nRwYMHmz7v0MH8WhqRkZGXtFUDi7GA1hV2BqqisE7zXxi6AFd5HsHYvV/KHidrne2XLikdo3ihDs/MeRpaCSjONX/TRnL4bGjDjHh4Qgqi35Z/8iNrrfPy3XRvAGK3PgkAKGshX2TR06jrYtoznpP2X0Vza4iz7WkWSvMdCwzGEx0eA9ByvuRvn4HWhnwiKCoqavo8IMD803UCAwMBAGfPnlV1LjxmLLASgx/KtH7I6xuKUWu6IsRP/mXzfrGVaLDqYiDzfeUK8ZMweUl7vLojHmVaPxRrWr57rlLjizKtHz7L9rUpX52nskMBSvNN+rgDvpwSiTKt6efTkkK9b1Mbpfk6xJRDo3BXUFE+Xwnj/+eLK/7XvdV8lVW252vNCr0Rj1Zc+PGWHe+Or6pqHszT0/zqeo0nACsrbTjWYwUWYxewZXc0ev3zIZT1Gyq779DbN+JMYBtF2x16+0bZfcr6DcWtK25Gzl93Wd2nMP1Km/IFdFW296g037Vf3Y1/PjVdVj+l+Z4c9yf8Qx2Xr9PELrgnMxG3vXWrrH5y8nlrJeis/LhJp8GnQRd+PBNgv6J//pOqL75aolFdnendha+vussOsBi7kIdKb8Rf98n8kc2pRUWEwre6c+Q9veCv+zR4qPRGbE6JVbQ5pfkGBijcVVKY72CZsj9uSvIde7oannkKr/JQkG+acTS2rr1R0eYU/fycrH379k2fV1SYfyp74/fbtm2r6lxc6/8c4df0Z3DPi85bGKgl97zoi1/Tn7F5HOZzjsZ8h47E2TSONfm8z92Bp/TDnpe2xcfHN31+5swZs21yckxXs/Tq1ct+GzaDxdjF6MuDEfDDS7L6+A7PQKXO+rWuyry7YFOCvL3bgB9egr7c9qcMK8l3MDgcuR3HW92+3CPYpfKldO2A9Pby1hxRnM9g2zl9JfmcKSQkBH379oXRaERaWprZNo1XUYwere66ISzGLqr73ZbvKjrfA4u2IbrG+uujbui3ES/ue0+VuagxZuLKZdi01vq91uwYoxD5QnytO/Y5PeMbbAx9Vtb4IuTzCxHoMc4W3H777QCAjRsvPcael5eHjIwMhIWFYfx46//gK8Fi7KKWxMk7waImNeZyOeSLbi/Gy0+tfAE9za8G5GXjHXheMv+3VVebFkYyGMxflTJ9+nRERERgyZIlTW0bLVy4EEajEY8//nirt1XbSozfBpJt/k/OW5D8YmrM5bLIJ8hV/mrlq7flEdB2UlhYiE2bTAvdb9q0yezqaiEhIfjyyy9RXl6OmTNnNl1VsXPnTrz22muYOHEiZs+erfpcBfl1IKLLhbcG0NmwhKa3FXdgGwwGDBgwAIcPH0ZVVRUkScK6desQGRmJYcOGYenSpRe0Hz9+PLZt24ZXXnkFgwYNgq+vLyorK/HSSy9h5syZkByw8j+LMRG5HY1Gg127drXe8Dx9+vTBd999p9KMWsfDFEREAuCeMRE5VOMSmrb0d0duGsv96V953tlTaKLGXC6HfIYiOy4/ZgO18vkcFyOfq+CesYuaf71tq3nZ0/zry4E+KowpCOZTOGYLPDUSvLTKT4h5agDnP5PF/rhn7IJejU6W1X7QEzr4RFr/oz5oNGDQ87rWG9owJ3uONWiaN55f1771hud4F4W6VL6EB31wcrL5FcVa4kr5yITF2AX1SFklq/1bGVehsLTlpRAvdiYtHD+sHKTqnOw51tHybtj0XGer20cV57tUvr+29cb83+VdC+xK+ciExdjFaGBETq68Y3EpB0NRU2H9hZ0e5d5I3xooaxs5uQZo7PDWUUm+0yd9EZxn/RE3b1S4VL5j+/yQt8/8wuctUZrP1stprcqnscOHG3LTWO4l1L8aI6OOY2TUcWQXPiWrb2R3LaRqf0Xbjewu78r87MKnmubp0ybL6n4BwaU25auV9w7+gr5ynJ9v2BXZsvoqztdFCw+Fd7IpyffBbSswMuo4EtueltVXaT5qxhN4oos8gMHRB/F84R4AwC9n5O1V6Xv1RMRPyu6p1/fqCRzeb3X7X84Y8NageQCAPx7Q4KXF18OQNdByp4B8XH3NMsxOOdw0htw5ZqQp+2NjS774630RWDYWhqzBljv5lkDTaSfeqlvbNIYcZwZdgbplPkB1620vpiTfwLXrMTBoA44E+uGu4CEwHm5ltTjvCmjitsrLpwFgwx147roLyWIsuD86L0fqsjzsOKms/zc/dUYYrN9LvbjveFj/YgaAHT+ZnkzZM9cDt5SsxRKt5WI8444l6PzJCew4qOwyqG9+sv5Ysbm+SvOd2l6P1/otx1OwXIwHGM9i0K4/sSNT2Rzf39oL8cWlivoqyrfG9FQLvU6PD7quwExYLsZTBmYi8k/l+agZi7GAtnT4GP2CTX/+9ctrcEJhIe5xKBDJPWybS49DgTjUo0x2v4It9bgpuAiLRj5nsV3Nt3p8o7AQOzPfmdMGJFZWo7qVfJVFBixRWKh6HApESHx7AMqKceMYSvJ5VQNBaQZUT7Scz+NwAz5lIbYLyWg0ut8Fey4qNTUVSUlJmA0g2saxxk1sgyeXtfIW2kpvTtyKVcvUfTKuXMxnPVHy7QCwGEBKJw0SbVjRLbXGiKTjBqSkpCAxMdFu83M2Nz36QvZ6Idt7LHthPueMRephMXZDE16x/zPW1BhTKbXyRXjZfVhF1MoX2UaQl7sE2y5rc/4yyaoQ5KdD9uAhAfd11+K51+3/rK7nXh+N+7pr0V7dhx20Ss18k/t5INzbua90NfNNvNkLVwS5aSVzAyzGbsLoDUTFa3Db4UmoKLP/edmKMg/cdngSqicEIiTY8S9ob52EqmhJ1Xy3bJ+IPSEdENzFluuulPHRQP18H18N3wfCYWjnnIKsD3PKZl0Gi7Eb6NZZi/aDAvF+f3lPBFbi87ok3DzHD/HdHFeweoVJSJjiiR3XdFF9WxlDwlD9WBJ6xTsun85XwvARHg7Jd/PaK1ExuQN6JTruQqpgnYReiR7ITGhr+oZWsv3DDfHSNjfw9Tgjolf1g2697Y+Sb03AskC879UXsT6FAA6pvj0AGDLJB3PSE6Df0U71bdX/1AlfbvLDM7cUAelHVd8eAJQYwvBbSRz0n6qfr0+qFzJO9IZn2w7QYbvq2wOAtn202FWRhPrUOgB5DtmmK2IxdmGrMRkAUP11DYorHHcwd/PP4dihCUcDTBf5jsUvqmynMd+OnxpQUu64N3HBZyvx2eJ41KE3APXyGe69EmsXRsFYI8G4x3Fr/xYVemNjYTtozv3/VSvf2dCh2FcUgQ37jKipAYBzt5DzDjyzWIxdgIcG8D3vxNK4taY9qOTBpkvEvR1YiBvVGYDGNWVv3mpavnLVmNymf6+pNUJvZX3xkABfn5bzObIQN6qt0MBSPmO9EeV11o8XqLs034RbYxCNejhrbV6DhXwNBqCy1vp5mcv3wqMeMOxoLMTUGhZjF+AXKSEyIKbp6wcH93XibC714OABAIBH4/c2fS+k9DS2nLGuWnVqo4FnaPNtLq6Qb9iIHMyfV2v1GB06XfrzMxVi5zOXr7ZGj6xjZ6wew1w+kofFWEArBvnDP/D893GRiEju5rT5WOv99OYXYcjwNsjofdiqfqGIgTZZ/ZOPtjo/3zcJ9yJt/DtW941IFr9AnZ/PEFiBwvGVVveVlc/WZTB5mIIcxftgH+g8mtej1dQJcjeCDKdT20PnFWJV2+p6byhbd815jn9/HLpgeQu4u5RKP+h2unE+AbEYC8i33Av+8HH2NGziWwmg0rUzWOJnLAKK3TefpkGCv1r5eALPLDeNRUTkWliMiYgEwMMURORYPIFnlpvGIiJyLdwzJiLHalxC05b+boh7xkREAmAxJiISAA9TEJFj2boMpuOXm3YIFmMBhUkliJBM6xaED/LAgS3qL42pBi+pHqFSicU2QX5aHC637k490QQH6eFTbvnJy3p/oKgs3EEzsq9KH0/E6XMsttH5SzhWxlXj7YHFWEBXaPai07kdhzvv9sP3us5N/7ZkTecWeonhtquymj7XVlSjNsXymsCjY3ywsW3Xpq9dKV9sYBmO/H7CYnttlAZS+15NXwuf7/ZjQL5ptbZ8Px1Clu+w2L5nhAYZ/WXm4x14ZrEYC6iyASg/9/kfz1XBLzit6d+OzjAtzt3lI7Ge+Ht0xlYAgN/Kwqbv6WuNKG9lYbLNmbXwq3bNfGdrWs/nk2lEeK3r5OuTVYys46a1T/0ajDjVSr6DJwwIhvj5XAGLseBOFxqBwoamrx+cdxYAsMZZE2pB47xONbTS8CKF1UYg033z1dQaccqF8m00AEYZyytX1AMVLpDPFbAYuxjtud/7efF/AAC+GdMNyz8bDr9axz7ORhdUj+iYKjxWtwEAsDTdPuNenO+PiASsPRuMykOBFnrZX43OiL5dy1XPd//QeMT+1R4nj/raZwMydE8ouySfrcvcX5wv5BE/zJibiIJDQc2NeAeeWW4ay/0tTW/A0vQGjC7LwtkJRuSjCwqh/vHIYnREPrqgTYwv7hi7rWke9tY4blJkGu7+Vwry0QX5UP+BnY35Akd6OSTfs3kZGDHgpMPylaNt07YckS/tg0pcf9c25KMLytDW7ttxJ5LRKOdNCakpNTUVSUlJmA0gutXWzXLiJVSl90W8vxF/VHRSaXYmo/sdx8ndEsK9yhCkz2q9gx10jPPEX5mmk0SZiGmltW3aogT+KEV0bCE8j2Wruq1G1QjAGcQBUD/fP249jmXfm84Ox2GPqttq5B+uwd6CBKSjCCtwEikDPJAYqPzSttQyI5J21CMlJQWJiYl2nKlzcc/YDbRPNyIOexCo34uvH1TvaN3XD65Br9P7EYc9DivEAJCdWYc47EEc9qib76m1GB2+CXHY47BCDAA6lDsk39tvrcOY9ANN23KUigID4rAHbXDSYdt0RSzGbqRADyyeV4GRX6y0+9gjv1iJxfMqkHHWcU8xNkfNfOs/KEdRgf3fssuhZr5Dn1bio/3OzUct4wk8N+R9j/0fx6vGmEqple+43UdVRq18lq+IdiCewDPLTWPRE08eEHIse2E+54xF6uGesYCGhwC9PSVsKGr9poKWZH6ehZU97sfVh7bZNJeVPQbhxs9/U9zfQwKujjB/smZTkRGlLp4PACa2MZ/vQLkRJ6qVjdmYb9Shg/BuugVIPjXz5emBXSUKzv9rYNvaFBr3vOaAV1M4gV6vR3JyMiZNmnTB9xuvpkCXfwG6KKzq+jTy9jYANUaUnlZ2rDYZN9g01/H4VVG/gLYaaPwl9AoA+jW8YbbNS4Y5iK0pBmqNKD3lWvmC/CSgnemN5d2+5vOdvvZ5rPuxCgBQmqnsWO37cfcgPrNUUV9AeT6ttwT/KMv5XvzPi+j8bAUA6/LtALAYQMoQDyQGKX9TnlpqQNIWXk1BMtTX1yMmJgYajeaCDx8fH+zYYfmefwBIvnoQ9K+PQJvZCejR2XWWquoRpUH4a97Qvz4Cm58e0WK7+oeHQP/6CES9392l8sVFanDbLF/oXx8B/est53s4qF9TG5fK11aDmEF+reb73+9jXTKfqHiYQkVLlixBdnY2JOnCt2Te3t64//77W+3/5lzTXl+UXxnGRfXElVnfqDJPezt73QD8e3ksThy60mK7F+aNBAB0jsnHyKiTLpNvT8wofHW2I756IcFiu9++vQGNBwjujWrvMvkM//DCxytuxe8v9LLYrmD/EEzbb/pcVj6ewDPLTWOJ4e2338bSpUtRXFx8wUdJSQmio62/reNUZSAWFifh+dt6yJ7DVN/VOBoZKrtfY1+5nr+tBx5OH9VqIT5f1okIm/INSMqX3a+xr1zP39YDLxqvxFc7LRfiiynN91LBz2jvoeyYsZJ8J/7bEffsuAO/l1ouxBdTmo+asRirZNWqVTAYDLjxxhsRGBh4wYeXl5eiMfPTHsDkhZHwk/F+JqeqEnU6Zccrc6oqrW7r5wFMXhiJ/LQHUFIYoWh7SvPpPBybr6pS2W29SvIVlJZD3+C4fL+eGoqCrN6Ktmd1vsYlNJV+uGnVctNYzvfmm2+iqKgIDz/8ML799lsUFxfbZdwO7zwOn+7inbTw6Z6IDu88bvM4zOccjfkO7+xv0zii5nMFLMYq2Lt3L1avXo1Tp05h3rx5uOuuu9CuXTvcd999KCmx/OQLa9yuuUtW+//670S4j/XXWHXrXY7pcfKuTZU7J3uONbzuJK598YjV7XN9I10q3w1RmbhzsOVF+i/mSvnIhMVYBSEhIVi4cCHmzJmDiRMnwtPTE3V1dVi4cCGSkpKQl2f7cpe33e1tdVuPI4egqa+1un2HoAqU51q/9oScuagx5tG0XNx55xmr2xe10QuRr5u/ddfalhecxqh6ees6iJCvXWgL+TR2+HA8im0uAAAgAElEQVRDbhrLuaKjozF16lTMnj0bv//+O06ePIn77rsPAHDs2DFMmTLF5m2E733V6raFVUbIOuzYABRWWn/5uZy5qDFmUY0RPnKultfWCZFP18G6l19ptRGokje+CPnq+/FiLTlYjB2gbdu2mD9/Pj777DMAwObNm7F27Vonz4rISSTYtldsw817ImMxdqBp06Y17RVv3rzZybMhIpGwGDvY1KlTAQA5OZYfgU5Elxce1HGwuDjTEx0CAy080+3ML4BWd+H3gvsBwbxkiFxESSreyKmH/rxvNV3cqZVsWyjIlr4CYzF2sKoq05mY+Pj4lhtFTgZ0UZYHipB3qZOqIo4C+XZ+ftvlkO+UfYdUTI18XQPxtOSBvDV1Td9qXCiIzONhCgdbtWoVfH19cd1119k0zsSGeXaake3UmMvlkC+3wLlPTWmkVr6arBby8Q48s9w0lvPU19fj7bffxoIFC1Bbe+G1vbm5uXjnnXcwZ84chIYqWy+i0bXrxXghA+rM5XLIl1ckxuq1auUrPcZHPMnBYmxnaWlpePLJJ3H//fcjISGhaY2K1NRUTJgwAY899hhmzZpl0zbqVs2R1f6hW70QHCbjRx2jxUP3yLsRQO6c7DnWQxM8sbCwrvWGjc70cql8UyZ6AZPlrWfiSvnIhMXYzhISEvDmm28iPj4ep06dwg033IA+ffpg/vz5+PLLLzF79mybt/FpuwJZ7eNTbkdmgYUThhdZt6QNbvriGlXnZM+x3i9KxLJBY61u37N6i0vle3r5YEx/ZZisPkLn4x14ZrlpLOd6/PHHcfDgQVRWVqKqqgoHDx7Exx9/jN69la2Gdb7ZPTfaYYbqsMfcmM95ZvfciI4xp20eg5Th1RQuQNfmFIZfswYAMPzzg7Ke8jsxSoP3qwMByH90z8QoDZbJeBzS8L2/Y/d9pjURNvx1JWpOWrkmbkg2xl9nuiNRSb6fdK23a6mv0nzrs4DaTVOt7jv+HtN1BLLzRWpwqFBCofVLizT3VZAvdHYU1hQEoawwDNuWTWq90zlK81EzPgNPIBc/A6/ReK9DmJQ+HwCglblGwSbNRFQYvaAxyj9J46upxzDDMll9GnxN/635IhBPvfB/VvWZed12dHvvewDK8tVqtGiol3/tqS35bpkWgPbrn7e63/8yTctvys33edwdiMmqhMHomHySr4R6GHEyMBRvRTxjdT9r8jU9A+9aTyTKOYdxkdRCA5KW17ndM/C4Zyygbm0L4RvkgQ2R/0NtSj1Ky4xYKfNFDADhbTWoyvOABsrOllcZPBDeVoOCPOv7N74Yb3uqAvcGPQWvQA1G+v3TbNuPShaga3UJ8BPwvQ35FMazKV/+txXIj34KADCu/WNm224bOw/lX5oWeFear0IfBINRQWcoy2esMkILIAnFyG9vOd+UG97Hg5+YrphQko8uxGIsoBc7L0HPthqsXKjH2ULlb1z8EroCq2ybi19CVxSsOiy73x/nrjEN9WzAF4/ONdtm9xe12H1W+WVVzsy3sdAIFJoK0RdXmc+X8YkeGzOUX97ll9AVIWsCASi/dV5pvqIqI77fbTlfze9oaiMLn4FnFg9TCKTxMMVsANY/Ic+87bgKpfC3x7QQhAoMxBq7jGUvzGc9UfI1HaaYZIfDFH+432EKN/0bQyWw/lI2R45lL8znnLFIPSzGbmhy/yBISg+kmiHBgMn9g+w2nq3UyhfkabchbaJWvm7hgiywo5GaFwtS8qERJIedsRi7kTAvYEuCN2bsHGX3sWfsHIUtCd4IinDur4ya+Q73DUKVn92HlkXNfH/2j0O37lq7j032wWLsJgJDJYyZ7oN0Qz/VtpFu6Icu071wVazjf23aBUu46m5vVfMtq7gCvSaEY8hIx5/XDvSA6vnWHeiDK+f6Y9TVznkL0HvIuf+vvAPPLF5N4eK6+gFeGgk59e3x7Pe90fGswjsgrNDxQFt8cnYEPp2+Gbnvm65lOliu7vnfWF8Jvlqg7UhPvPPnSHQsUDHfoWD8kNsfB+/YjDdSywGony9GB/h7SOgYLOF1tfNlG/DkA4OQ4FGAhIBUAOrnC/IEonxMhxVe2BcPYL+q23NlLMYuTBepwe4Jg7Dl8wjTN8rU32bxWR1uebl5HYgbIn9H9Rl1VljTRWqwpWEQ9udFAL+qsolLFJV4of3Ho/Huua/VzOfbRoOpN4di2MdDgXJVNnGJ/OM+WIMorIHppiJV84VLGPaQLx499/tSimxVtuMu3HSH3711jdaga7QGYS93xc8/dHXqXMJe7to0H3s5P1+Gn4/dxlVCzXxRr7dDp++ftdu4SqiZr8eTUZhyLPzSBlzP2CzuGbugTM++AIA/p0WjLUqcOpcF03rgmrhz9whjt13GPD+fs6mZb/ULIYgqXGeXMZVSM9+u19ugQ5Fz/5i6EhZjFxAy2ANP5P676ev+mWIdd/sz01Q0d8ZObPpesseHWH+kuKUuF+geq8U9eLrpa1fIt/s/7+HHByqsHuOV2OY9YFfIF6XPwdTTn1s9hqx8vAPPLBZjAU16ORBXxDb/aFYd74D+z4j1Ajan/7HmOfqt9MM9BdZdD1oeKaH/aNfKNyi3Dvu+tv5pLcl3uVa+zl3KcY+b5RMdi7GAnn22H4IR7Oxp2OSfVyc5ewqqSnjuGtzt7EmoKOtoAO6+a7izp3FZYTEmIsdqPIFnS3835KaxiIhcC/eMicixNDauL8G1KYiISC0sxkREAuBhCiJyLJ7AM8tNYxERuRbuGRORY/EOPLPcNBYRkWvhnrGAHhiZjvhgLwDANwMlHP2Paz50MTKkCvePSLfYpiRCh/991tNBM7KvhDElmByQabHNToM3Vvze20Ezsq+THgn4bOJCy41itHjxf1c4ZkJujsVYQOmbz6Lq3KWUL431wzvJa5v+bef4MU6alXX6nzdXn6MGpDxaabH9rYM80D85t+lrV8rX57QRKdMtLxYUNcgT/ZPPNn0ter6G+eswKMa04Pw/o7cgpU++xfZ9YrXon1zU9LVV+XgCzywWYwHV1wN15z5fOKsSIef9W2fvUgBAVq04DwgFmucVMv7CVdLrzDU+z9cb6y/o40r5TlnR78TGOoSMb/6/IHq+696oRPqRBgBAmhUr3qdmNLjEz88VsBi7mL/7rwcA7LjadOji661hCMpX71E9rZl0vakkDdhseozPplrbxrs43/Y9Ecg/6W3boDZQO9/CTSMRUWT5UIeaLs63K9O2xzBdnO94gIQDX3e4sBFP4JnFYuxiNhWaXiydC/YBACKvm4gTizsivOGkQ+dRKkUiI7INHipYfsG8bHVxvnVt78D+kyPRB7/ZZXxrVaAN0jtEqp6v77+8sep/w9Ar/7BdxpdjZ4crVM83dqQvRi+/EX2Ld9hlfHcmGY1GdZ9ISFZLTU1FUlISZgOw9hkXDb4+ePEeLYZ+Mrb1xnbUJ6wE/iWpCGhQ9+FttR463PJIGGa+79glOUc+cBb6BQdUz2cMknCiohsyGnqouh1zBmvXqp7PRycheGgovlg9DNnIRipSkfJ3byS2U757m5prQNKiWqSkpCAx0TVPbpvDPWMXp62qwZ4dHvC9Zjm8giU8ljoSeRm+rXdUoG23Krxy2yZod9ajstiI37bXq7Kd83nXV8PrxzNYeE0eAODfWaNUyxfWpQr/6HgQ0d75QLoR3zaon08qNSIpMANPD8kCoG4+v+gaLPp4Oyo+MJ1U/fbP1o7o266m2gjd9iIsvGY5fjhtwIP7wYWCWsBi7AZ+TTUVjQgvYOrbm/HGrHGqbGfqrM1Y/2ot8nLUeZpwS348bQBOm7Y59QP18j00axP2vVOLzSccm6+wzNhUGNXMN+GfqTjyXAX+SlX/j8z5jpUbcezPOvBAhWVueij88pSvB/bMqsIk31S7jz3JNxV7ZlU5vBBfTM18x56sRrmDC/HF1Mzn9XahwwuxWXw6tFluGusyV5PtGmMqpVK+Ar39h1VEpXyFp537h4YsYzF2Q3oDsGH6JruNt2H6JugFeh0znzyN+XimXmw8ZiyggFEeCA6WYPirHmUlyl5CL39aiNo2p7H+bIfWG1swss1pjP+0UHH/QA9AM8nT7L9Vrq9HXbFr5wOA4Mnm80XsbsARhYc9GvP9VtILQfoSxXNTM19IKXBsnYKTgLwDzywWYwElR49FcNtQfNT5J5TsaUBdqRFbUuQf60vUpmI9bCtWidpUHFTQb1CCFt7hGgQHSJjRdYrZNv8w/ol25eVAhRHrd7hWvpHtJKCn6eXzn663mG3zw7XLEPldFQBg/Vr5RStRm4pP2vRH0CnlxVhpvoAACYn9Lecb2usnTDx3YYOSfHQhFmMBbdgSD+iicDQsGqgxYpjnMfTF97LHOWiHk21KxzjwmBde/+QfQA2QltXGfBtdJ/hoGvD3MXvht+NPh83NHmN0vtYPV6Y9AgBI+9N8vr57Y6CpMo3/CF5XNrc4y2t7WDWGApkegXit6iEALedbsy0Ki+tM1VhWPt6BZxaLscDSCiNM/0UboM9AfJ79BGpkHrYI1NWhuNoX2lZXiTDfF9Xy+vgES0h5+BZ89PbAVttmVYcBAJ5aNg7oM05xvmqDFnW18l+hSvP90G06HtnZrdW2h3LCmz5/pM/bivKFeNZCqzGiwSD/2lpF+QIk5C/yxQvP/xdo5e9AZUlbpJ37XGk+auamf2PcU8icAegcJu9F+fyE1cgI6Ktoe89PWC2rfecwCSFzBuD79EBF21Oab9A1BYq2pzRfXrSyRXCU5Pumy8/oEFymaHtK8iW+HYe3Vij7fVGSj5qxGLuQmz66Fcmxk2X1+fMnPdDmiKLt/fmTvGu9kmMn46aPbkVBZryi7SnNp8lV9lZcab7dh9sq2p6ifH/oUanwJKeSfFOTb0TB9psVbc/qfBo7fLghN43lvt6tHYbM97ycPY1LZL7nhXdrh9k8DvM5R2O+fYfb2TSOqPlcAYuxC3rn8zmybs8/+MrP6NzN+gVhQsadwY8r11ndXiOZ5mQvcvPNuv0ANs6xflW3LGmIS+V79YMUfLpd3s3EQufTANBKyj/ctGq5aSz3Z2xn/Spfn95ejtJzC4Zb44pyCZ9ebf1xSjlzUWPMT/9Vibwp1h/Hrel8UIh8of7WVeSlMyuAaZafKHIxEfIFRvD4sRwsxi5qRvgDzp5CEzXmcjnk69hBjJefWvm8Enixlhz8v0VEjsU78Mxy01hERK6Fe8ZE5Fi8A88sN41FRORaWIyJiATAYuyiKoOfdfYUmqgxl8shX/5JMRZRViufblcLK/HxSR9muWks97doo8wVYFSkxlwuh3xnqsVYVEetfNmlYuRzFSzGLmhc4QZZ7XeG9UIVrH/i8ImcQBxCkqpzsudY1e0649eFcVa3Dy3Vu1S+k1I8lhfKuzFD6Hxcm8IsN43l3m7O+VVW+42hV6LK6GN1+8wTATiK7qrOyZ5jGaKjsOjVWKvbtyuocal8ZxCDH3M7y+rjSvnIhMXYxfyw+E00yHz3pzUYIcH645MSDPBqbTHbizQYTXOzlZJ8HlKtzPWajS6VzxPV8ECNrD6K83XcLavfxZTkIxNeZ+wC/LV6RDcUAwDOJubK6psbLsFDr2yNgNxwCe0KrH9lnU3MRc8+eabPwyUUFJh/QsTFwoKq0ba0rGkMuXPU1Opk9Tm/r9J8hmAtDpWEt9KjWU/kNY0hR2UHDfRnJSh4NoCifHNmFeLL7DxUS1ocM6qUr3HBH6Vs6SswFmOB3TkkBQF6oLc+B6PXrgcArJc5xpcDuqD7cmW7Kl8O6IInl8tbC/n7grcAAOn3e2H1npsAT2DeVvPHL2/qdRARuhqM7ZWF+LdNq5IpyRe9JhYhKJLZ07Z8Xcb44tGy6wEA83aZz3fv5L3wOmW6omDWn98BkJ9v+a094fW5D3QKirGSfBO+W4nrPFbibKg/lgyYBKDlfAGdd+LOUNOba6X5qBmLsYg67gaCj+EfWIHyTANQZsB6Bc8yi/QB+i7vCaBU0TT6Lu+JSJ8jOCPjHXLjPGM/qcOUiB8QEyhhXpcqs22vKlqNbjW1wD6jjfnkF2LAtnw531RhSvwPANBivg+i1mLr+uoL+skR6QOc+XkA4suUPd1ZSb7N+aZ5+pSXY0qY5XzP/G01kt6rBSAznwTbDpC6544xJKPRyCM8gkhNTUVSUhJm6DwQqdUgoq4O9bXKfzxbpfEoNyp7C98oQKrGYGOy4v5eGiDP1/xi44HVemitX9nzEiLkA4Bif/P5olCHygrbfn5FWn941iv/n6RmvjZ+9ajLs74I7wCwGEDKv3VIjFa+UlDqyQYkvVaNlJQUJCYmKh5HNDyBJ6CA6nqEVOhtKsRXpUXaXKgAoNyow1VpkYr76w1ASIXe7IcthViUfEDL+WwpxI35bCnEgLr55BRiah2LsZua3bO/kGPZC/M5Zyy7sOXuu8YPN8Ri7Ia+6ajsgZKOHlMptfLF+IpxMFKtfG27uGkVcxMsxm6kjTdwx1w/+OR72n1sn3xP3DHXD53aO/dXRs18V83zQ2iU++YLfcoLd1wpwDn7xhN4Sj/E+JtpdyzGbiLES4tx3Xxx78yx8K+x/1oD/jXVuHfmWAwd648r2jj+1dDWX8JdHXWq5rv9b1chri4GAzs6Pp9OA9XzvT99POpvDca17Zzz9Oahofb/I+NOWIxdXOAwDxhHeyCjTwdM3T9O9e1N/XI0Tk0NhXG0abtq0yVpYRztgdJbQjE1e7zq23slLwGTBiY5LF/0KE8YR3sgbLyHQ/I98NRQvOvhuHyx0ZqmbX1S1Ef17bkyAd6zkFLDhnvix2GRKM4KQ62Ht8O2+8rKeIyIN117+sDw/di0UcEdCVYYNtwTm+JicajaH3nHrX/6s626rhiBQ5NMVwqomi/JA0uGD0FZRjl26R13henRan8Y2iQAUDffwL5a9HnCD8v/6HLhP9h6Es5ND32zGLuwRYeGIXOvD6Qyx77tjN0Xhux9YaY5RAShC9apsp1Fh4YhN8UXVVWO/TUNrcxE9pKOpjmomO9Q/+7Y+V44fMuDVRm/JZ6FvsheYlrFT818O0v74Ks5YchO8z/3nWxVtuMuWIxdgKQBPHyaj2POqVoIAEjI/9np5zKy8gPxCxYBAJ72vbfp+8YaI+qtvAxVIwFanfl8ztZSPtQZUSdjh9LT99J83T9ZDV+U22OairX48zMA9TXW762by9fl+Hr4mrs7UpJMP3SlJGf/1quDxVhA7fyB6PMWQ/HoqkGbaTFNXyfMcH6ROl8CTPNJeqt5Gcu4b05j4369Vf07x2hQ85Br5etamYv1L1t/oi1yTnNfV8hXf7oWZ+eesXoMkfO5ChZjAZX7xKHYs/nushOlRuya0cVCDzG8OKP5BM2EXkHw9bVu1zEFEpbOkLderzOcn++qmUEItjIfAHw2w/rF753l/HwhXrUYExZidV9XyCc6FmMBrSmIQjAcexzR3lYcjLa+cY5681DLmrky8rmgYr03luaoVGB5As8sXtpGRCQA7hkTkWNxCU2zuGdMRCQAFmMiIgHwMAURORZP4JnFPWMiIgGwGBMRCYCHKYjIsXg1hVncMyYiEgD3jAX00Oe7EN/ddJZi2uKx6DjftodSOktkjzI8+FmKxTZb9ntg5cPDHTQj+yrvewbvfHjYYpvt+/tg+cPhDpqRfZ3y6o7P135isc2u/Hr8fqPMdbR5As8sFmMB7bmvsmmtqx9f+RNfeHVt+rfd+k5OmZO1+nkdb/rcJ6sKm4eVWWw/sIM3zp7Xx5XyxVWXtpqvodMW9PNKaPpa9HxD259AVaFptbZ2EXmt5ouJ0lzw/0T0fCJjMRbchv9WoZtmb9PXY6ZVAADeXtDbWVMy6/FpBwAAp77MbPpegxGw/FIGUs/UopuHi+bLar2f9wmjS+XzW3cMh42mtU+7nQWKW+mXfdrgEvlcAYux4CobTB+N6n4yVYDk+0xfJ3x+G9rhoBNmhnPzML2Ib1pqmleFzIdG1BmB4vP6XJwv8adEhBdbtxSnGmzNV99Kvtglt6NrxQGb56nUxflqy4yos3IdagAwtJJPu2Ymrjr+14WduJ6xWZLRaHTc817IotTUVCQlJWE2AGvXBAt4IAGbvmqLOoMHimod88SPtu1qgFLTK7Zv9SpVt6Vvl4T00lBAJyGvSNd6B3ts068BHQ21ANTP9+nDwMBF4wANkFfpq+q2Gnl7NiDYwzH5ps7yw2OfDQEA7KouRCpSkfKWHxLjlB/4Tc1sQNITlUhJSUFiYqK9pup03DN2cQPWHMSATgdR6BOKHfFx+OubtqpuL+bqXLx99UFkzjctrL4mXdXNYbjPbkwIkRA42APfl/fDuh/UzZc0tgQF8fmYsdp0Yk7tfIv/0MCn01oEBEn4oeOVqufzGnkGd3aoRI/djsm354sqPNZpLQDg5YBYpO4AT+C1gMXYxa3JMh3D8AktwI0Dy7EWk6CBOg+YNMATYxP2YeO7tUjPlvFe1gbbj5u2E3TagISJu7EG16mYzwOdtCcwMOUU1qQ75gqWzef+PwZ6AAmx6ud76Lo0SH/qHZZvb6kRKDVtK3rwcYds01XxOmM3UVNkxJr5NRiOlaptYzhWIu/DGocV4vOVlhmR/m2tqvlmBq5CycpTOLqlXrVttKSsHqrnu2fYWuS8Wo301eoU+9ac3ur4/6+uhMXYjdQ0AH4oxzeP2v8F/c2jK+GHcuirnHuKQc18xTVl0MK5BUPNfAGHSlBa5Pg/pJdovANP6Yd7nr/jYQp3tOj9GpcYUynmE2NMsi/uGbupB9rZ73Ipe45lL8znnLHsQmuHDzfEPWMBjbvVC30jNNj+XS1OFCo7LFBZkoV3F9TgX9OutGku7y7YhZ0zrH9k+8VCPYGx033M/tuq72tRnO/a+QDg1kfM58PqOnx/WNmJssZ8t067Hx2wR/Hc1MxXmWXAshXOuwbc3bAYO8iOHTswZMgQrF27FiNGjLDYdmzqI4AuCrv7Pw+f7fWorW/A8XJ5v/QFNUasmHYagG3FyjSGfJ3DJXg2+CAqSELEhpfMtvnY+y10DymBUapHRpG8k0rOztfGT0KIl6lIRWx42WybvBteQ/f5pjvSDhdXyxq/MV9Z3DF0yGy9fUuU5vPxkBATYDnfS7NfwuBtpt1UufnoUizGDqDX63HvvfdC7v01/U4/D0QBV4dnYJZ2AU446Sy4XDEDPbDy4QC89/azFts9HPIEEALcOn4L7tn7m+vku9IDXW/2Q/dv/muxXdsV/waiTJ//kfRvl8nXobcWx9pHYGzukxbbPff6c8rycQlNs3jM2AFefPFFHD16VHYxbpTuFYGNo27A4F5aDO4l74DZ0NmZqEAbRdsdOlveLlnj/Coe6IcFv0y0ut+vuzvalK80QtlemdJ8eeOG4B/F8lYqU5rvvofS4Nu2VlafRkrzlc3yxO6E8bL6Ks1HzbhnrLI9e/Zg+/btGDx4MDZs2KBojJNnQvD6ksHY6BsJALgL/7O6b/jqdOR0GIiuCt6thq9Oh5wyN9P3EQDAka/CUFbob3W/2vyOeH1JR8X5Bkf7Iy1f/q3SSvOlJbdFib6F48QtUPrz67hkDw5XDEMVvGVtD7Dh57cUyM+JkbUtWfm0kulDKVv6CozFWEX19fV45JFH8MUXX+C+++6zebwtNaYXyN+0gMHK80LVKQ2oj1P29rg6xfqTTxpt8/yg8CoqpfkiBip7x6E4n0JK8hXvqgckB+fLUbQ5RfmoGQ9TqOi1117D5MmTERcXZ9dxuz/fR1Z7j/ZlqJfxZ7cW/ihoI+/mALlzsudY5X4GlEgdrG7fAE+XylccakSRv7xFhFwpH5mwGKskLS0NK1aswBNPPGH3scd8/3dZ7Yf5bIKnp/W7q+06AkERh1Sdkz3Hqi45hfGzrN/7zw0JcKl8uuBjGNY5T1YfofPxDjyzWIxV0NDQgIceegiffPIJJJXWXh36e4DVbfuuLkBojfXF+IoORzDx4BFV5qLGmB1Tc/DUrB+sbl8a2iBEvrgI615+QzOz8c+GnbLGFyFfm648mScHi7EK3n33XYwcORJ9+qj3dq3//z2n2thyqTGXyyGff6gYu3hq5TN0bKG88A48s3gCz86OHDmCb7/9Ftu2bVN1O3V14vxGqjEX5nMc1fKJ8bfGZXDP2I6MRiOmT5+OuXPnwtPT09nTISIXwj1jO/rwww/Rp08fDB48uMU2fMoVXfZ4B55ZLMZ29OOPP2LDhg2YO3dui21Gjx4NABg5ciTWrVtnvtGZXwDtRTcxBPcDgt3neV/k5kpS8UZOPc5fUaW1J01f7liM7SgmJgY9evQw+28nTpxAdXU1oqOj4evri5gYCzcQRE4GdFEWt5XQLg/Yb8ts7SehXR725dr32W2XRb5jdh1SMVXy9eiAf9docXZj82L9OwAsBvgMvBbwmLEdLV68GGlpaWY/+vfvDwD44osvkJaWhkWLFtm0ra87W39LrdrUmMvlkK8gV4CnbkC9fHUOes6eu2AxdlEb5onz5AY15nI55DtdIcb5A7XyFReIkc9VsBi7oNM9X5PV/q7dwfDtaf17u5/19bj1RIiqc7LnWHcsDUC3OcOsbh94oqNL5btmWSCWPSdvoSCh80kANJLyDzc9gcdi7CCSJNntbrxfluTLaj9gyvXIPmj9XVbBqR1xf4zlBfBtnZM9x1r0Rk8kLLD+j01U/QGXyvfKpH749fahsvq4Uj4yYTF2kHXr1qGhoaHVp3y05q5aebfFOpI95sZ8znNX7U70irWtkFqVj3fgmcWrKVxAQlQe/hm3BQDQfsFmZMnoO+YRH8z9IhpKLk0Y84gP1n5o/fHEu08twVXTTgEA/lOrR+6226zqFxd/BM+0MT00U0m+RekyOlzUV06+v52XT5/kg4femWB13wUjfwYARC7YDDlLvo+Z5o30ZRoUylsnyNRXwYzxcQwAACAASURBVM/vH7d1w8HoCByvCsCLO8da3bcxn9yfHzVjMRZY1HUfIyikDEMK6+H1eQkAIKtK3kmR95eOQGz5UUXbf3/pCPRBstXts6qMCFpi+qOxdk0Abun2Oir1Rhz/7t9m23eetAi60Dzc1qYeXk8oz5df5iWrz/l95eTLPC/f7T7e+OCefQCAg1/MNt9h6OfoFVcAAPB6o6BpDDlm7ZuIYJnPB2yk5OdXODcDXh5HEB7lgV73pABoOZ9nx4PoNvoPAM355P78qBmLsYDCNZXw0pZh4ZrjyNhuuk6zVMlAERJycnXwlPW8h2Y5uTr0iZAAGU9wLs03Xa61LqEUMwD0C5IwJbbMbNs7PzqJ9qWmZLbkU8qWfAvfqsaMc/9fX7nCfL4jdSex6EnTA0mV5juVHwi/OmW3SyjKV2wEYIQ2X48Zu88CaDnfC7d/C/09pv8HsvLxDjyzWIwF9JnhM/QySNi/V/l1ml26aLFpWgzwH9vmkvuvWAxbcAJHjyqby6FyI9YbzD9deJveAPMv89aJkg9Ai/nSf1J+HXFjvvb/kfd4p4upma/6/4zYqHhUuhiLsYC2HjVA2QPWmx33ScC+/0TbPJd9/+mDqN5BAHYr6l9tAJL32f/if1HyAermC1T6DKRzhMzHO/DM4tUUbmr5AdsLlRpj2QvzOWcsUg+LsRuRAHhrgakbwu0+9tQN4fDWmq65dyY188UFSFDpwSxWUzNfz+5aeLjp8VZ3wGLsRtp4AwkxkbhrhLwbBKxx14ihSIiJRHSkc39l1MwX2jkS3l7KTwjag5r5/Hp1wNh+AhyZ5DPwzGIxdhO1YRLWTNLglaz+qm3jlaz++GVkZwzo7/gXdESUBttuUjnf3iuxcmgwEp92fEFu5w318/3UDx/1HIy8q5zzsj96pVM26zIE+DNJtrj5Fi8gVIPM8lD8sakL7P9oyQsdW9sdCclF6PhhFQBgqcoL+lx/gxc822mQFyNhwfz+kLdCg3zlh+Ixp2MnfPrgNwDUzzdhvBd8YzXQBUuY/736+Xb+1hYjhyTg5gdNT49WO9/N3bTAaNNTbz5ZGgPgMKCVTB9K2dJXYCzGLizQU4NvQhOwfl4HAFC9EAOAX64Hbk0Y3vT1FM/fUVanzlKQgZ4afLalP/bkm46hql2oAMDrTACwuBAP4moA6ubz95IwsLsRQz4wbcsR+ULK6rDvzxg8CNN62mrm8/OQ4H+LP+56ZRQAwBPZqmzHXbAYu6CoUaY9jQV/XQvMc+5cfqy7DtNGLQcAnPpL2Z1iF7sgn5PXnFEz37a2gzHkA3mrq9mbqvmyBuCuV+x/MtJdsRi7gCAfCd2imo/zHR3S2/TJX86Zz8Uqz82n/6l9Td87fqoB+Va+Aw7xBLrENF886gr5DCUGpMhYr7d/l0vzbZ7bFiEXPJjIOczlq6w1Ii3b+j1mc/lOZPqZb8w78MxiMXYBxXESfstpfsjp/lfDnDibSy151XQda5/Q5hfffVEpWH7UutuwO3TS4rdC18r330/3ImVKudVj/FZ0aT4RCjFgPp/OUIFg7LF6DHP5SB4WYwG9MXo4pJCgpq/98iIw5mCRE2dknf1FzS/ChI7/ROVN1q0UJ+XGY9KRDLWmZTfn54u8awmKbvrI6r7X/ST+bWPn5ysJDsfGmyw/h/F8svLxDjyzWIwFNGKdBsEX/MaJX4gvNmZvGrDX2leN+IX4YkNr5wEuUGCVCi4xusQfEHfC64yJiATAPWMiciyewDOLe8ZERALgnjERORZP4JnFPWMiIgGwGBMRCYCHKYjIsSTJtoWxnb3otEq4Z0xEJADuGRORY/EEnlksxgKKwyG0hxcAYNQbfpj7VHcnz0gZf6kKnYyHLLbp31GHhdnxDpqRfcXHlUCbmWWxTU2sBkePXeGgGdnXmTY6jD+72WKb6I5aLM/u66AZua/k5GQWYxFFIA+R5z4ftdMLfWaebfq3B+cON99JEPNmNj+8vTS/AauXlFps30PrgXkzC5q+dqV8PiV1+DrT8mJB7es1eHJmcxvh872/BThiehq0vl6D3z8psNi+d5WEG2aWNX0tej4RvfjiiyzGruDTH/Q4f20K3UfLmz6vnnGtE2Z0qfPntHSGvDVx1xyvB+a6b76cbAOWtpDv2L+fQbuy3bZP0Ebnzyl9ToOspTP3FBqxp4V8eW8MQuDx0Es78Q68Jq+99hrq6uqwYcMGFmNXM/y8YlAdfAZ7goNRftzXefMJPgOdzAJlcbyL8h2oC0NxpSOegdHCfFTMN/XmLzEnNQYhxxzxjJYW5nNRvjRbxztvrOD2Z3F6cD02b21j46juq0uXLpgyZQoAHjN2aVdqdmHIA5EoLQ5Ebq4/fvkqsvVOdtDryQwMP7euum7BIRxUaTtXanZh5F3RKAj0xb4qA7Z81EOlLV3oVJsBePmerwCom897dRb+Nr0CUcZQQCfhk5e6qrSlC3XsVYWJE04BUDdfWGUGbkv0QZ+hnQAAz7x17kGvPIHXpLEQAyzGLu1gkRGhH+cAXrnINXTCVvwfBmO+qttMxe342PdhrP/SdBw0q8j6p13IdbDIiNA/sgEfCf2StHgDH2AYPlRtewCwG7di2D+fQ8lnJwComy+91IjgL/JR4leA3sESNuE91fNlYCx8SstR8tNzANTNl1lmRPHiGqBNxrltPwEgVbXtuTrJaDSq99MgWVJTU5GUlITZAKIV9B8QLOG96gmoqPW099QAAP7edfj70FXIWGu/t+1ybfG+Vr18PnXoUbsXocbTqoxvDTXz+fnWYeGM9fjsrUpVxm/NDgCLAaSsCkRigvL9wNR99UgaV4aUlBQkJibabX7Oxps+3EhauREvDVuFmKssnwFXIuaqArw0bBUqdtTbfWw51Mz37sTViPU/Y/ex5VAz38sPrcXpr617FJaqGk/gKf1woxN452MxdiMVDcCKNXXoH7PT7mP3j9mJFWvqcKbCuW+k1My3+jc9SsvdN9+2L2qxIsf6KyXIsXjM2A2VLbD/gy7VGFMp5hNjTMW0kunDlv5uiHvGAtLC9Ptmy6/c0oVrYLDDT9egMY1li8bX3sUfzNey5ny2FR4189my1g9dinvGAuoQFYPOPj6oKD2CnHxlbyvn3VuBI4OL0X1riE1zOTKwGPPurVDcP8QTCI8xfzv3idNZ0FcrOxkoSj4A6BxnPl+E5ii2ZDQoGrMxX/ieOIRVK38grZr5gjocxa71yvLRpViMBfSIz02ALgq/TX8WvcsBbbYBexfVyh5n1tYNSMYNNs1l1tYNivpdcbs36rtqEKwF+i6dbrbN/IffRW+/QnieNWL3vBpFc3NWvgG9tKi6ybR+yMhfzOf7cdrz6F1kOuF54CX5J85mbd2A9+M6ISxT0RSbxlDCr4MGsdNMN9u0lO/WyXPxyIhcADLz8Q48s1iMBfbvlPsR4iNhkC4bj038AwDwyzJ5e5Ivr9yPh66ejHDIf0W/vHI/Nlwtr8/kiabLst4dY8TWzQ+gzsKO/dxTt8Nfp8eoKw5ixkRT0VCS79F/tEPA4Qh5E4Vt+ULv8MfYVX+z2HbWur+jc4ipcnw/8WMA8vN9+c4WLHqyM85k6ORNFArzjfAAAiRk+gTj6ZN3WGz768+34nSsqQgrzUfNeJ2xQBqvM0aXfwG6qKbvSwAkmH5MH+x/QtaYkgZ4r9M9iM+yvGCPOVdrfoVR5lGSWX3eAgAYJcBotG4XRpIAyag8X03/gVi/vZ28icK2fJAAg5X5AEBjw89vF0ai0BAsqx+gLF/mM7fivd8GAAAMMnZBrcnXdJ3xxiAkXmHDdcZ76pE0vNSlrzPeuHEjtm3bhoEDB2LEiBEAeALPJRhhemEYIOGRMQ/L62uA4rd1cl/Ij4x5uGme1hZiADAabcynkC355BRiwMZ8CneXlOR7Z1m/prnKoTTf5WjlypUYM2YMZs+ejVGjRuGxxx7D/7N33vFNVe8ffydN23TSQssss4WyZaMgAiIospThFhdu/Co/HLgHblyoqIAoiAscgIIgIEP2Kks2lJYySkv3bjN+f4QOMS333tyb3ITzfr3yeiXpOc95Pk3uk3PPeE5hYaEIxl5Hehxd6ulv0KxLPQOkx7luSOjzCBX6rAGuGdKpPj0xbdo05s2bx759+1i0aBG7du1i/PjxIhh7I6/Vu9/TLvwHNX0S+tyPW/Vd4jvw2rdvz8iRI2nTpg3Dhg1j5cqVGAwGEYy9kaV2eSd/7AybT/OQ3IsXPM9Vg9L4scufmvqkpq178hJ4++h6yeUP1mnlVfpei9/EJ2NqPnHjQrxJ36WGyWTCYrFQXOxYQWQ0Gmnfvr0Ixt7K5Y/GSi47e1cxuYXSBxD9cq18lSB9qZkcX7Sw+f3+MuLs0te72iLO6kLfZVHSuniLDpYSuF/e0kY96ItpXk148VPh4cVER0fTt29f2rZtW/HehAkTRDD2Vrr+/YinXahAC18uCX119HH5aaWvuIWXR02NuO++++jWrRvDhw//1/tinbFAIBC4keDgYKZOnfqf90UwFggE7sXoYmILH02KoY/7JIFAILjEEcFYIBAIdIAIxl5Kg6t/9LQLFWjhyyWhTycJz7TSF1DdAh4jrq2k8NGo5aOyfJ//fav+aRBK0cKXS0HfgSR9RGOt9KVt8uwRXd6GCMZeSJPoHMIzpJcPDTFglLPKyAShodInScIzHD6phWx9wQby5MQ1q78u9JVKjFXBwQYIlteGHvRZiqtJquHK7rvyhw/io7J8mxVD35dVPrJfS4zBgZLLn7WF0PTyZpr6pKatHn3r8va3tSWXr3Uyyqv0xXRoyJbmMRcvWAVv0idwIIKxF7Ly/+Qdtf7kwcs5mys9H+7+jeF8uLKjpj6paWtpZjMOvd5BcvlGloNepe+HrXHMmt9KVh1v0idwIIKxl7FvwMeedqFa1PBN6PMc+wZ8zBW9d7ls42JYbFDmwsPiowdci00fXkCj5of4v4fnArBmsLzje+7oEMSnp6IB+WOCd3QI4tu90ttb81Ey7y99AYD3f+3N6c2DJdULarqb1x/9yWFDgb4vgpVtu3VF37wDsPXr1yXXff9dRz25+m5tH8zhRCMZhbKqAcr0vTb/F/aM+JmUU/X5aOp4yXWV6hNUIoKxjrkxaj9k2mmXfBKzwi/52L2DaMVRxXUHsUhWnXI/P3t9HXO2NgF/WFDSzmnZ/qbDRNjKGF7vGIUu6FOKK/qW3BDMA8Z9ACywOdc3vMUh/JIs/6onl8uLRtOmUNnkmhJ9h28qxAzUC0/nxuY164truY8O50/zkqOvzGanzKr8gKEym28eTiSCsQ75v/6biGkQzpB1q0lPtVJYaueIAju9BwewfKlrvvQeHMCGpaWy64W/V8rEwNlEhhroc/sAp2XaLdhASFoRLLSzW6FvntK3+c9CJobPBqDPg9c4LfNY2nq2bHZkT1Oqb+rGZgprV9pQoq9+YT4TU2cD1etrH/E3wRsctpV7KChHBGMdUm/5VhqbDaw/bqVY/nUEQIAR5u7u7bIvc3f3prVxNaUyx+kOZNsBOwHp0HjeX07LJCXZsJQo6+V4Wt+JIjhR5KhUnb6Fp22k5bmmr3lOkqL65SjVV2iB3Wdr1peZZ+fIWR8dwPUAIhjrkMxkG6Eu2lhsGwGnXffl6OlwjjJC9u1uOaU2SDuk/uYGvegDbfWZFYz1V0WP+son8Fyp74uI1RQ+SGOJScs9bVMpWukz6USiVvpCRHphXSOCsQ+SW6vtxQvpwKZStNLXNEgf0VgrfY3i9RGNLVbHBJ7Sh8WFyT89I4KxD9EyxMCHA7rx0zEVTjG+gJ+OxfHhgG40bufZC1pLfc91709abd/V92TtW7h+hFl12wJ1EMHYR6jb1Mg134bS7q9GmrXR7q9G1HvBzCOXu3+qIb6RkYe/1lZf47Vh3PK/JtzxqPsDViOzQXN9zdbnUzwthIeek74bU00GPiB9S/6liJjA83I6tQmjKDWQk5l1ufHGlpq39+at1/DqownEH3KsKz2UdU7T9uJr1wK7P0HtTNx4T09N2wKY9EpHDg3349PIbEB7fYHxBpql1SEszMCN9/TStC2ASTFXEh+VzaBIxxpirfW1j/WjLDMSgKdnNAESsNhdnMDzzVEKEYy9mbrjA5m1bwAZB9z77Xx5WpeK53eMX0bap/JOLpZK3fGB/LqkHaeOR8NyTZpwSvxv7fjk/HMt9cWODeTetCF0P2SFLE2acMqhcxEcwrEsUEt9TUYHsC7eyLY3ypcgpmjSjq8ggrEXMmygPwDv7+lByiYzwXhuC+r6PT2YOHAzAL+vKFPFZlV9p865usjPNbTU91mtprSZVxc4o4pdJWip7w9rG5b+GELUBX+3WKHMhdVyFn2kgVYdg91u99FOv/eRkJBA165deQZoUkO5taahAJRY9DE7HmhyXB19LYtVsXfJ6LMbwer5FRxa6SuzGbHZKvWlkEICCSxeE06HTsr7gXt3WRjaL5cdO3bQpUuXi1fwEkTPWIfUbmqkrrnyS1zaLphHF/5a8bqv5VNPuFUt5UHzeeOKivf2Xn83m4+kSqrfrKUfA/9YUvHaG/Qt//1Gkv9P+h3J/UeWVTz3Bn1xQYd5JuZ/km3oWZ+3IIKxDvHv2YyA6MoZ72Npdehr0/8XvKqP69rUJaRphKR6h4Kg72Lv0nfXtHq8fY30VRd9D3mXvqjQEgKuaS29rgx9FrvdpWQ/Fh+9mRfBWIcsmt+YCKQFMr0yb0pNAy3eT6s/2vOVp53QkHNnA/lqmvrrnQXVI4KxQCBwK2ICzzli04dAIBDoABGMBQKBQAeIYQqBQOBWxASec0TPWCAQCHSA6BkLBAK3IibwnHNJBGOr1crJkyfJyckhPz8fs9lMZGQkjRs3xmS6JP4FAoFA5/hkJCotLWXlypUsWrSIzZs3c/DgQcrK/rvv3mg0Eh8fT69evRg2bBjXXXcdAQEBHvBYIBBcihQUFBASEgL4WDDOy8vjk08+4cMPPyQ/P5/u3bvTv39/7r33Xho1akRISAiBgYEUFxeTn5/PqVOnSExMZOfOncydO5ewsDAeffRRJk6cSFhYmKflCAQ+iUihWUmPHj0ICQnhjjvu8J1gvHz5cu6++246derEjBkzGDRoUMUvjhTy8/NZtmwZM2bMYObMmUybNo0bbrhBQ4+r583BG+hc2zG3Ovc+E6tG9634W3Gmvnvu5tqVx1k3j8zjpcu31lg+v0Uoj02rzFPsTfquGn6Oe8pqPqR+tTmQbxZcWfFa7/qMEaUEnJ/WTwy6nLX93qixvKmdiTvf857vp97Yu3cva9as4dtvv/WNrG2vvfYay5cv56OPPqJbt24u29uyZQtPPPEEgwYN4tVXX1XBQ2k4y9o28M5AdnSrXPTy4+OD3OaPEm6ZWpl42JZiI/u9mnPl9m9lZPejlSdAeJO+OidtHJlSs77oVn5YH60MUHrXd/k7S2lmdiQOigkysueBghrLN4s2kvuCtM+vPGvbl4tDie+gPCPfob1Wxg3N97msbV4fjN9++20KCgp49dVXMRrVW6lntVp56aWXMJvNvPjii6rZrQkpKTQjw2Mrns/Lbe8Wvy7GzeH/VDzPyj3mkq1LSd+GtjGc3Oz5HCRV9QUHHudUuvIxhH/pMzTnZE7l3akIxjXj9euM4+LimDx5sqqBGMDPz4833niDdu3aqWrXVexFxyoeH7y+lZNt0zzqzwevb/2XT65yob7W3XJV8FI5Wup7/rq9HGx5uQpeKudCfWfOuTCYywX67tjJ/b/vVMlT38frx4xHjx6tqf2RI0dqal8u2VUWhSx74Qx9X23GtA0hhOdAry0131KqxerQ/6Ok13QABr2g7ikVF+r75+rWrBwUQsDZOK7eXfP4rFocDW/D0ctPANrqW/BKJq8veZ07po7Ar6gWA9edVrWt6sgIiWZb70JAY33TMri9tJhRgxy943bnR3jEBJ5zvH6YQi3mz5/PTTfd5FEfpJ704YxCU10K68aRcDpaC9cq6Bx/jqevSODr2e496im+p4kNiT1ISNdWX3xkLkdHrGHAbPdeFu3DDKwxX6G5vk49MmlxNoP85P2atuOMv0Lj+DX/KF/8Hkqr9sqHKQ7/Y+WhYWKYwmd56623PO2CS0T5pXFrvS3c+XqSZm3c+XoSt3bcxtZfizVrozrSd1oYFL5ZU303vJzE4LidPP6n+49COlxg11xf+4dTeHF4Ak0sBzVroyY6Bh8FwGJz5KZQ+rC4kNdCz3j9MIUUTp8+zZIlS0hLS8Nq/e9eypycHPbu3esBz9SjsATW7bYSGbwPaKZJG8al+9iQYKWoyP0XQ2YpZB6z0WCpdvq6bdzPpv0Wygrcr6/UBgka6+tddpDfPiziTIZngtlxz05v6B6fD8br169n8ODBFBTUPJ5qMHj+YEhXKbbBmQ0W7gpcxJySEaravitwEWc2qGpSEVrq+3vFxctpjZb6TswCq292Kn0Cnw/Gzz33HK1bt2bkyJHUrVsXP7//jlXl5uby9NNPe8A7bThTAnmxGYQdq6OKvbzYDM64vpBANYQ+eehNn8XmYqIg1xZ86BafD8apqans27cPf3//GsvNnTvXTR65h6iWGyg5Nlw1W+joYgahT64tvekT/BefD8ZxcXEXDcQA77//vhu8kUbgc4GYmxiJeqeEk8eVdQP6LrPTu/UWXj7Y8+KFa+DV1lvYsEz5vW3jIEj/MMjp32xvl1Ca5N36AMxfONc3YJ6FJav/m6BKCuX67jk1hiZ5JxT7pqW+KwuMrJwofzmlxebi0jbRM/ZOYmJiSE1NpX79+jWWS01NVb3tv//+m8mTJ7Nlyxb8/Pzo2LEjL7zwAgMHDqyx3pu/PoghuBH5r03Gb7eVklNWZv9QWmMdZ2w+7LompTZuvzGA0Fg/DGEGzDNedlpm45BP6ByUAedsTJ9d87ZiNX1Tw8aDbf3gesc256AZrzgtkzNzCg/+4AhW09+TvxRw8+FUCprlQJ4iFytsKCG6npGRdzq2OVenr+/Y51j2pCNQK9En+Dc+H4xfeeUVHn/8cd59912aNm1abbm33npL1XXGv/32GyNHjiQoKIg6depw+vRp1q1bx7XXXsvcuXO5/fbbq61rsfhBmYnAdx15MXoFJDOi1kIAQnOk95KsNjhHe4IDDxNcIj+Yn6M9VtsiWXXyazlWSL82IJAPpj9UY9nuf08A4Lb+/3BZrb8AZfoahh6hNF9+MHdF34YrQuj757gaywbf/WzF83dqTQXk6ws0Z2MlCD/kLydUoi+oaW3Ss0M5aArnpj/vqbHsylnvVgQQJfoE/+aS2PRx4MABrr/+erp160Z8fPx/chbn5OQwdepULBaLKu2dOnWKK664grfeeovbbrsNg8FAeno6d9xxBytWrKBVq1YcPPjftZ7lmz6ImwBBMU5tb+j2HLu+lhd4psaOpc2xHNk6BiHvQu50TyC9t78pu52qKNFX0rMna7fUfOfjDG/Rt8PQlwy7/BwWSvS9HjaMpauvkN1WOTXp2wrMAd7+KZgWbZVv+kjcb2XSmEKf2/Th8z3jrVu3cu2115KTk0NycnK15dRc2jZr1izmz5/P5ZdX5h2Ijo5m2rRptGrVipSUFMW23+UuBjFDDTdV513uUsWG0OcZ3uUuViVEuWxDr/r0js8H40mTJtGyZUtGjhxJdHS0W5a2jRo1ymmCoYYNGwLQtm1bxbYXbY9Hr0kYF22PV8WG0OcZ3KVPTOA5x+eD8dmzZ9m9e/dFz7r79ttvVWuzukxvO3bswGAwuJwjec77Mdw18aTk8i3r5hKQYqO0VNrud1OYhYaRJSBj+G/O+zEwW3r5i9mSoy8qvJii+nkEpUo7naWUEOKapHmNvvoNigg0B3I60fmqBmc0aVLgNfoEDnw+N0Xz5s0lHTo6bdo0Tf0oLCzk1Vdf5bvvvuP66693ydbW2RNoESy9/DvxS6kbkS+5fMvu6Tx4/XrJ5VsEO3xSC7n6uoQeoPO0jZLLJ4U304U+f4kjY8N77eKVcQmy2tCDvkCfjy7q4vP/rtjY2BrHisvZs2ePZj4sX76c7t27s379ejZt2kRhYaHLNmfE3CG57NrZJRTJSBhevxDWfiF99l6OL1rYXLuglNc7miWXt0Sf1IW+xg2lXX47fi6F7+RN+ulBX2g755N05TvwlD58dZjC54Pxq6++yvPPP8+OHTtqLPfRRx+p3nZhYSH/+9//ePnll0lJSaG0tJRPPvmEfv36UVoqf6lZVRYEdlbJS9fRwpdLQV9YqD7yoWilz1DX58OLqvj8mPGXX35JXFwcQ4cOpXHjxrRq1eo/S9tyc3PZt2+f6m0HBwfz8ccfA47A/Nlnn/Hss8+yfft2Zs+ezQMPPKB6mwKB3ilPoelKfV/E54PxlClTSE9PBxyTedu3b3daTuusbcHBwTz55JMUFRXx8ssvs2rVKhGMBQJBBT4fjKOioujVqxfjx493uqwNHD3j2267zS3+3HXXXbz88stkZ2dXX+j0QvC7YOY8ojNE+M4Cd4GPk53Au2csVB2My/KYM/olOzubiAjHhh6fD8Z169blkUceYcCAATWWa9/ePScRR0U5FtU3atSo+kINb6h2B55A4BVEdOHpVvM591dloqTyHXgihWYl48aN4+WXX6ZDhw6+H4xnzpx50SRBAN98840bvIHDhw8DMGzYMJfs1De4kD1GZeob8ki1S1vjK8emXtBKn5NDZzyCVvoMpb45tqsmM2bMYMSIEdx2222+v5oiLi6OoKAgp8MCx44d49gxR6LXVq1aqdZmUlISO3c6P6L8vffeo2/fvtxwww0utbG+aLJL9dVEC18uBX0pSfqIxlrps29zrk+cgVdJ7dq1WbZsGWvXrvX9YJySkkJcXBxRUVEsWLDgX38zm8289dZbPP/886q2OWDAALp27crAgQPZuHEjVquVnJwcEyFSPQAAIABJREFUnnvuOdLT0/n9999dayAolz+PSL+Q/Q0gd35S6oYEwOFLUK68BmpCpj4/A/IWadoNutCXIzEvlckAyMyrowd954p9J2hqSUhICD/++KPvB+MpU6bQpEkTbDYbmZmZ//pbo0aN+PLLL4mKilJ1mOLZZ58lNja24vy9Ll268OSTT3L11Vfz559/Ehoa6pr9fZ/LKv9No6Fk26Tfhm7bG8V6ez9NfVLTVnH79jw5rKvk8i1O5nmVvn/oyuQjPWTV8SZ9Agc+P2Z84MABVqxYwb59++jc2fni9scff5zhw4czduxYVdocN24c48bVnOtWKaEhJcQUyDtmNy2wNnWQnkIzv8AfqCWrjZiCNEJDSsgvCJRV70KU6LMFh5C0RfoPnLnUSo4X6SsglIwieT/givUVmcCmPL2lFH1iAs85Pt8ztlqtBAQEVBuIAYxGoypblN3Biidcy6erJWr4JvR5jhVPvEnzjltctiFQhs/3jPPzL54gp7i4mLNnz7rBG2XEm9O5J3cbAAm3SE/4A7CwSzMiEpX95i7s0owbEpIkl0+4JZ+34/8AYOW1Rlauvk5SvT6dUxiyZW+FDbk+1j8VC8g/i80VfWWXB/JiQs3LJavydukfFTbksGdobTJWmUFBX0GJvk8H72dvaTYnTcF8auwnua4cfSKFpnN8PhjHxsby9ttvM2nSpGrLTJw4sdq0l57kt0dnUSfbTq1TBRya6ciHKPdEs+KUdtTNlhcAqtaFJFl1WiY7jk+6IcxMxu0nIdhA75n3OS371ZCfia+VTUNbLgnzTwHK9J07Zyfg4kWd1lWsLy6Qq287Dgbo/Z3zIalV078jcG0RGCD1lQOAfH3rs66iWald0YWqRF/BqgO0NBygbcNAbr3/aI36GlzzKT/XM4MdUl9Vpk9Qic8H40mTJtGzZ0/Wr1/PPffcQ6dOnYiMjCQrK4stW7bw2WefsXXrVjZulJ6CUWsMV03DUN+IeZaFXduUHwXVL8rI8nQToOyE4trpJvpFGVlzTnpXJPV8srDUN4qBA3QKN2Ac73y1yom5JRSl2NmlyLuq+pQNMbmi74slJbDEEYCMzznX13OWndmz5J/NV06/KCNTk+pjspxRVF+JvvRydxNLSHm2Zn1rbwpkRSf5x3kJnHNJnIE3d+5cxo0bR1lZ2b9yUNjtdvz8/Pj88881m3CTQ/kZeM8ATVy0FdbLxC8bh6jhFqN6LSFvozrnA6qF0Ccdvegr34H30EwzDVspn646fdjGF/cX+9wZeD4/gQdw5513snnzZkaMGIHJZMJut2MwGBg0aBB///23LgKx2qRdrt6wi5q21ELo84wtgXb4/DBFOZ07d2bBggXYbDbS09OpU6eOpBNAvJV1HzRT1dYgdqtmTw2EPnm29KRPTOA555LoGVfFaDRSr149nw7E/wuWfuSOJ20q5XENfHk8eD1da+kj2btW+lr28VfdrkA9vD4Y15iKUgVycrxjgsLfCJdFGbjm0xiGFk5R3f7Qwilc82kM3TuZCFG+J0Ax/kaoF+TQN0QDfUMKpxD5cQxNY4OIUrI0w0UMaK/v9PAoHh4TSG3X9q0oppb4LagRrw/G48aNY+/evZrY3rlzJ3fffbcmttXGagwnPaQlT4+Xvi1YLk+P78qpkJb0vcr90aphrB9+YRrru6sLJzPbkdLH/T3kRmY017fgqR78YmhJ7To1pG/VEKPZkT1RJApyjtffq1dNQffwww+rYtNutzNt2jS+//57lixZoopNrQh7IZBd2Cg4E0bqrDaatzd7Qyts95pp2fsfAGJfV7ZsTiqWcSaS6xvYWdCC9A9ba9oWwNKsRuzK6saoF2YB2uvr/3EIX6aVkmi1c/Qt7T+/b+fHYm+WRtwLji3LWusb2N+fL3o7nv/9ekPESuTq8fpgXJ6C7r777mPGjBm8+OKLjBgxotpTPWrCYrHw888/8+abb9K2bVtWrFhBSEiIBl6rw30TzNy4M5bANc3A5r7enHVuYxIDGgLw5oS/mPWh9JOI5XDfBDPvbOlM4g+1sVmNuEthh53pJB4aBGis785Auv4xlpbrTuDWFaYnokn8UHt9d94cgP/kcBI79zz/jmO9tMhN4RyfWmf822+/8cwzz5CZmcmQIUPo378/l112Gc2aNSM8PPw/5fPy8khMTGTHjh2sXr2apUuXUq9ePd5++22Xk78rQeo64xzqALCFK93i18XoiWPCqRYZqti7VPQZbo1n8w/Rqth0Ba305US052B2RMX7KaSQQAJ3TAukXkvlI6Rnj9j49tESn1tn7PU946oMHz6coUOH8vvvvzN37lwefvjhigRABoOBiIgIQkNDKS0tJT8/n4ICRz6DkJAQhgwZwpw5cxgyRJ2F9moSVttA06GV47RvfDMUgCC0nbyUyhoc/jw/9seK92zLytifJq0LExVioP4oL9O3y8L+PdK7d+3HVs6alesz/5CLAc9385zpK86wc3RJaXVV/oMzfYHZeRjRRwJ9b8CngjE4lq6NGDGCESNGUFZWxs6dO9mzZw9JSUlkZWVRXFyM2Wymdu3aNG/enI4dO9KpUyddLXW7opmRdkGVN+XHGsPWzMqJHb0EqXLK/anq47g+e4jZXySpfkQrP2Z7mb5R7+4lZoL0bdgLvUxfZFkBg9r8I9mGHH1inbFz9BOBNMDf358ePXrQo4e8xNyeZtbJnkQZK4dVSo5DQbHZgx5JY/3iylvuf4L7YJR61ZwwkOlinmB3UFXf7m1X4p8lPSpkHvCuz89kqMMG/4ufHVmON+jTOz4djL2VXEsARrz7y51dKGP5m/S7Yd2Qd9YDi5HdiMVuJLPUu7+D3oYIxgKBwK1YbHbKrMrXDfjqOmOv3/QhEAgEvoDoGQsEArciJvCcI3rGAoFAoANEMBYIBAIdIIYpBAKBWxETeM4RPWOBQCDQAaJnLBAI3IqYwHOOCMY6pF2fXBpGOL5xfyREEn1KHydQyCU4wkK7Prk1ljl5zsCZTZFu8khdSmoVceVVNW/5TkuvRfJmD2TjV4FiwukzLKnGMmkFNpJXRbnHIR9HBGMd0q35fuLrOUaQgka14O+74zzskTIizAX0b729xjKm4kDe3NTXTR6pS7P4TPq33ldjmYMt65G8+TI3eaQup+rUuujnV2y28/Gqa93kkW8jgrEOOfRNCeX9rbbdDhHqf7rib3+UXeUZpyRyvf/flS8yrOyaUnPPMTq49F91vElf0OEydm2tWZ8hLJnr/SuP7tK7vgfabuDkEUemtaJS00U/v7AQg+zPT+Qzdo4IxjoncbsFyKp4/eubKyqe3/jiALD6YcBzs8t2PxsLJv9V8fqL56RnMgNIL7RSoz6bEYMHJ89r0pcnIfmaPc+OpRp9VyxvQf01cbr6/Da+W4SlzOGPv4RDQPIK7FT3+b22pAsJG6Mw+k7KdE0RwdjLqBoMzjy4mOglT+B/MtFj/pwZt5gvnlPvYrtQX71FA/FLDVLNvly01Dd00iG+TLuczvvTVbMvF00/vzEbKLzuVkKXFvyrTPkZeErx1aVtIhh7MXdPt9N92HwSCSetNJy/0qSnPHSFm25Owm+DI9VaxnTtLoy7p9tp0fQgOTEhEOvHD2tjNWurKqnt85iQ7TgiSEt9dd4u4/5hs2iZ2xrMBn442lKztqrSsHYhfYNPAtrqu+wnO69d+wtrYloA8O5Jz/2oegNinbGXc3r1acy5B4mN3svkn/Zo3t6AKTu4JeQQ5tyDmHMPat5e/rkUzLkHaVl2kMmzd2ve3oOvHOeN0Xvdpq/tX2DOPUjTAvfoa/5OAk9PcJ++VatKKtoa88AJzdvzZkTP2Ms5lX++Z7O/kAYPJ3GY/6MVKzVp6zDXMH75H8xYWYa77hTTChwNnd5kwbAlicNM1EzfUfqyYfIhGtnTsbtpkii10KHvVK4d433a6kumJz9krmbOe7nY3HQaUlYZZJ0fgz488xwgJvCqw+d7xhMnTvS0C+7BDpvO2RnPY7RuoP6xPq0bZDOexzi8wn2BuCp2O9isaKpvevhEGloPui0QX4jW+qb0fomv33FfIL4QHx3qVQ2fD8aff/45Z86c8bQbbuXm2A1eYVMpWuk7XKCPaKGVvsxd+jgc1LEDz674IXrGXkpxcTH9+vXj559/xmrVx5dRazatt3iFTaVopa9IJ18PrfSd08mPjcA5Ph+MAwICmDRpEsePH6d///48//zzJCUledotzfm+2VJd2lILoc8ztgTa4fMTeF9//TW33norAE8++SSrVq3i2WefJT8/n3vvvZfhw4fj56ev3AGX3RdDmwaBFPyYxPEkK1Y7FMjstc1OKuXLqSsZ9/g1Lvny5dSVzH5c/omhwX5gMkC0Geo94XxJ2rHZJyhKLcMG5MvsDHpan78Bgs5/bdpPcq6v44YTfL/OsXMiV6G+fk89S1zpNtn+laNUn58BQi6iLzzvJBunlQDy9IkJPOf4fDAuD8QABoOBAQMGMGDAAM6ePcvs2bPp2LEjI0eO5P7776dJkyYe9LSS29aOgaAY3mryGyUWG3XtWZD8j2w78x8vuHghjWzUvtGfndsv50yQgacXjXBa5sHg5TSIKaRds1Ty1xxxm29q2OjaOYDfM3sCcOeiG5yWeb/TUvJiHMEqOmmdIt/KYg/DMUUuVthQQonZTGq97kD1+oYOWky3GEcUVqJP8G98Phg7o6CggIULFzJv3jwOHDjAG2+8wZw5c+jUqRPjxo1j+PDhnnYRgGfTh0MYXBV3hK/eSAbgzzvyZNl4utdO/rfjJmJK5Ae7p3vtZNdGeXWu/TYMgIdO1WHlIecXcTnTAwdBILSPW8fCcamAMn2LrS3Yv6WWPEdxTd82m5FXptSsb+KuweAoztFvdwHy9U1tsoEFaS04mxcsz1EU6nsjGJr6sSc9ise/qlnf4uVDWaxAn0ih6RyfD8YTJkzgww8/BGDnzp1Mnz6d77//nvz8fPz8/BgxYgQPPfQQAwcO5MyZM8ycOZMPP/yQ559/nmuuce0WWC02Jbfgyi+fAuDYiMnMXiQhacB5DiekkNcgA5Lkt3s4IUVW+btH+BN73s/0fOnTEft29OTKo10AZfqiOzcA5AdjV/Tll8qbDFP6+aVuSsRaFgPID8ZK9E20D2Thl10ps8ibTlKqT1CJzwfjWbNm0aRJE3788Ue2bXOMvcXExPDkk08ybtw4GjZsWFG2UaNGvPLKK+Tl5TFu3DhycnIYNWqUp1yvoKzMj9SMEABCMt5mGtLXThcW28FP2QBdYbG8gBOS+LaiduyWAFIzAhw2lOhT2FNylz7Apc/PrjCdtSJ9CtOcKNUnqMTnV1Pk5+czceJEduzYweDBg1m0aBFJSUm89NJL/wrEVQkLC2POnDl88MEHbvZWGm2u9ve0C/9BTZ+EPvfjTn0Wu/I1xmU2OxYfzQLn88EY4IknniAxMZElS5YwbNgwjMbqZRcWFjJ+/HgWLFiAyaTPG4c5DW69eKEq1B++i8Jw6TPqmQF1SbhOXhdJrk9q2kpqdZY9fsMkly+mllfpO9DrFPs6yOsee5M+gQOfD8atW7fmgw8+kLxSYtOmTXz22Wfce++9dOvWTWPvlDFnj7yTI4Z9+w/1C2tOEl6VQe0PMW7Tfk19UtNW099SWL7ifcnlTzQxeJW+YbuP84NR3kycnvVZrI6lbUofFp1szlEbnw/GTz/9tKzy/fv357PPPmPu3Lm8/770C9zdNNjRWHLZ4HQb/jKORg8LKCYqR/o3Xo4vWtg051hp1lj6lneLv10X+i5rKu3yq5VvpYlF+o8poAt9jXvo885Sj2zcuNH3g/Hdd98tq7zRaOShhx5i9OjR2jikEiPvfsLTLlSghS+XhD6zPg6a1UpfUZg+9HkDI0eO9P3VFAKBQF9Y7C6uM/bB+bs+ffr4fs9YIBAI9M5PP/0kesYCgcC9WKx213JTyJj/8CZEz1ggEAh0gAjGXsp7V//paRcq0MKXS0JfoT56eFrp88/w0SQSGiGCsZfSdPFfnnahAi18uRT0HTmjj2Cllb6MA87HIson8JQ+fHECD0Qw9krMBgtpx6QPuvkFGmR90lY7GAOlL0tKO2bFbFDvdAq5+owBUFImPSe1wW7Qhb5CiSaNAWCRObujB32lJaqZvCQQwdgLORz+vKzyjefHYWsSKLn8L2fN1P+mmaY+qWmr+wf1iR8rPe1p/cRaXqWv7uSGvDUkWlYdPetzTOApf4gJPIFu+F3mGWkT/u8Kso4HSS4fnRTJ7Js7auqTmrb+ntuUbtszJZePJNmr9C2Z1JKUNzvIquNN+gQORDD2MuZkfO5pF6pFDd+EPs8xJ+NzRvc74LINgTJEMPYCBrc9ivX2l7De/hIFp4/Kqvvw8nACj8nrVVWtK4eC05V+drxTek6Qq67Z6JK+f8KV3ba6oi934buy6irWNz+MiFbKzmhUom++/3dYb3+JLUM/kVVXjj4xgeccg93uo8lBvZCEhAS6du0KcRMgKIZbRr9ChF8xcach6DNlpycsx/n5c1IZxCJF9a77JpQpJ0ow2uGz+c6Tso+67iOia6VyhdFI/nPKZns8pW/oYH/e6u14/sU85/r6DH+OdkGOFRMdXlD2+U2NHUubYzmK6oJyfdamRvbf7/gRqE5fuz5L6NPQcfadFH1bgTlA1P8Z8I9Rnrei7KSdcx/Y2bFjB126dFFsR2+IHXg65J6A7dQ3H+Hqbws5fET5VqXMm0ww3zVfMm8yUXu+/DHAZWPz6QA0CzZQq91qp2XqTj9HQG4Z+Up9u9kE8xRWLrehUN/ipWV0WOp4/mx35/omboF5K5UfQZR5k4nglWZAeTBWqs8v2UaHFxw/JNXpGxS4nv0KfmQsVsClHXjK6+oZEYx1SMeT64gzGTiVo/ymZejoAJ5J7O6yL/sSe/LO6G0s/ln+ce8AJ4rs9Dq2xOnfUgvsKLN6Xt8xz+sDqtW3qsD1z69hZq5iG6CtvmzXhpcFFyCGKXRE+TDFM4C0VPjV87f/UIplrL2tCbO/lavKFqtiSy2EPunoRV/5MEXE4wZMLgxTWE7ayZ7qe8MUYgLPB4lu56fahQxQXOZHdDv17LmKVvoCdHI1aKUvUPpSc00RZ+A5RydfP4EamAzQsaGRoFFtVLcdNKoNHRsaqeXhszS11HdFnB9BPqyvz0B/mgerblqgEmLM2IdoGWJgQ0l3Nr1WX3XbX74WyxV1QujScQc5Ozy3qF9TfQ1C8Lcfw8w51e1LRVN9bUJ5+IZdHP++WHX7crBYwebCJJwrdfWM6Bn7COkxBkbfWY9NGepfyOVsyqjPTc2u5tY7AjRrozriupiYNCFQW31n6jPlZn/6rJG3PlcN2ocZtNd3oB7xR55kxd3u//wA5l0n+n41If47XkyAEUZOrEWRfyDHztRm5+fxmrfZ95cgUrfXZ0QTR+9q6dtplGqUfCzACMPujsBSP4BDtexc/UwvbRqqQs/vejBmTwf+em4GoK0+fyP0uNdMVN1wCDdw9aTLtWmoCj237aWtrRcjnnOcHq2pPgOM6+vP6V6RAMx6M4YEErRpzAcQqyl0hNzVFNbApiRf3pSjayO1dq1aBgTuwq8kWRPb1sCmHAmM40RuqCb2paClvqjO0bweGUmLVeqPEUtFS30hYfWIviaCGQtaA5BCCgkkYHoEDA2V27WfBstn+NxqCtEz9kJ6zQoB4JX7OsFaz/ryV0knXpnlGGPdeF+BKjb/pc/DaRi11Dd5+lW0WOXZpDpa6pvxXhynF0SpYvNSQARjL6BRLQNXX1H5UU147UoPevNfPj3vz4fXrap4L2GrhX2Z0m66mgfBlX0rlzF4gz7LcRs/HJI+k3Tndf/VV3LSrosL0Jm+jBw7f2yS/kPhTF9mqvOxaVd34LlUV8fo4bsguIA8UyhZxsqP5lSska+X9fGgRzVzLtkMwJ3J11e892qbnWTlS9s91iA2kDuXaT9eqhRn+qau2UvWIOlpO+9c1vc/75l0ElWc6atlzKNVgPTxXWf6BPIQwViH/Bw9goDAehWvg04ZaIu8bF+eZuSphyhtKHGJ2OkGdGW9tg6pzLD+D5DVNE1y+a5JxzT0Rn1Om6JZ1fBeyeW9TZ8eEcFYh7Q5c5IIxelz9EGH3C0gOa2C913ILeybIMnTXmhHSGmxdgHW7gc25duhsdvxxbEKsc5YIBAIdIDoGQsEAvdiNYHVhX6g1YboGQsEAoFAE0QwFggEAh0ghikEAoF7sfuBzYUUoXbfG6IA0TMWCAQCXSB6xgKBwL1Y/RyTeIrrq+eKnhA9Y4FAINABomesQ84RSxENAKjFaYKRvu1WT5QRxDliayxjJo9ItMkapjVS9PlTSBSJbvJIXewYSaVtjWVMlBDNETd55NuIYKxDhvJVRQrNBw5HMKZV5b5/vec7rbqvqoHxNENsP9ZYfnS7UB7cN6DitTfpG3R5Iv6ba9aX183I5u3DKl7rXp+BCicPxIbx+LE3aizfqaOJKXuGVLyWpM/uBzYXQo+PZv0VwVjnpI7KY9qYpRWvnzpUmVCnYI/n8hhXJaRjVsXzKfGbK57nZNlZvbLmusfSC7xWHxl2Fl6kblyinTur0ZfxT2PMNs9ve6+q7/MR28g/eH5QthQWXmRHdP4xa7WfX86RUExFHj5U0IsQwVjn/LbXCnsrZywuu29TxfONe653VsXtXNa90qeFs8pk1d2ZZmfnT6WVtnxM39lMOwur0bcvuDE5m53Vci9V9a381EJqlvSe59ECO0er05fdnZwT0f+tZDWB1YUgbRU9Y4EOCK0SDF5utJnZbWNJXuHkC+8mXm60mU0yA1RNXKjvu7K2HE1z/5l0VX3QSt+z3ZYw5tomxP7ZXDX7crlQX6qL9qrqe6zhAWxPnOHNjzq6aPXSQARjL2bb6bO8N6kQ2yMmDh2tw0tPtXNLu2O3rmfIKcfBaXNGZl2ktHK2nT7LW28VYos38VexhRm3Xq1ZW1XZ23oY+996CtBW3987sln1XCnhD6VALQM3X+2enNWdr8li0qN7AW317TiTxYN78pm3IBuAXjd67kfHGxDB2Iux2GHmY3kAnAkxcCS6Py3TV2va5vEml9P9/ZXMmqfOET01YbHDzEkOfU27mNhZvwedU7dq2uaBOpfxwF2PMutG7c97stjhpzcKgULahhncoi+nwRAOHdnIrBv/1rQdcIwmfLaqDFY5An5yrWsgJwHsJhcn8DQ6QdXDiANJdYTcA0kvpGWIgZRGHfntcDOVPXMwvFUSTcz/cHiP51bdm1tdpp2+jkkUHDqBX4l2vcWLoaW+6646wb3R+/nyF88cLLgVmANwW32o6/xIJkmklcL3qT53IKnY9OFDHC+007BwL3d/s19123d/s5+GhXs5fcCz25+01Net7B+CbZ4LxKCtvh4h/7BiaenFC2tN+Q48xQ8X8lrolLS0NDFM4UtY7JB40kbAhKNwkcX6cjk34SilGZ6/idJS39lMu8cn6jXVl23H6qNbib2d6dOni56xL1KaYadxA/XGdBs3KNBFIC5HK32eDsTlaKZPBGLd8uuvv4pgrEdiQ6FdhIFgF+7GHrp6HUntXd9GndQ+k4euXqe4vhGHFmcPsw/og+r1RbswLFqur4wgl3zTUl/LEIXn2NlNYPNX/rD73g19UVGRGKbQIwvqDqZ2UB1ut/3AcYVjtGu/K6Fz/E6yGHDxwjXQuWwna79TPuHTPMTAzEa3O/1bxxMLCM1T1gPUiz6gWn1Tmv3CgiVFimyW69tVN46macpsgLb6br3hJ3jDM5OBvkbt2rVFMNYCq9XKJ598wuzZszl06BD+/v507dqVp556iuuvv/iusqXG1mCMoce7v9K5jh/he6xseKBQth/dD+WzXImAC2woYdScUA7HGyi22Pnu4c5Oy/T7ehPxMWnUPWnnr9Hy2/GkvjuGB7D7uUAAHr3fub7gMQu488UwAPZenqfIt42xVkhT5GKFDSXUau9Hky+Dger1bS86wszNjslGJfoElQQGBoqlbWpjt9sZM2YMv/76K/7+/litVux2O+X/5o8//pjx48c7rVu+tI24CRAUU/F+vybH+br+LwD8MeuMLH/u3BbBVVf8j6aW3bK1zN22lrnds2XVuf4+R7a5sS0srPtxkqQ6AwckMCNvFaBM352PxcHmRrLqgWv6im4Ioe1zD0uud7zHe4ACfX+G89IT3Th+IExWPVCm75axkeT6m9lTUpsRu++VXE+KvoqlbaNaQLQLwy/pRfBLok8tbevfv7/oGavNzJkzOXDgAGvXrqV3796UlpayevVqHnvsMRITE3nqqacYOXIkDRs2lGxzzYnmND/xJAB3RXxPj+wdkuvO7Z5NYWwSXCThS3V15bA1oiuPbr3t/Avp9Vb81YXmOC4qJfr69vRjrRxHq9SVg1J9AM23Kvz8rs0l16BsqEqJvt8NPVm2tea0oM5Qqk/goLS0VEzgqc0XX3zB0qVL6dOnD0ajEbPZzODBg/ntt9/w9/enpKSEpUuXXtxQNcxpfJuK3qqLGr4JfZ5jTuPbWJYgPxBfaOOilKfQVPqw+946423btolgrCaHDx/m2muvpUmT/+6fa9u2Ld26dQMgM9O1VQC3dtLfl1FNn4Q+9+Pr+vSOxWIRwVhNWrRowUsvvVTt3xs3bgxA06ZNXWqntvVdeeUpxs8gfWogIMBGLZO8WXK5Pqlpy2wrIyxKemY1i9HPq/SF+pURFigvc5w36RM4EMFYRUwmE0FB1U9MpKamYjabGThwoMtttWgnvffxXfHPNArIlVy+95VpvFxf+joFOb5oYbN38i6m/bPp4gXPc7h+I13oqyUxpe/ddTbzft8NsuzrQV9wUDXrkMvzGSt++N5UV926dUUwdhfFxcXs2rWLsWPHEhnp+gkWy1rfKL3sKRsFpTIWzRTaWXZSemYsOb5oYXN9mo3gPBkLGo5eAAAgAElEQVT6gnJ0oa9ZfWmX36azNjglL1OZHvSFtxbDFVJp3ry5CMbuYsGCBZjNZt566y1V7E09fIUqdtRAC18uCX3BCnewqYxW+iy1q9FncyVJkIvpN3XKnDlzRDB2BwUFBbz00kv88MMPqvSKBQKBb9GqVSsRjN3B+PHjeeaZZ+jfv7+nXREIBDrF9/r7OuP1118nPj6ecePGSa90eiH4XTARGNEZInxjt5HgEiA7gXfPWKiaPbkiU7TNz7WhBptvjkWLYKwhX375JXl5ebzzzjvyKja84V/boQUCryOiC0+3ms+5vyqX5FVshxY4RQxTaMT8+fPZvn17tYF48eLFLtm/6cVnXaqvJlr4cinos5foIy2MVvqCq9Nnc/GkDx/tGYtgrAFLly7lt99+47PPPvvP3woLC5k8eTJpaS6k4gL63iT9+JygHias1a35dMLZkgBKOkr/asjxRQub/vFG1v3TQnL5gCJ/XejbkyRt+VlZSyN7ouXZ14O+E+stqtv1ZUQwVpl169YxatQo5s2bR0BAACaT6V+P0NBQpkyZwi233KK4jRdHyEsWvndoZ/LMZsnlNyXWYX+XNpr6pKYt48DGPPqA9LzGDU/bvErfiTbNmezXTFYdb9IncCCCsYocPnyYYcOGUVJSgs1mq0idWfVhMBi4+eabCQ4OVtxO95XyhjiWzGmDNTNQcvlaOZA+O05Tn9S0lbutPq3SD0suH0ymV+nL/j2GyL+k9/xB55+fzcWTPnxwnTGICTxVadWqFdnZ8tIWKiFls/5u/1I2W6CDirZ0htAn05ZANqJn7AUEmotpGXeKlnGnONtB3mRL3VADWJQdxlY3VN4OsbMdnq3w0xQq40cpsMA1fQq7FK7oC6t3SlZdxfpCDPgpnK9Sou+BW5bRMu4UjRvLm9OQpU9M4DlF9Iy9gPYRyTzR0rEo6Od35U22+NdpSe10ZV9e/zotIV/67f/P35fy0tPTAJjfowW/fy9tbXXXjvt4Imqhw4YCfSczQ2XVqVpXqb6MCH+e+OFVyXVfaumoJ1dfbot2WA+bQUFnU4m+Gx/+mz4t/+Z4QTQvpUyQXFepPkEl4tglHXHhsUsL47+FQ1bMpXkcO3Rckc3ljHDJp0EsUlSv3xATR060hRC4oeAup2XeN/1CrCWf5lGZrF99UlE7ntJ3dXt/Dhkck2Q34Fzf/EHzCFheDMCpvXsUtTM1dixtjuUoqgvK9QWEBBDdojVQvb6RN8xl7ELHihAp+irWGQ/sBZG1FPkFQFYOrNjoU8cugegZ65JV983msub+7H0+g6NJVpT+XN73ejDLX3DNl/teD2bWC/IPQ9201AKGPTQIMpDxpfO11muez+RckoVzLvjmKX1/7yvDz+gIQBnfOdcXOTOLr/bLy0N8oW8fv9QVWOWSDSX6LIWlnNtfsz7L7jx+36/g5GqxA88pomesI8p7xs8A/z0rRB61AsP5qUSdXBhjAleTUyI9H7I7EPqkoxd9FT3jAX0gMkK5oaxs+Gudz/WMxQSej6LWhay2LbUQ+jxjSxVsLiaX99GlbSIY+yADu6n/ZdXCplK00hekk6tBK30NZOzCFLgfnXz9BGry9j7pu9E8aVMpWulrG6aPYKWVvrCe+vlBFfwXEYx9BD9/uLylH091epqMIulbn6WSUWTmqU5PE3+9P+Fm9wctfxOE1zNqqu/qhq+S1SKC0Fru12cyaK9vzPHXue35MMIjPfOjExx+/onN5PrDBxHB2MtpGmSgZYiBZg3CyLkxloG7DmnW1sBdhzjcvCm3jQmkZYijXa2JOa/vim4mGo3RWN+BHTTv3gK/sRFu09fIDC1DDHSNNmiur2/yRr4Pb0THoY3cpi/MREVbkT3rad6eN+ObPzGXEIYBzdi/JoLs9BB2vltH8/b+nNaOsl61sRscS7b82alpewWhsRwvCuNAlpFVn2qf43n+vMZktApmtKEA0F7fokFw2apOGC0G/vq0saZtASx/Jp6EkGI6GBxp4LTW1+f6QBatagvAshUG4GzlDjyl+OjSNhGMvRj/BcG89egw6uQnu7XdVRsbVDwfsuAQZTfKX8cqBf8Fwcx7ti4cjAbtOoz/oc7hOqzG8cOmpb52Xwfz/psvk5m/URP71XGuwMzq84sntdTX+B0zg09HEp9fvlAzRZN2fAURjL2Q2+5y7F66+8Z+1MG9gfhCltw4kNl3rQHg+znKd4pVpao+T6Olvju+aUGHI+4NxBeipb73515G/D/iAF6piE0fOqK6TR+GKAP7zlUep34SmZnG3UQM6RXPrwlP4HRusaR6EeEGNuVeQfkXUa/6GpNe4ePQAdtI/Ev67rr99ALAAKToVF/552cAgsmnKdK3cJfrg+o/vxRSSCABeg+FWi4MqeVkwIbFPrfpQ/SMdUjnuwJpW79ybvWAvS473r2q4nU9DnjCrYuyg0ofX5x8nLTTEjO3RRn45Cn969teRV/Abfu5p1uJ5Lpz39G/vqqfX4uGZ7njziOS63qDPr0jgrEO+W1NRzabwyte5xYFesUXvKqPr09vj8kq7VihErzjAq7q4+7nuvKVjB293qbPkmnjq4W9aihdfd2LIibwnCKCsQ45lRxMAcrSQuqFlP3KTzLxBsLOhnL8rKe90I6SYiPHD3n3d9DbEOuMBQKBQAeInrFAIHAvIoWmU0TPWCAQCHSA6BkLBAL3YjO5OIHnm2FL9IwFAoFAB4hgLBAIBDrAN/v7AoFAv1jPn/ThSn0fRPSMBQKBQAf45k+Ml9O0Vh71z38y6Q0NZO514VhzD2I2WWlaK6/GMmVmPxJPhbnJI3UJr1NGAwpqLJNlNJCW7p2fX5ExjE6RF8m0FmzgUIpMfXYXl7bZfXNpmwjGOuS6ertpE+xI/G19LpDVa+Ir/rb+M+1z3rrClY9UXry1Corovrvm/AbNO5iZGdaq4rU36WtXP48Gvx6vsfzpxn7sb9yu4rXe9TW+PZmmtRw3zPl+zbhh3YYay0e38uOHYd6jT8+IYKxDdh+2knX+edMX7cQ03Vvlr/r+ssccrfTVlmtn4y5LjeVPJhcQ09079RXuuLi+oCQrMT28R9+17Cf/qCM3ndm+96L6wg9ZienjPfr0jAjGOif5kBUOWSteT4pYWvH87ezBnnDpP1T1KWG59LSSACey7FCljq/pK8q2U1SNvpUjLmP7nIauO+giVX06OL+UQhkSc4uq//z+COzBnrNOUmVaXUwUZBXDFAIdkJBdWvF81ovLGbq9OUFbm+BnMRKS48IMtQxy/WtBeBoAPz2ylnmTSy9SQzoX6nt3w2Vs2x0BJaGE58sLhEopMQZREulI/6mlvofNe7lhxFX4r98HNhPhWe4JMhY/I4URRYC2+h67ZxvFj4dw14AejjcyVGvGJxHB2IuZN7mI625KZVXbTKx5dQjZFeeWdtv0DeCfkl0VPmjFvMlF5HY/jLVtAJGBrWGleybCDnTPpWmAG/RNL+bpp6fxXmYE9QmlZF27i1dSgdCIMvLaaq/vp69L6HnYjvV8W6w7fxdgN4HNhY6D3TfDlm+quoSInp/JzUBgUB7xl+fz3uZOmrb35K17aJd8kh82uqeX2mFbJh2A+OZpBLaP4b1/Omva3q2xSdwctpesldJyMbtKyrvF3EwqDcwQ3b5Uc31PPHuAkIXZbFuXpmk75WzZUMrNpAKQGlNGwkm3NOuViHXGPkJZcQGWwyf4au8Wzdr4au8W7AdSWLjFPYG4KseSbBw7kqKpvs8PbSEw+ADFa90TiKuSWozm+ob+uom+icn8c9Q9gfhCzqaKcYqaED1jH8Fmh/2ZdvZ3SCWYAgoJUdV+MAX82CFVVZtysNjBUmLnRw31He9+ltO5njkS0g4UaKyv0QdZfL7e/T+k5ZSUL8wQE3hOET1jH+RKVnqFTaVopW+XhwLxhWil77gHA7Hg4ohg7KPYHpR+sq87bamF0OcZW6pQvgNP6cNHd+CJYOyjXLUwSZe21ELo84wtgXaIMWMdcnxKJAUt/BnzYSbHd1uxW6GwUN4tdPBZO9+1XsztB4e65Mt3rRcz56D82/fgIAMGE8SHGfjukyinZTq9noXpqAVsUFDgXfpC/AGzY8v69tnRTst8sDKP778tBqAgT5m+LpmP0ybtmGz/ylGqz+gHQcE165tYv5i11zlyj8jVJ/gvIhjrkPnT74agGHqM+glzGzvRWTmcXXQQgCwZw35zDlpJpR11OYgR68UrXEAq7ZhzcJGsOpHnl4+2eSyQQ1mXkRwEn75yk9Oyb3X6g+bd8okPP8eBjx0BR4m+OiTij/z1sq7oG3NNIL/EOJYRVqevx4RFmC0lAATMdqySkKsvv0MmZWlm/CmW5Sco0xduAj8DEG3GOOQyoHp9S6/6ljduCQBk6hMpNJ3im6p8hLG/jAGgqSmbbo32AXB10q+ybMRylCNRQTQ8ly+7/ViOyq7zS6ORAJw5Z2Ljtp41ln121/UAdIo9S2wjR1tK9EU1KyQ5Sf44oiv61pgCmLG5e41lx344ouL5qEaNAPn6rsraisXQijIFHU8l+rIGd2Ht3mZkBZhZtblrjWWP/X0Ht5x/rlSfoBIRjL2AZEsEyWG9AZi+fCXzBuVKrtub+WyvNZaG5+S325v5ssrfvDycRyc6/GSb9Hq7jtVjV1g9QJm+kno9SU6qL8fVirpy+Je+JHlt/aLw8+tzcj87DNFkECGvQZTp6/lDU46d91UOsvSVT8QpRZyBJ9ADURNf9rQL1aKGb0Kf54ia+DLHtl/psg2BMkQw9kIOtfW0B/9FTZ+EPvfj6/q8ARGMvZCZHYfJKv90373UqVMiuXxk2zzuvlXeeKNcn9S01Sf+DFk3HpBcPp04r9I35NoURt9/QlYdXeuznd+Bp/RhE+uMBTqhaF8/RjWQ/tFFrN6NX6H02fjWtfOxbjsoufyoBkaK9vWTXP5iyNWXvOokU5+XvlX7XKNCXegLkRhTyvYlMehUoqw29KAvwj0ZXX0GEYy9lPpRUySXPXvchrVY+nS82QJnj0pfCifHFy1snj1po30t6V9lu7lAF/ri4qRF44wUGyTLS16kB32mq6qJxjYXd+CJnrFAIBAItEIEY4FAINABvrlgTyAQ6BebizvwxDpjgUAgEGiFb/7ECAQC/VI+gedKfR9E9Iy9lGcMazztQgVa+HIp6MvP0UemM630+Z9y//FV3owIxl5Kn6TFkssOuSOQkCjpH3V+tIEh9wVq4osWNocMC+C9I9I3tXCmjS70paRJC1Z9bgiAMQGy7OtBX/YR+ZkCL2VEMPZG2qwgWcYRQSO3j+RkRpjk8gnL6vHsd9dILp+ca4c2KySXvygy9S3O6MjmUVdLLt+6cLsu9JVK7Dh+vrQH/3vnCllN6EFfUXWx2ObC7juri0mGdIwIxl7ItPnLZJXPL/PHZjNILm8tM1BYLO8LL9cnNW2VWv2gSLq/Rixepa+k1I/iInnjpN6kT+BABGMv45FbtnvahWpRwzehz3M8cst2jJGnXbZxUcqXtil9iJ6xQA8M2/mLp12oFjV8E/o8x7CdvzCkU7LLNgTKEMHYCxgQeozD2a9xOPs1En8ulVX32SvuJyZJ2cf87BX3yyqf+HNphZ9PPf6W5HoP3ZDgkr4FCf1k1alaVw5V9R0b/oGsukr1ff1oV5KD68qqU44Sfe/+toTD2a/xc8knsuoq1SeoxDf7+16OKTQbY6iZxHEfE5Jsw37Cxg+bZKwWOE+4CfpvSlPsR/9NaYSbINcivc6KlBwAnlgZyHOjXyAwzEDEr487Lbuy9zd0CM6Es3a+T5F/xlulPmUaXdF32+/5ZI1+AYB6K55wWjZ7+kxKfi4A4PuX5Z/RF26C3D860KggS3ZdUKZvVVIRUESdhnlk3V6zvn63TmHeOcdOOln6xDpjp4hgrEP6NJhNZG0Dm1+Bs0nK12rWCmsGyq7jf9nIzUqSXW/hj44fj0ZmGDrqHadltn1lZ2+68rW2ntT3/R4r7HEEoKG3O9d35AEj6zfIiIROfIvIdO3mVam+jNO2igBbnb4X8s18/3KhK+4JqmCw2+36WHkuICEhga5du/IM0MRFW4GTzfz+4rVquMWwyX9S8qL8nquWCH3S0Yu+rcAcgLrvQkAL5YZKEyHtaXbs2EGXLl1U8s7ziDFjH2XV9Kt0aUsthD7P2FIFcdKHU0Qw9kFyiaLgZJBq9gpOBpFLlGr2XEUrfQE6uRq00mcKlL7WXOB+dPL1E6hBiB+0HOTPbF5V3fZsXqXlIH/CQjx7QWupr//oAALDfVdfk/sCaFlfB5e8OOnDKTr4ZARqEBYA/Vr7cSysE61Zrrr91iznWFgn+l/nT6wHAnJtf+jb2KipvhV+l9G6QSQ9o91/Wfgbtde3Jrk9/R8Moktdz/zgtKntkWa9BrGawkc4aWnA+0ltOLFPeg4KuSz7pSH7o8J5Y+wmjn3u3ln0Opf7M31bH078oqG+HxqyMzCSvXcs545ZmjXjlHZhBqan99NU38ElMUzYE0lrwzkM7NKsner4K7ctsN/t7XoLIhh7MYFBBjK+CGZhtg2/EwbqvK/dhVzOiXOh1D04ks5THTut7ptUTEmRNgtyAoMM/DMhkC31DGTs70mbddrrO1sSRMaCd/h26iuAxvrMBq7bUo8xa3J4v8BGh+e015eSEkJCYzv2qY4xaU31BRq4bVwgA1o5euIlj5sdfxAnfTjFN1X5OMbzd5kdbmzCs+81oO7eem5t/9rVebB6kMOH23aR8INjC61NpWu6qr59P8dR93AoyvagKaNN5kZ4XHt9/cdFM/iWkbQ4cMqt+qJTQt2ir+fAuuy4PIK6d7YGIIUUdRrwUUQw9kKO0B6AZd/Hon1fqmbe/L4TsQaHF7H8o4rNqvo8jZb69q+vR4sDp1SxqRQt9SX81ZC0xU5WhYgdeE4RwdgLqN/SjytnhFS8fqC/54NUVY7ZHf48s/pExXtl4wtYtE9acvFW0QY6zq/8WfEGfZZZJSz8VvoW9dGrwyueV+hz/7CtU5zpyzlkZcVDBZJtONUnfwf4JY0IxjpkZA9/OodXzuj/GWnngf79PeiRNKr6+PlD67m/Qb60iu1MjPEyff/bs5b7U6XX9TZ9sRE5vH3NJsl1vUGf3hHboXVE+XbovvQlgghPuyMQqEoKKSSQAKEzwa+VckPWw5B/v9gOLRAIBAL1EcMUAoHAvdhMYBBL2y5E9IwFAoFAB4hgLBAIBDrAN/v7AoFAv9j8cCn0+Og6Y9EzFggEAh0gesYCgcC9iJ6xU0TPWCAQCHSACMYCgUCgA8QwhQ65+5XjxDdzpBu87dv6XLYy0sMeKaNBi2LGvnS8xjL/pJpYMqmlmzxSl+KWGbz8fFqNZRIONGHFOyE1ltEr52jBlNlLaixzIMfKb4+3l2fYZgK7C+uM7b4ZtnxTlZeT9FEKdpMjD+HGvzJ5+LLeHvZIGZaTxRx88miNZYbEhbAE7wzGV9cpvai+4nbJwHXucUhl0ptlX1RffGsjIDMYC5wiclPoiPLcFM8ATWootz/qGgBOntNHjysmypHdq+25larYu1T0JRcG4FfoQg9RJbTSdy7fTHFx5WRbRW4K489gaKe8Afs+sI32udwUomfshTxyxVoAnszrQPGa7oQjI32YypT2S+GRsL0ArPldHZtV9Vl31CMoL0AdwwrQUt+7jRtyfNb1RJacVsewArTU92NgCxZvaUuTFJs6hn0cEYy9kDW/lwHQodcuige2IHmF53zpULqLNb+re7FV1Zcd0ouzeXVUtS8HLfX1uOokf163nZ6LGqpqXw5a6gu77Aj/G2pn4edtVLXvq4hg7MU03Wjjtk5LKG1j4khxPaYcd+HWTwbTPtqM/3THgaQ/b9Su19N0o40HW+wgtI0J+ph4YMZVmrVVlQM3nmDdQcdYqZb6+NvKqnY7qNPmINQy8MBm9+QE7tAkk8dCHJnttdQXsttGz+yjXN/mDACDD5yfG7CZcC30+GbY8k1VlxDf73Icp1AntpD5a9MY3ncEZnI1aauYcMb/+Au1PinlmwMWTdq4kGWJDn0tCox8u2gVo0fcoJm+EsJ444ONNDxzmp8XFGvSxoWs3mcD8mhkRnN9pYQwZvlixuyw8M2z7jnde3WyQx/AI/+3n3EfuKVZr0QEYx8h45iVVYPzKKQFZo3O8ymkBWWvlvDNAWnHKalJ4gkbiSO01Rcc0IwlT62gjtU9gbgqp4rhG431BTVoQI8PLXyz1D2B+ELWfeD4vxqwYkD5d8iOFV9cdSA2ffgQiYV2buFVHr5yn+q2H75yH7fwKmc8EIiroqW+cabXqWM9+//tnXl4FFXa9u+qTtLZV5KQEAIxbAECIQECIjskSgigIuAwosIrL4ooqCNuDMI3CCiKyyAI+IoCKg6iwMgSQHYFAoR9CQmLSUhCdpJA1j7fH003WbpDVXVXd3Xn+V1XXYSqc57z3HW6nj596ixmty0GOfW96Pkp9lspEBMPhoKxHVJ4Lt0mbEpFLn1/KWQDTbn0XU+z7hcp0TQUjO2QomIGD77KbPY8+CoUFSvnh6Fc+moVIlEufVUKicUcGDhoTDgUUlFmhvqMLcjevXtRVlaGxMTEJtOFdFThIVcOty7WoqxC2gdvtvcO/De8L44k+0vKr6NPrzyMTP8TBwql5XdWAcHdDH/Msi7VovKubesDgId6GHmMrtfiapFp+nYnR8Ad+ZJ9k1NfdbEGGddoDLG5oGBsAU6ePIm3334bu3btwvvvv//AYPxnu0G46ueDV9w3o+BcDUprgAul4h7qA4UM/fscxxE8Zorr6O9/HAeSxQeUCHfA05GDpzuH5ZFjDKZ57PYO+BaWo6IWOH3btvS1cALC3bRT1tcb0be4xzb4/6Lt+zgqMijr9H3r9zA6FkgPxlL1uamArp5N6xsa+V/EflAJQJw+3gwv8OzxK4CCsYyUlJRg1apVyM3NxdGjRwXn+/5yN8AlBAdcQsGCGHrz1xF57hfR5Z/eZvpPXak2MhY447OvXgSnAk6khBhMs92lLVyDavH0gLNwXSF+Kq419Q183A0jzk4FAJw0om+/bxsgSBs2phQtleSbJvwWUCDJRb0NKdxw88TnQVMAGNf3U04oAoO0QViKPqI+FIxlxMvLC2+88QYAIDMzExs2bBCV/8TdVoAKqOlWgbkHAwEAW/xzUSNiiO/GEdvR5dA7iLidIqpsXd6V24Snd3AARuVp/ez5fhtkqQw/xDoucUGACjh16xqyiqTr+8IxBvs3BwjPVCevVH3z99Xg5IWm9Z0sDAbuLc3wm0R958N+wJsF/XC12Et4pntI0Tf+kC/udnTEqVR/zP2fpvVlZbdClon6iPtQMLYQarVact4zZ9ohaMCbAIAdo79B+s/nBOddua0KCL8KKfMIVopsVbUZ3RVBA54XXY7mSn8EDegPQKK+WGk/Wi2lD4D0+ttdjRJOWr+zFH2J/9cHB/8UP31ZnD6Nid0U9thJQaMpbI5HU6UFA0tgDt9In/V4NPV5SYG4oQ1CGhSMbZAxHypjacm6mNMn0md5LKmPR63Jhz1CwdgGabV2vqj0wz7/CaWtigWnz/AJxLElW2T1yZy2ro48ga0eswWnL0aITek7O/MAdj/T9CLvDbElfYQWCsY2iipa+A65XRIq0FbEkrmTOp7Ce28I76cU44scNiPm1KDy5AjB6W+GlypCn5uaE5T2uaUMV0/+Jcq+EvSpPYTpI7RQMLZRdo2Jt7YLeuTwpTnoaxeijMdPLn2+UYaDPM3AM4wyPg2EaH7+z1Bru6BHDl+ahT6FjGWSS1+1E7WMxaCQjwNBEM0FzsSXcMxOX+BRMFYiN38FVC71z3n3ALztZ/NFws4pPokPs2tQd6RzkdWcsQ0oGCuR4DGAS9OznwhC0XhH480OPyF/T7X+1DEA31rPI8VDwZggCIvCmTgDj6MZeIQp3L2rXb1LozHPBylvyiKz2DEHcvjSLPQVKCOoyKXP5ap99u3KBQVjC1BQUIBDhw4BAA4dOoTaWtM/pD/NzBOcNjrYB66OwseSlmscMThQ+MI0YnyRw+YjrVyRXeIuOL261EUR+k7nCxui1cvXHdkeHqLsK0GfsbWOeWhMPuwRCsYyotFo0LNnT7Rt2xY5OTngOA579+5FcHAwnnzyScl2/9dd+HKcAPCsSyIyqoQ/zMeOtcDbuYNk9cmctvaERGJGzxjB6cNv5diUvhVFMZh7pJeoPLakj9BCwVhGeJ7H8ePHUVpaitraWv2Rm5uLn3/+WbLdsTc2mtFL82BOn0if5bF3fbYAvcCzQVJvKu9nWupNDeBnRlsKg/SJtNUEHDQmjTPWUDcFYS1cHKvR1rUYbV2LsfPq66LyegTx4KodJZXrESTu47Hz6ut6P9XuwkeVOrtUmqSvSuJ6v6boa+NfIiqvZH2BPHhHaTPZpOibP2Yf2roWI8hF3ALYUvUR96GWsYIJjTwFHxfgEdcczMjcDwDYI7I7rvXUdvCb5wNI2NSy9dR2uDAvVXD6tHJgR/BiAMC6Jzhs3TcOVbXAxRNRBtN36HoZLq53MTAiDdMPnwCDNH1bf3J5cEIjeaXqC53gir5J2r0MTx8zrM8tPAXt/LSBdEOhdpcXsfo8X4oA95UaELHQkw4p+sb9sQPjg3fimrMnZrtq9xc0ps/JJwcR7XMAiNPHmbgHnil5lQzHGLPPVTdskJMnTyImJgZoNwtwCcHnD7+NmiwNPIsZKg9J+wAmYbRJPsVhs6R87Uc74VytBkFq4OnUxQbTzAr9EK25AgTUACU7pO3VYy19ndrxON1J2/J87YZhfWtGzkHhWe0cNPV/pen7LHwSItLFtcLrIlUf58Ohop92BI4xfc8+vxzdf78OQJg+3aQPDyyHAzpI8gsAapCKUryIEydOIDrafmalUstYgWx0Wosuzo64/p9qXC1kqJRoZ74yOXQAACAASURBVOciB3BvmebLzkUOiH9LfCC5srkKagC1jsDFqCUG0yTvy0dpeS2khhpr6ruUpoE6Tdt3ebGXYX1OP1ViR7r0VtzORQ5oMccDkHyHpOtjRUwfYI3pc/8lD1sO0oZ35oKCsQJJvpCPXBNtTHzDC0lvDTLZF+6tBEx8Yx/WL5EWEEqqgd+Ts032oyFK0QfIq88fmSbZUaI+3sQXeDTOmLApnl0ySJG2zAXps44tQj4oGNshj3zgahM2pSKXvhZOZjcrCbn0Bfgr43E3bWF5Da1NQSgfNxXwVB8HrPmxr9ltr/mxL57q44A2rtZdMFxOfY8OcYSPm/3qi39OjaH+tOC7UqFgbCcwDmjn44AXjiTg6hnh6zQI5eoZd7xwJAGaR1zgKG3YsknwKqDSUSWrvkk7RuBcZWvwLpYPWDwnv75nPoqD//O+qHGwzmNfo6IvgqagYGzjhLZXITRSBU0vNzwZIf++cS/c/DueWuSO0EhtuXITGq4tJ2KcExYP6id7eT/EtEPl51EW09cqlEdopAoD+zlYRF/XVXNxNKGr5erPm9OXtTVCO5xNNwNP6mGv3RQ0msKGCXfj4JQYgsxL3qgtcUWfg/JXZ59zuVh7vSO8W2uHNIVfPYP0cnmGqoe7cVC1a4tslTsu3AH67PKRpZy6dDvqgQ03OuPFaO0DL6e+1i7AyQR3PHQjDMedOfTZJL++3kV74JEShKKu2laqnPpaOQOPPuWMH7K0QbjdNhVOylKSfUDB2IbZXvUICta7oTRXbdFy93xxfxeSto6e6ICDspSzveoR5O/1QFmVZftFAnIy8PO2tgDk1Vc0qhMO/BqElGxPWewbI+cvZ/z8V1sA8uq74RaJd3f74fI13XKeGQBocXljUDC2Ebg63W29M7wBAEkhvjB5QLKJXK/2xTOZWn+OtS7Wnxc7r9OoPitjTB8YRG0Yb0jfc92HIbwgwwxeSseoPoirQ0P6PhjpidpTwtdVbu5QMLYBWrTi0aVzoP7/74b0tqI3jfl/IQMBAAuGH9Of4y7lYV+GsNlZXVrwaNHDtvR1CCjEqvXC50YOGBak/1unLxzWDcQ6DOkru12NE0eFr2diSB8hDgrGCuQPh0Sc5++vZ8g53AW/q8KKHgnj3V33H8LuAQE46VTdROr7nFUD2buUv3dwXX3DXlVhp5Pw7oUkG9PH8w6odhK+IYEYfboXcVIxJa+SoWCsQEo07qhl93/eOWS4wEfKsl1WZO8tF9SqhE1eKM5m8LOxjdw3f+aNOyrhwcrfxvRVMRWKaoV3MdiaPiVCwViB+Ghuwht3rO2GSfjiBuy0AQMAcEMB3GoLrO2GbDiwSvjXXpfFNgdm0voSnKjeetuBxhkTBEEoAArGBEEQCoC6KQiCsCi004dhqGVMEAShAKhlTBCERaHF5Q1DLWOCIAgFQMGYIAhCAVA3BUEQFsa0F3j2OoCdgrECSccwqBEGAOjS+gS4jKtW9kgaFfBBGoY1mSbY6SZ8qw5byCPzUqv2wcXKpvW5qPMRXrnXQh6Zl7uOzkivTmwyjYdTGdpUbbeQR/YNBWMFMhFzEHrv76nz3LFsUUS963tTgy3vlAAGd6g/Zdux8gpwY02TeUa0ccFmrmu9c7aiL6LVeaTtXdNkHtVDPCpqY+qdsxV9N/1cMPrPvzeZp1uICiccouudU6o+pUPBWOEcmF2Obr71l+Qum6fddj15boShLBan17yLAIBu36fXO18BhmsPyHs8qwLdWtumPlx98LRcl2sMHdoY1rdt4WD4V+SYx0kTMKavWx5w8QF5MzJq0e0hw/r+XBkCh6zG63fwJk6H5u10OjQFY4VzKY8BefX7yPz+L+3eX8oIVjp/Lt4Q/4DdusNw67L96iurYLhoRN+IcS2R/J38u3s8CFP0FVUDRUb0Rda0wEUIX0ypuUOjKWwQzQ0NNDc0WNFyK/pPvQ4f7yp4eAhbO9gcuPlXwcdbe6xouVXvj7mop69DNny8q+DmXWU2+w+ixkFtEX3jth3EjanHtGX5WE6fo5PGIvr+XvMnNizZqy9Lh24GnimHPUItYxtmU44GY+5ewpjJqUgt8sXcLUMRXFAia5k5nn74es3PcN6jfbg2fSLfAPxNORqMGXQaY4J5ZLRgePPTMQi+dVe28gAgz9cZPo/54r3ArVofZNS3K59hXXYBnCfvg7cXh8eWjZJdXzbXBX0fOYoZUX8AkFff/gIG59XleG/yPgDA8FXdgVLZirN5KBjbODvXanebKHW+hcHBF3G5QN6XJ7Fd03DrrTu4eFbYwvGmsvNHrT6fIB5hThdQeW+UiVwEOGYhofRn7FxvmV8a+7dqv9T8nYCwAPn1/S3uJrLOXcXO3+UN+jp2XqoFLmnLCvDJfOA7hOYMdVPYCR4V1eiZmYylA+UbJrZ04GEkXjtksUBcl6JsDQZmnpFXX+IfeKL8GKq2WK7LR0deFWTXt3jmEUzOXoe2WdYJiZ2KMgFoNxTV7fYh5bDXDUkpGNsReVXA9v35+KnE/Lv9/lRyENv35yM127oPgpz6Lu3JQ2mZ5fpuDSGnvhvb8rH2jOW/aAhhUDeFHbLaq9AmbEqF9CnDplS0CwWZMrSNWsaEDTEp4YoibZkL0mcdW4R8UMtYgQwJ4dDNmcPhDA1yhe8GX5/zl5DyYi56LH/EJF9SXjyESdulbzap5oGEhwx/5/+eoUGxjesDgCfaGdaXdovhzG2JExTu6euwfAzckC/ZNzn13Sln2JFtnxMwrAEFYwUS7zwTcAlBUuxbyD1cDQ4AEzm0Mue6BrOXFyDJRF9mLy+AlDlinApgACK9OQS5fGQwzVtu/0LrmiKb1MdzgOZejDKmr3TS+ziz/N5YLon6PguvRkT6g9MbQ6o+cND/bjam79MP/wnHp8q1/xGhj4PGxJ0+qJuCsDArxrXHzfWRcPsoDK1CebQKFV9dkbHFqICnpPIjY4tF59H52e1XN9xcH4nvl3YxmjZvbiRuro9EwI+hJumDl7TmtSn6Jr/pipvrtf4bI9avtT6NVH2xEflwcZMWuCTpC9L66d//wfrm/jDSZH3EfahlrGA2fTUFANDerwATY04BAFpnbkOFiIbBqF5H8UtqDNoV3RZd/qheR5F8VHh6Zx44FfMoAOCb/9TiRkpck+m/Xj0aANC+fQb+HpMKBmn6SlXdcP2PIOGZ6uSVqi9ZrcaCBU13kVzYNAUX7v39fsweAOL1zQj8HWvc+yKrXPwXqhR9zuO64uhfIciqdsPKBX2aTF9yqTcWLOgNQJw+zsSdPuy1ZUzB2Aa4UuCH9wuGAgC6hIXipfQVgvMm/7sC1eH5gIRuw+R/V4hK/0nYNJxPay+6nCtXWmMuWgOQpq9NLIfroks1UV9a02kb8n6axPr7ugIVnLTgI0Xf7bOByMgTH/il6iPuQ8HYxjjvKj7YWQpz+Eb6rMd51/ZAnhlsEJKgTh4bJHpAuLVdaIQ5fSJ9lseS+mihIMNQMLZB+ha9JCr985oL8HYQ/pIrtE05xniLe4Uv1idz2upSmo1RMzMFpy9w87IpfQPcMxEXniEqjy3pI7RQMLZRRkxxFpw2MvcEnJnwhWHCQ24joOq8LL7IYfPO1b8w6XXhW1Pl+jsqQl+YOycorVd1Osb6ipu4oQR9/i0M69PNwDPlsEcoGNsoPU7NEZz2xh2GajGf31rg+h3hg/nF+CKHzZsVACpETD5QVStCn2ewsMfvZgWAO+LsK0EfutIrKTFQMLZRiqvM35qRihy+NAt9whrGsiOXPqYyu1m7hr66CIKwKDQDzzDUMiYIglAA1DImCMKi0Aw8w1DL2Ebx9S+wtgt65PClWehTyIJncumTOHGw2ULB2EZ5o9cSa7ugRw5fmoO+wkJlRCu59GkylKHPVqBgbKN4LRaxPdA/1bjtJ/zV/eH8AJz5X+GvwkX5IoPNqokOmLp4snDbt1wVoS8jX1jTOP1JHv/oIi6wKUFfQZrhrgiagWcYCsY2yJV5/xaVfs3uBFQVewhOf+eaA7J/HSKrT+a0xXK6ImPNLcHpg0rzbEpf0f5eyE56WFQeW9JHaKFgbIMkPSFud9+SXHdwNcKr2qGWgct1ldUns9oqU8OtplRwch41NqWPK3CGa7E4f5WsjwczcQaeQjrbzQwFYxtjfIuz1nbBKObwjfRZj/EtzqJVsGkv85SsT+nQ0DYboGXwLUx+8gQAIP7zvTgnIu+Ajip8VuILoER0uQM6qnDgsvD+uZfy1iL8lcEAgH9vD8LttChhGf3T8c6EVADS9O3ykDaVzRR9O1I1OLkzQXDed2ZsByBBXzsVLmRxgPClRe7nlaBvzNsROFveEtm3PPHNhn6C80rVR9yHgrEN0PV2ETp8uhcAcO6CuJcXq7MG4qG72ZLKXZ01EB3wu+D0587V6v185R0v/GuxsGA8KSbPJH152S6i8tTNK1XfpJFu6AThwViqvndUCXCukjYqQYo+r39eQAf1RTg6+QIQHozF6ONQa+I4Y/t8gUfBWIG4O1bCQV2BvA7zUHu0BrcKGbZmie8nU7tyuF7mATXE7fig43qZByJdOVSKWHSm/N7DOP0fxXjP9R/gvTgE8PMNpk26+wm6VRTh7o8M32dI1ycVU/Td/Os2KgL/AQBo6fP/DKbNHvshuFXavuyv08UHVLUrh8uVfoioLRSdF5Cmr+Sen13UeagIaVrf7BnzMWt+NQBp+oj6UDBWID/ErEbXQB6/ralBVoG0D7mPI9BuchtsNfHFdrfJbZD21XUUVYvLtylb67efE5Ayw/DDfHhtFZJv2aa+i2XAxTKt7ymvG9aX8201tkkMUjp9nv9uDUBaMAak68urvB9gjem7+zOTFIRpbQrDcIwx+3w1aYOcPHkSMTExmA0g1ERb5c5dcLiinTncQj/nNLhVCF8f1xKQPuEoRd8xAN8C6IwX4AbxG8jqKEc2LmAVTpw4gejoaLP5Z21oNIWdYq4H2dy2zAXps44tQj4oGNshU8dLe6FlaZtSkUufp0I67eTS18FHGQso8/de4Jly2CMUjO0ITwfgsmMUxm6IM7vtsRvicNkxCq7e1n2g5dRX5t4LFSons9sWg5z6znTogaAQhXzjEI2gYGwnuPlyGPKiM5Icn5StjCTHJ9Hqf9Xo1dbyH5sW3hx6PaOWVd9nd55Cq8RAdB/oKFsZxvBwgOz6vk1JRPh8N/SKt7w+AAjvp/0i4MDuvcSTetjnay76mrRxHg3koHYEslQBWP5HJ3S8c1y2sjreOY5ft/XGpy+cRPDycgDA5kx5H4wB/hx81IBrf0d8ciZWXn1Vh3HsQgf8PJjD0nTtbsxy6xvcgoOnM6D25vGZzPrCqk7hy+VR6KcuwugQ7Uw5ufWFuQLdfLW/pqb/FQ7gsqzl2TIUjG2cHWOjsefLVmAM0NyQvwsh66wPJpwfol+Ldyi2yFreL6wPTmX5AxuAWo38+tJT3cGuROEVaCesyK1v4DMM/T8dBWQBtUx+fTnJ3tgEb/zKtQUgv77Br7hj4mLtokUZLFPWsmwd6qawQVoG82gZzOPMJy3xzcqhqGXaH2+WolbDoZZpjzOftNT7Yy7q6vvdxVFblgUCsQ6OWUYft9IXQWsW6cuyFAywiL7aOX4ITenRSB9n4ss7moFHKIfwjgCAnNc6oJWVf/blvBYL9NeuK4GbF81jtI4+L/NYlIyc+rZ+1AJhRX+ax6ZE5NR38f9C8HCWuNXjmjMUjBXOo8vd8eaLj9U7V3PQ/IuBm8J3BzsAABzQtd55X64QUWxPk3n7hrpjwV+2qa9nh0x4pjYdTGs68jhwuf5LOZ0+647buI8xfXltijH+xq4m8z7Ulsfq64b1GYNm4BmGgrECefxHd/TorK2a1uu90Qc19a4rY7RoY6ob+OnRlcP/rPduMs+1ahdUx9imviMBNfhpY9P6kk51xJ5JtqmvJGMA/udMcpN5LlRpUN3TNvQpHQrGCmT2hBh4Q/uQ9wUAG2kJNGyxpJ91w7huA0XnUyqN/DwUjHHdgsXnUygN/WyrOW5X9ad0KBgTBGFRdDt2mJLfHqHRFARBEAqAWsYEQVgUDhoTF5enljFBEAQhExSMCYIgFAB1UxAEYVFonLFhqGVMEAShAKhlTBCERTF1gXhaXJ4gCIKQDWoZK5Cx7dPRztUZAHAm0QF//KujlT0iCEJuKBgrkNKbmShWaWf4T/V0xtjT5fWuv9bdfnbEJZojzMSXcLTTB2EhSsqBwnsfuO/fvAu8mVHvuprTrq5VyZSy7hdBEKZCwdgGGee4HQBwucPD2J/tCpcCNyt7RBDCoRd4hqFgbIPk3lsudlCLZJyO98Op825wLnFD2J9h1nWMIAjJUDC2YU7tq0afv3IRVsVQUhWCbFAwJghbhYa22TjqqwyhmcCQ8ixsenQbnNT2OTuJsB90M/CkH/b5GadgbCfklTP8srcaH6/Yiwp4WtsdgiBEQt0UdkRuJbD1+TKEIgO3rL6VJ0EYhjPxBZ697g5NLWM7JAr7rO0CQRAioWBsp0TsanpXX4IglAUFYwVS2gYo7sjBxV36Pruth99BhEuhGb0iCPPA3ZuBJ/2wzxl4FIxlIj09HZMmTUJ0dDT69euHmJgYrF69WlDe7X37YH38cPR+To3oIY6IipHWtf+U2yFJ+QiCsDz0Ak8GTp06hYEDB2LMmDFITk6GSqXCH3/8gfj4eCQnJ+Orr75qMv+1430BlxDMav8QHJyAGL8MjPLeBgBILhbeKjiSz3DEbwhiCv6EI+6apIkgzAXNwDMMtYzNTElJCUaNGgUnJyd8+eWXUKlUAICHH34Y//jHP7Bq1Sp8++23gmztutIe27PaY2HOIAwKWYBBIQtE+zO7cDbSw2gNC4JQOhSMzcyKFSuQmZmJsWPHws2t/poRkydPBgC89957qKmpEWyzlvG4w6lxh1Ojz/HOovxRswowqmWCUDz0mJoZXb/woEGDGl0LCQlBWFgYsrKysHv3bkn2Y56fYop7BGF1OGj0XRVSDpqBRzyQvLw8pKeng+M4dO5suAXbtat2+cukpCTJ5axK9BGdJxOZksuzlm1bsyunbVuzK7dte4SCsRk5f/68/u9WrVoZTBMcHNworVhO3XxNVPo/nvsvCp1vSC7vQWQhi+zKbNvW7DZl27R1KWppBh7xYAoL74/r9fDwMJjG01O7bsStW7ekF1TliiERQYKTb5hTiJoK+xybSRD2AgVjM3Lnzh39346OjgbTqNVqAEB5ebnB60KJcHjDpPwEQSgLGmdsRlxcXPR/19TUwMGh8e2trq4GALi6ulrML4JQEjwYeBNewvF2OgOPgrEZCQq633VQVlYGb2/vRmnKysoAAIGBgcYNVeQKKu8vEb5VoQbFKBaRQzjVqJbFtq3ZldO2rdk1ZLsM2s++qeWVotSk/IqFEWajsLCQcRzHeJ5n58+fN5jmySefZBzHsVmzZjW6dvPmTRYcHMyg3f6WDjroaOJITU2V+5G2KNQyNiM+Pj7o3r07Tp8+jQsXLhgc3qYbRTF48OBG14KCgnD8+HFkZ2fL7itBWJqioiKkpKSgT58+JnfTeXh4oH379mbyTBlQMDYzEyZMwOnTp3Hw4EGMHTu23rXc3FykpqbCz88PcXFxBvMHBQXV6+4gCHti6NCh1nZBsdBoCjMzdepU+Pv7Y8OGDbh7t/7iPN988w0YY3j99df1oyoIgiAACsZmx8fHB2vXrkVpaSlefvll/RoUycnJWLRoERISEjB79mwre0kQhNLgGGPM2k7YI2fPnsWCBQuQlpYGV1dXlJeX47nnnsPLL78MjpO+aDxBEPYJBWPCYixZsgRvvvkmNBrzL/Ry+fJlnDp1Cvn5+Zg+fbrZ7e/duxdlZWVITExsdnYb1pu5fZa77mwGq47laAakpaWxZ555hvXo0YM9/PDDLDo6mq1atUq0nd9//50NHz6cxcbGsujoaNa3b18WFxdnkt2CggI2a9YsFhYWxhwdHZm/vz8bP34827Fjh1l8rktqaipTq9UMgNnsFhYWsrfeeouFh4ezZ555ho0YMcIk2xUVFWzJkiWsf//+rH///qxbt26sY8eOrHPnzozjODZv3jxJfjasu6FDh7KVK1eyuLg4yXaN1d3GjRtNstuQ1NRU5uLiwnieZydOnDCb7bp19/LLL7Pjx48zjUZjsr+2DAVjGUlJSWGenp5s0qRJrKamhjHG2OHDh5m7uzubOnWqYDurV69mPM+zFStW6O06OzszjuPYmjVrJNnNy8tj7du3ZxzHMWdnZ8bzPOM4Tj+Gc8SIESb5XBeNRsN69+6tt20Ou7/88gvz9fVlffv2Zb/99pvJ97m8vJzFxsayvn37stzcXFZcXMw++ugj9tRTT+n9lhKAGtZdcXExGz16NOM4jrm6ukoKbIbqTuejo6Mjc3d3N0vA1Gg0bOjQoQwA4ziOvfHGG8zLy8tk23Xr7tq1ayb5aE9QMJaJ4uJi1rp1a9aiRQtWVlZW79q8efPqBdKmOHLkCHN0dGRxcXGN7A4YMIC5uLiwS5cuibb79NNPs1GjRrErV64wxrQtlSVLlugDcufOnSX73JAPP/yQeXp66h9qU+0uW7aM8TzPHn30UZaXl2eW+/zBBx8wjuPYvn37Gl1r3749A8BeeuklwT4y1rju6jJ48GCmUqkkBTZDdbds2TLm4eHBOI4zS8BkjLEvvviCzZkzRz+RiTHGJkyYYJLtunVXVVVlkn/2BgVjmVi0aBHjOI5Nmzat0bWMjAzGcRwLCQlh1dXVTdp59NFHGcdx7Mcff2xkd926dYzjODZ+/HhRdv/66y8WExOjb0U29BkA43mepaWlSfK5LteuXWMhISH17Eq9F4wxtmXLFsZxHAsPD2fl5eVmu8+PPfYY4ziOnTlzptG1Pn36MABs3LhxD/SvLg3rri7r1q2T1OI2VneMMbZy5Ur9fTY1GF+7do317t2bVVZW1gvGzz77rGTbDeuOqA8FY5lo166d0QeRMcYeeughxnEc2759u1EbmZmZ+gchJyenkV1dsHF2dmYlJSWC7X711Vdsx44dRn3WlXns2DHRPjckPj6+yWAsxm5RURHz8fFhPM+zzZs31/PZlPvMGGPjxo1jHMexRYsWNboWGRnJAIjqTjFUd3XJyMjQB+N33nlHsF1jdceYts9b12VhajCOj49nR44cYYwxswRjQ3VH1IfGGcuAuXb8+OOPPwAA3t7eCAwMbGQ3JCQEHh4eqKysxL59+wTbnTBhAuLj44367OOj3UmkTZs2on2uy+rVq9GmTRtkZWU1OZxPqN2PP/4YxcXFCA0NRWJioll3Vhk5ciQAYMGCBfr7DmjXqE5LSwNgfMMAQzSsu4aEhITol1m9du2aYLuG6k6HWq2Gv7+/YFvGWL16NSIiIhAbG2uyLR0N645oDAVjGTDXjh+6azobhuw2tCPErm6Be2M+FxcXo2fPnggICBDts46srCwsW7YMTzzxxAPTCrX73XffAQA6deqEBQsWYNy4cWCMQaPR4IsvvsD169cl2544cSLi4+NRVlaG4cOH44svvkBaWhri4+PRqlUr0WPDG9adIXRLrorZaMBQ3emora1Ffn4+WrRoIdheQ3T19sEHH0i2YYiGdTd+/HjExsYiJiYGr7zyisG6a25QMJYBc+34obOjs2HIbkM7UncSqWtbo9Fg1qxZknzWMW3aNCxZskTQIvpC7KampiIjIwMAcPv2bYwfPx4zZswAx3HgeR4//PADoqKicPToUUk+8zyPTZs2YcSIEbh79y5effVVdOrUCS+88AL69ev3QA0NaVh3hnBycgJg+kYDOpKTk6HRaIz+ShCCrt7qrs1tKobqbsOGDThy5AjmzJmDNWvWGKy75gYFYxkw144fOju6h9aQ3YZ2pO4korPNGMOwYcMwYcIEST4DwLp16xAQEIChQ4fW89lY61KI3atXr+ptrF+/Hu3bt69n++OPP8bt27cxceLEepNKxNwPFxcXrF+/HiEhIeA4DhqNBjNnzsSVK1cemLchDevOEDyvffx0Gw6YyjfffIOhQ4ciLCxMUv669WZODNWd7v9jxozBkiVLDNZdc4OCsQw03PHDEEJ2/NDZ0aU1ZLehHak7iehsM8bwzTffSPY5NzcXixcvxieffNLIZ2ZksqcQuwUFBQAAX19ftG3btpHt8ePHw9HREdeuXdP3nwu1rSM9PR19+/bFzJkzsX37doSGhqKioqJeH7JQGtadIXSBx9gXthhSUlKQlJSEtWvXSsrfsN7MiaG6q8vEiRMN1l1zg4KxDDTc8cMQQnb8aNmyZb20huw2tCNoJxEDeHl5gTEGnufh7u4u2efp06dj3rx58PLyauSzMYTY1bVw6652V9c2Ywzh4eFgjOHs2bOibAPavtL+/fujf//+eO211xAXF4czZ85gzJgxevu6n9pCaFh3htB9obq5uQm2awjdolS//PKLvlyxNKw3c2Ko7uri5uZmsO6aGxSMZSAiIkL/982bNw2m0S0g36VLF6N2dNd0aQ3ZbWhHiN2G1NTUYOnSpfpuBFN83rRpE8aOHQue58HzPPr166d/yQZAH/B5nse8efME29W1qIqL72/Z0/B++Pr6AkC9pUuF3o+FCxciJycHr776qv6cp6cnNm7cqH8JeOTIkSZt1KVhfRhC52fDF6ViqKmpwaRJk7BgwQJERUVJttOw3uoewP16+/bbb43+wjGGobpriKG6a25QMJYB3Y4fjDFcuHDBYJqmdvzQMWDAAHAch/z8fOTn5zeym5ubi8LCQjg4OGDAgAGC7daFMYapU6di2rRpZvG5Y8eO6NSpk/6IiIho1CLSXdMNwxJit1u3bnB1dcXdu3f1LdSG9+P27dsAUK91KPR+HD58GBzHNdo9gud5REdHA9AO/xNKw7prSG5uLiorKwHA4E93IejqbvLkyRg0aJAk3hSGXAAAClZJREFUGzoa1lvdQ0enTp3g5eUlemSJobpriKG6a25QMJYJ3QuwgwcPNromZMcPQNtaiIuLA2NMb6eu3QMHDgAA4uLi4O3tLdhuXWbNmoXBgwcjMTGxkc+lpaX6MoTavnjxIi5cuFDvmDdvnv4B5jhOf/6ll14SbNfJyQmPP/44GGPYs2eP/rzO5wMHDiAzMxMcx+m/mMTcj9raWn2ehuh+uqtUqiZt1MVQ3dVFd18BwNnZWbDdutStO0OIGS5mqN50B3C/3nTdNmIwVnc6GGON6q5ZYrn5Jc2LwsJCFhAQwAIDA9mdO3fqXVu4cCHjOI4tXLhQf27Xrl2sS5cu7OOPP66X9sCBA4zneZaYmNjI7rBhw5iDgwM7fPiwaLuMMfbee++xzz//3KDP165dY2PGjNFPiRZr29C9gIG1KcTYPXfuHHNycmI9e/bUr/Cls+3j48MAsCeffFKS7TfffJNxHGdwpbfhw4czAKx///4G9Qmtu7rEx8frZzvOnTtXlF3GGtddXUaNGsUAsBkzZoi2a4i6M/B0MxXF+myo7nTs3r2bcRxXr+6aIxSMZWTnzp3M1dWVTZ48Wb82wrFjx5iXlxcbOXJkvQ9lQkIC4ziOeXp6NrIzf/58xnEcW716td6uk5MTA8D+9a9/SbKrWxTIwcGBqVQq/VF3BbCBAwdK9tnQvdDZNeVe6BaamTFjhn6hmZ9//pnxPM98fHz0U4/F2i4pKWHdu3dn/v7+bO/evfrz58+fZ46OjgwAGzRokME1IcTUHWOMrVixggFgnp6ejOM4NnToUFF2jdVdw/oTa9cYumCcn5/PgoODJfnMmOG6KyoqYr169WKRkZEsPz9fkD/2CgVjmTlz5gwbP348i4mJYf3792fR0dHs888/b9Q6WLt2LfP09DTamtmyZQsbNGgQ69u3L+vTpw/r1asXGzBggCS7P/zwg/4BM3To1pEICwszyeeG6IKEqfdiz5497LHHHmMRERFs0KBBLDY2lk2bNo2NHTvWJNt37txh8+fPZ5GRkaxTp07M3d1dfz909yYgIIA98cQTovytW3exsbHMw8NDv0awWLvG6q7u8qe6XyBS/W2IzqbufphyLwzV3dy5c2nhIMYY7fRBEAShAOgFHkEQhAKgYEwQBKEAKBgTBEEoAArGBEEQCoCCMUEQhAKgYEwQBKEAKBgTBEEoAArGBEEQCoCCMUEQhAKgYEwQBKEAKBgTBEEoAArGBEEQCoCCMUEQhAKgYEwQBKEAKBgTzYrCwkKMHTu2yc0xLc3GjRuxaNEia7tBWBkKxkSzoby8HKNHj8bcuXPh7e1tbXf0jB07FuXl5Zg/f761XSGsCAVjotkwZcoU/O1vf0NkZKS1XWnEvHnzkJSUhKSkJGu7QlgJ2umDaBZs2bIFc+fORUpKirVdMcrx48cxatQoXL58GR4eHtZ2h7Aw1DIm7B6NRoPZs2djzpw51nalSXr27ImoqCh88cUX1naFsAIUjAm7Z+vWrSgsLMTo0aOt7coDeeGFF7B06VJUVVVZ2xXCwlAwJuyetWvXIiEhASqVytquPJC4uDiUlZVh9+7d1naFsDAUjAm7prq6Gjt27MDgwYOt7Yog3Nzc0KtXL2zevNnarhAWhoIxITsLFy5E586dwfM8eJ6Hg4MDFi9eDAC4evUqXFxc9Nfatm2LjRs3mq3slJQU3LlzB927d39g2tOnT+Ppp59G7969MWTIEAwfPhyvvPIKMjIyAABpaWkYPHgwunTpgsDAQCxZsgTFxcV49dVXMXLkSHTp0gVDhgzBsWPHAAA3b97E1KlTMWLECHTo0AEDBgzAoUOHHuhHdHQ0jhw5YppwwvZgBGEhNmzYwHieZ3369Kl3fs6cOSw8PJwdOHDA7GWuWrWKcRzHSkpKmkz33XffMbVazRYuXKg/V1lZyQYMGMDatm3LampqWGlpKUtKSmJjxoxhHMexuXPnsokTJ7Lr168zxhirrq5mvXr1Yt7e3uzChQts3LhxLDs7mzHGWFVVFevZsydzd3dnWVlZTfry6aefMicnJ1ZTU2OiesKWoGBMWJTXX3+dcRzHVq5cyRhjrLy8nPXr14/duHFDlvLeffddxvN8k2lOnjzJnJycWEJCQqPzHMcxlUrFioqK9Od3797NOI5jLVu2ZMePH6+XZ+HChYzjONa2bVt9kNbxwQcf1NNujP/85z+M47hG+Qn7xsHaLXOiebFw4ULs378fM2fOxCOPPIKPPvoIb7/9NkJDQ2Upr6io6IGz7ebPn4/q6mo8//zz9c736NEDq1atgq+vbz0buheBrVu3RkxMTL08/v7+ALTD1Nq0aVPvWkBAAADg1q1bTfrj5uYGACgpKWkyHWFfUJ8xYVEcHR3x448/wsHBAYMHD4afnx8SEhJkK6+iogLu7u5Gr2s0Gmzbtg0cxyEqKqrR9SlTpuDxxx83mLdDhw6NzukCdceOHY1eq62tbdJntVoNACgrK2syHWFfUDAmLE54eDj++c9/4tatW7h7966sZTk7Ozc5ZjcvLw/V1dUAAB8fH1G2nZycJF17EBUVFQC0vhPNBwrGhMUpLy/Hr7/+isTERHz55ZfYunWrbGX5+vo22cL08/MDz2sfg6KiItn8EIPOX7FfDoRtQ8GYsDgvvfQS3nnnHaxbtw5hYWGYMmUKsrOzZSkrLCwM5eXlKC0tNXjdwcEBw4YNA2MMR48eNZgmKysL6enpsvhnrDye59G6dWuLlUlYHwrGhEX5+uuvERAQgMceewweHh74/vvvUVxcjEmTJslSXrdu3QBoxzMbY+7cuVCpVPjyyy+NXrckV69eRceOHeHgQO/XmxMUjAmLUFVVhc8++wwvvvgi/va3v+nPx8bGYsqUKdizZw/ee+89s5cbFRUFNzc3nDhxwmiavn37Yvny5Th27BimT5+u77PVaDRYunQpAgMDER4erk9/+/btev/WRXfO0EiIpq7VJSUlBQ8//PADlBF2h7XH1hH2z7Rp05iPjw/jOI7xPM8GDhyov5aUlMRcXV0Zz/OM4zjWpk0b9vTTT5u1/PHjx7O///3vD0yXnJzMnnrqKda5c2c2ePBglpCQwL799lv99cuXL7PY2Fjm5uam97dr165s9erV7NixY6xXr15MrVYznueZSqViUVFRbMOGDWz//v2sZ8+eBq81pLS0lKnVarZ582az3gNC+dB6xoTd89tvv+HZZ59FTk6O4n/6b9y4ES+++CKysrJMGpFB2B7UTUHYPQkJCQgMDDTrmhdysXLlSkyfPp0CcTOEWsZEs2Dr1q149913cfr0aXAcZ213DHL06FE88cQTuHTpEu300QyhljHRLEhMTETnzp2xbNkya7tikNraWsycORPLli2jQNxMoZYx0WwoLy/H8OHDsWzZMvTo0cPa7tTj3XffhYODA+bNm2dtVwgrQS1jotng5uaG3377DfPnz1fUIjybNm2Cs7MzBeJmDrWMCYIgFAC1jAmCIBQABWOCIAgFQMGYIAhCAVAwJgiCUAAUjAmCIBTA/weI70nLxjyJJgAAAABJRU5ErkJggg==\"><br>"
       ],
       "metadata": {},
       "output_type": "display_data",
       "text": [
        "<yt.visualization.plot_window.AxisAlignedSlicePlot at 0x11b551390>"
       ]
      }
     ],
     "prompt_number": 55
    },
    {
     "cell_type": "code",
     "collapsed": false,
     "input": [],
     "language": "python",
     "metadata": {},
     "outputs": [],
     "prompt_number": 25
    },
    {
     "cell_type": "code",
     "collapsed": false,
     "input": [],
     "language": "python",
     "metadata": {},
     "outputs": [],
     "prompt_number": 44
    }
   ],
   "metadata": {}
  }
 ]
}