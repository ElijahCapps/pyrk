{
 "metadata": {
  "name": ""
 },
 "nbformat": 3,
 "nbformat_minor": 0,
 "worksheets": [
  {
   "cells": [
    {
     "cell_type": "markdown",
     "metadata": {},
     "source": [
      "# Building a Mesh of the PBFHR\n",
      "\n",
      "The PBFHR design document will define the dimensions for mesh generation of the core of the PBFHR. This mesh and the materials described will be used to inform Serpent, MCNP, and MOOSE analyses of the PBFHR neutronics."
     ]
    },
    {
     "cell_type": "code",
     "collapsed": false,
     "input": [
      "import numpy as np\n",
      "from pyne import mesh, material \n",
      "from pyne.xs.channels import sigma_t\n",
      "from yt.config import ytcfg; ytcfg[\"yt\",\"suppressStreamLogging\"] = \"True\"\n",
      "from yt.mods import *\n",
      "from reactor_element import *"
     ],
     "language": "python",
     "metadata": {},
     "outputs": [],
     "prompt_number": 1
    },
    {
     "cell_type": "code",
     "collapsed": false,
     "input": [
      "def in_sphere(coord, radius, position):\n",
      "    x0=position[0]\n",
      "    y0=position[1]\n",
      "    z0=position[2]\n",
      "    rsq = (coord[0]-x0)**2 + (coord[1]-y0)**2 + (coord[2]-z0)**2\n",
      "    if (rsq <= radius**2):\n",
      "        return True\n",
      "    else:\n",
      "        return False\n",
      "    \n",
      "def add_sphere(m, radius, position, material):\n",
      "    for i, mat, ve in m:\n",
      "        coord = m.mesh.getVtxCoords(ve)\n",
      "        if in_sphere(coord,radius,position):\n",
      "            m.mats[i] = material "
     ],
     "language": "python",
     "metadata": {},
     "outputs": [],
     "prompt_number": 2
    },
    {
     "cell_type": "markdown",
     "metadata": {},
     "source": [
      "## Core Geometry\n",
      "\n",
      "The vessel has :\n",
      "\n",
      "* an outer graphite reflector, \n",
      "* an annular core full of pebbles, \n",
      "* salt, and control elements, \n",
      "* and a central cylindrical reflector.\n",
      "\n",
      "For simplicity, the mesh will represent the reactor vessel as a cube. The outer reflector blocks will occupy the space outside the cylindrical core. The core has five regions. From the bottom up, there is a fuelling chute, an expasion region, the core, the compression region, and a defuelling chute. All are full of pebbles and salt."
     ]
    },
    {
     "cell_type": "markdown",
     "metadata": {},
     "source": [
      "## Material 1 : Flibe \n",
      "\n",
      "\"A key issue for the use of flibe is the requirement to use lithium that has been enriched from the natural concentration of 92.4% to approximately 99.995% 7Li. The U.S. ceased production of enriched lithium in the 1960s after producing a large inventory of 6Li and a smaller inventory of 7Li.\"\n",
      "\n",
      "\n",
      "### Isotopic Composition\n",
      "\n",
      "The composition of the flibe coolant is Li2 Be F4 with 99.995% enriched 7Li. \n",
      "\n",
      "* That means 7Li= 99.995% and 6Li=0.005%\n",
      "* F natural abundance = 100% 19F\n",
      "* Be natural abundance = 100% 9Be\n",
      "\n",
      "\n",
      "### From Yousry Gohar ( http://aries.ucsd.edu/LIB/MEETINGS/0103-TRANSMUT/gohar/Gohar-present.pdf ): \n",
      "\n",
      "Physical Properties \n",
      "\n",
      "* Melting point, \u00b0C 459.1 \n",
      "* Thermal conductivity, W/cm. \u00b0C 0.010 \n",
      "* Viscosity, centipoises 0.116 exp [3755/T(\u00b0k)] \n",
      "* Electrical conductivity at 500 , ohm-1cm-1 9.2 10-3 \n",
      "* Heat capacity, cal/g. \u00b0C 0.57 \n",
      "* Density, g/cm3 2.214 - 4.2 x 10-4 T(\u00b0C) \n"
     ]
    },
    {
     "cell_type": "code",
     "collapsed": false,
     "input": [
      "flibe = material.from_atom_frac({'F19': 2./3., \n",
      "                                 'Li6': 0.00005/3., \n",
      "                                 'Li7': 0.99995/3., \n",
      "                                 'Be9':1./6.}, \n",
      "                                mass=1.0, \n",
      "                                density=2.214)"
     ],
     "language": "python",
     "metadata": {},
     "outputs": [],
     "prompt_number": 3
    },
    {
     "cell_type": "markdown",
     "metadata": {},
     "source": [
      "## Fuel\n",
      "\n",
      "The fuel is a composite material made of triso pebbles. The composite material composition depends heavily on the triso packing density and the enrichment of the uranium. \n",
      "\n",
      "The canonical makeup of the Triso kernels is $$UC_{0.5}O_{1.5}$$. The kernels are embedded in a graphite matrix. The fuel and graphite matrix exists in an annular shell around a pure graphite core.\n",
      "\n",
      "\n",
      "### From PB-FHR-DESIGN-CALC-002-00-Reactivity-Effect-Flibe-Impurities.pdf\n",
      "\n",
      "> The FHR pebble unit cell transport model is composed of 3cm OD TRISO\n",
      "> pebbles in a BCC lattice with mirror reflection and 40% flibe by volume.\n",
      "> The 500\u03bcm OD fuel kernels are composed of UO1.5C0.5 enriched to 19.9%\n",
      "> 235U. Kernels are spaced to bring about a 300 carbon-to-heavy-metal\n",
      "> atomic ratio within the pebble. All material cross-sections are\n",
      "> broadened to 900K except the graphite thermal scattering kernels, which\n",
      "> are broadened to 1000K. 6Li is depleted to 50wppm on a lithium mass\n",
      "> basis within the flibe. The MCNP input file for the clean salt is\n",
      "> included in Appendix A.\n",
      "\n"
     ]
    },
    {
     "cell_type": "markdown",
     "metadata": {},
     "source": [
      "### Pebble Geometry\n",
      "\n",
      "The pebbles are 3.0 cm in diameter. "
     ]
    },
    {
     "cell_type": "code",
     "collapsed": false,
     "input": [
      "d_pebble = 0.3 # [m]\n",
      "r_pebble = d_pebble/2. # [m]"
     ],
     "language": "python",
     "metadata": {},
     "outputs": [],
     "prompt_number": 4
    },
    {
     "cell_type": "markdown",
     "metadata": {},
     "source": [
      "### CHM \n",
      "\n",
      "The carbon to heavy metal atomic ratio is taken to be about 300. In many of Tommy's calculations, it is 300.8.\n",
      "\n"
     ]
    },
    {
     "cell_type": "code",
     "collapsed": false,
     "input": [
      "chm = 300.8 # [carbon atoms / heavy metal atoms]"
     ],
     "language": "python",
     "metadata": {},
     "outputs": [],
     "prompt_number": 5
    },
    {
     "cell_type": "markdown",
     "metadata": {},
     "source": [
      "\n",
      "### Kernel Diameter \n",
      "\n",
      "$$d_{kernel} = [400,500] \\mu m$$\n"
     ]
    },
    {
     "cell_type": "code",
     "collapsed": false,
     "input": [
      "d_kernel_um = 500 # [micrometers]\n",
      "d_kernel = d_kernel_um*1e-6 # [m]\n",
      "r_kernel = d_kernel/2. # [m]"
     ],
     "language": "python",
     "metadata": {},
     "outputs": [],
     "prompt_number": 6
    },
    {
     "cell_type": "markdown",
     "metadata": {},
     "source": [
      "\n",
      "### Pebble lattice\n",
      "\n",
      "The pebbles are in a BCC lattice with 40% flibe volume fraction."
     ]
    },
    {
     "cell_type": "code",
     "collapsed": false,
     "input": [
      "#d_core=20\n",
      "#distance=d_pebble\n",
      "#N=(d_core/distance)**2 \n",
      "#import bcc\n",
      "#points = bcc.lattice_points(int(N))\n",
      "#basis = bcc.unit_vectors_BCC(distance)\n",
      "#locations = bcc.atom_locations(basis, points)"
     ],
     "language": "python",
     "metadata": {},
     "outputs": [],
     "prompt_number": 7
    },
    {
     "cell_type": "code",
     "collapsed": false,
     "input": [
      "fuel = material.from_atom_frac({'U235': 0.045, \n",
      "                                'U238': 0.955, \n",
      "                                'O16': 2.0}, \n",
      "                               mass=1.0, \n",
      "                               density=10.7)"
     ],
     "language": "python",
     "metadata": {},
     "outputs": [],
     "prompt_number": 8
    },
    {
     "cell_type": "code",
     "collapsed": false,
     "input": [
      "graphite = material.from_atom_frac({'C12': 0.989, \n",
      "                                    'C13': 0.011}, \n",
      "                                   mass=1.0, \n",
      "                                   density=2.267)"
     ],
     "language": "python",
     "metadata": {},
     "outputs": [],
     "prompt_number": 9
    },
    {
     "cell_type": "code",
     "collapsed": false,
     "input": [
      "m = mesh.Mesh(structured_coords=[np.linspace(0.0, 1.0, 101), np.linspace(0.0, 1.0, 101), [0.0, 1.0]], structured=True)\n",
      "graphite = material.from_atom_frac({'C12': 0.989, 'C13': 0.011}, mass=1.0, density=2.267)\n",
      "for i, mat, ve in m:\n",
      "    m.mats[i] = flibe"
     ],
     "language": "python",
     "metadata": {},
     "outputs": [],
     "prompt_number": 10
    },
    {
     "cell_type": "code",
     "collapsed": false,
     "input": [
      "pebble_core = Sphere(0.1, [0.5,0.5,0.5])"
     ],
     "language": "python",
     "metadata": {},
     "outputs": [],
     "prompt_number": 11
    },
    {
     "cell_type": "code",
     "collapsed": false,
     "input": [
      "pebble_core.add_element(m, fuel)"
     ],
     "language": "python",
     "metadata": {},
     "outputs": [],
     "prompt_number": 12
    },
    {
     "cell_type": "code",
     "collapsed": false,
     "input": [
      "pebble_core = Sphere(0.08, [0.5,0.5,0.5])\n",
      "pebble_core.add_element(m, graphite)"
     ],
     "language": "python",
     "metadata": {},
     "outputs": [],
     "prompt_number": 15
    },
    {
     "cell_type": "code",
     "collapsed": false,
     "input": [
      "m.sigma_t = mesh.ComputedTag(lambda mesh, i: sigma_t(mesh.mats[i], group_struct=[10.0, 1e-6], phi_g=[1.0])[0])\n",
      "m.u_mass = mesh.ComputedTag(lambda mesh, i: max(mesh.mats[i]['U':'Np'].mass, 0.0))\n",
      "SlicePlot(PyneMoabHex8StaticOutput(m), 'z', 'sigma_t', origin='native').display()\n",
      "print \"Pu Content of Mesh:\", sum(m.u_mass[:])"
     ],
     "language": "python",
     "metadata": {},
     "outputs": [
      {
       "html": [
        "<img src=\"data:image/png;base64,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\"><br>"
       ],
       "metadata": {},
       "output_type": "display_data",
       "text": [
        "<yt.visualization.plot_window.AxisAlignedSlicePlot at 0x1144a4050>"
       ]
      },
      {
       "output_type": "stream",
       "stream": "stdout",
       "text": [
        "Pu Content of Mesh: "
       ]
      },
      {
       "output_type": "stream",
       "stream": "stdout",
       "text": [
        "95.1995791038\n"
       ]
      }
     ],
     "prompt_number": 16
    },
    {
     "cell_type": "code",
     "collapsed": false,
     "input": [],
     "language": "python",
     "metadata": {},
     "outputs": []
    },
    {
     "cell_type": "code",
     "collapsed": false,
     "input": [],
     "language": "python",
     "metadata": {},
     "outputs": []
    }
   ],
   "metadata": {}
  }
 ]
}